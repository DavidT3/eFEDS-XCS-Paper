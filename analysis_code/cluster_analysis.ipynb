{
 "cells": [
  {
   "cell_type": "markdown",
   "metadata": {},
   "source": [
    "# General Analysis for the eFEDS-XCS Paper"
   ]
  },
  {
   "cell_type": "markdown",
   "metadata": {},
   "source": [
    "In this notebook we perform all of the analysis required for the eFEDS-XCS comparison paper, including generating many of the figures and tables in the paper. This analysis includes comparing eFEDS distributions to XXL measured distributions, measuring XMM temperatures and luminosities for clusters in the eFEDS-XCS sample, and fitting luminosity-temperature relations (both using XMM and eFEDS data).\n",
    "\n",
    "The sample which we analyse in this notebook (eFEDS-XCS), only contains candidates that we consider to be galaxy clusters, and that have a high enough quality of XMM observation (more information is supplied in the paper). The sources in the eFEDS-XMM and eFEDS-XCS samples are detailed in the 'efeds_xmm.csv' and 'efeds_xcs.csv' files, and the 'excluded_cands.csv' file contains further information about which eFEDS-XMM candidates were not included in the final sample and why.\n",
    "\n",
    "We attempt to present the code in the same order that results are presented in the paper. Any enquires about specific parts of the analysis are welcome, please contact me (D.J. Turner) at the email address provided in the paper."
   ]
  },
  {
   "cell_type": "markdown",
   "metadata": {},
   "source": [
    "## Import Statements"
   ]
  },
  {
   "cell_type": "code",
   "execution_count": 1,
   "metadata": {},
   "outputs": [],
   "source": [
    "import pandas as pd\n",
    "from astropy.units import Quantity\n",
    "from astropy.cosmology import LambdaCDM\n",
    "from matplotlib import pyplot as plt\n",
    "from matplotlib.ticker import FuncFormatter\n",
    "import numpy as np\n",
    "import scipy.odr as odr\n",
    "from tqdm import tqdm\n",
    "from copy import deepcopy\n",
    "\n",
    "import xga\n",
    "from xga.samples.extended import ClusterSample\n",
    "from xga.sources import GalaxyCluster\n",
    "from xga.xspec import single_temp_apec\n",
    "from xga.sas import eexpmap, emosaic\n",
    "from xga.relations.fit import scaling_relation_lira, _fit_initialise\n",
    "from xga.sourcetools.match import simple_xmm_match\n",
    "from xga.models import straight_line, convert_to_odr_compatible, power_law\n",
    "from xga import CENSUS, XSPEC_VERSION, SAS_VERSION\n",
    "from xga.exceptions import ModelNotAssociatedError\n",
    "from xga.products.relation import ScalingRelation"
   ]
  },
  {
   "cell_type": "markdown",
   "metadata": {},
   "source": [
    "## Confirming software versions"
   ]
  },
  {
   "cell_type": "markdown",
   "metadata": {},
   "source": [
    "Here we display the software versions used in this analysis:"
   ]
  },
  {
   "cell_type": "code",
   "execution_count": 2,
   "metadata": {},
   "outputs": [
    {
     "name": "stdout",
     "output_type": "stream",
     "text": [
      "Using SAS v17.0.0\n",
      "Using XSPEC v12.10.1\n"
     ]
    }
   ],
   "source": [
    "print(\"Using SAS v{}\".format(SAS_VERSION))\n",
    "print(\"Using XSPEC v{}\".format(XSPEC_VERSION))"
   ]
  },
  {
   "cell_type": "markdown",
   "metadata": {},
   "source": [
    "## Setting up the cosmology to use"
   ]
  },
  {
   "cell_type": "markdown",
   "metadata": {},
   "source": [
    "As stated in the introduction of the paper, we use a concordance ΛCDM cosmology where Ω$_\\rm{M}$=0.3, Ω$_\\rm{Λ}$=0.7, and H$_0$=70 km s$^{−1}$Mpc$^{−1}$, consistent with the original eFEDS cluster analysis (and other XCS works)"
   ]
  },
  {
   "cell_type": "code",
   "execution_count": 3,
   "metadata": {},
   "outputs": [],
   "source": [
    "cosmo = LambdaCDM(70, 0.3, 0.7)"
   ]
  },
  {
   "cell_type": "markdown",
   "metadata": {},
   "source": [
    "## Loading the samples"
   ]
  },
  {
   "cell_type": "markdown",
   "metadata": {},
   "source": [
    "In this section we load the various samples required for this analysis:"
   ]
  },
  {
   "cell_type": "markdown",
   "metadata": {},
   "source": [
    "### Reading in the XXL-100-GC catalogue"
   ]
  },
  {
   "cell_type": "markdown",
   "metadata": {},
   "source": [
    "This is the catalogue of the brightest 100 clusters detected by the XXL survey, and is publically [available on VizieR](https://vizier.u-strasbg.fr/viz-bin/VizieR-3?-source=IX/49/xxl100gc&-out.max=50&-out.form=HTML%20Table&-out.add=_r&-out.add=_RAJ,_DEJ&-sort=_r&-oc.form=sexa). It contains positional and redshift information, as long as XXL measured temperatures and luminosities. We only take clusters with the flag value equal to zero, which means that the cluster was in the original sample of 100 brightest clusters in XXL paper II, table D."
   ]
  },
  {
   "cell_type": "code",
   "execution_count": 4,
   "metadata": {
    "scrolled": true
   },
   "outputs": [
    {
     "data": {
      "text/html": [
       "<div>\n",
       "<style scoped>\n",
       "    .dataframe tbody tr th:only-of-type {\n",
       "        vertical-align: middle;\n",
       "    }\n",
       "\n",
       "    .dataframe tbody tr th {\n",
       "        vertical-align: top;\n",
       "    }\n",
       "\n",
       "    .dataframe thead th {\n",
       "        text-align: right;\n",
       "    }\n",
       "</style>\n",
       "<table border=\"1\" class=\"dataframe\">\n",
       "  <thead>\n",
       "    <tr style=\"text-align: right;\">\n",
       "      <th></th>\n",
       "      <th>XLSSC</th>\n",
       "      <th>RAJ2000</th>\n",
       "      <th>DEJ2000</th>\n",
       "      <th>z</th>\n",
       "      <th>Ngal</th>\n",
       "      <th>C60</th>\n",
       "      <th>F60</th>\n",
       "      <th>e_F60</th>\n",
       "      <th>Ez</th>\n",
       "      <th>r500MT</th>\n",
       "      <th>...</th>\n",
       "      <th>LXXL300kpc</th>\n",
       "      <th>e_LXXL300kpc</th>\n",
       "      <th>Lbol500MT</th>\n",
       "      <th>e_Lbol500MT</th>\n",
       "      <th>M500MT</th>\n",
       "      <th>e_M500MT</th>\n",
       "      <th>Mgas500</th>\n",
       "      <th>e_Mgas500</th>\n",
       "      <th>Flag</th>\n",
       "      <th>Simbad</th>\n",
       "    </tr>\n",
       "  </thead>\n",
       "  <tbody>\n",
       "    <tr>\n",
       "      <th>0</th>\n",
       "      <td>94</td>\n",
       "      <td>30.648</td>\n",
       "      <td>-6.732</td>\n",
       "      <td>0.886</td>\n",
       "      <td>3</td>\n",
       "      <td>199</td>\n",
       "      <td>4.82</td>\n",
       "      <td>0.44</td>\n",
       "      <td>1.62</td>\n",
       "      <td>0.74</td>\n",
       "      <td>...</td>\n",
       "      <td>19.85</td>\n",
       "      <td>1.71</td>\n",
       "      <td>62.01</td>\n",
       "      <td>5.35</td>\n",
       "      <td>NaN</td>\n",
       "      <td>NaN</td>\n",
       "      <td>1.61</td>\n",
       "      <td>0.59</td>\n",
       "      <td>0</td>\n",
       "      <td>Simbad</td>\n",
       "    </tr>\n",
       "    <tr>\n",
       "      <th>1</th>\n",
       "      <td>96</td>\n",
       "      <td>30.973</td>\n",
       "      <td>-5.027</td>\n",
       "      <td>0.520</td>\n",
       "      <td>6</td>\n",
       "      <td>161</td>\n",
       "      <td>3.64</td>\n",
       "      <td>0.39</td>\n",
       "      <td>1.31</td>\n",
       "      <td>1.00</td>\n",
       "      <td>...</td>\n",
       "      <td>3.77</td>\n",
       "      <td>0.40</td>\n",
       "      <td>16.05</td>\n",
       "      <td>1.71</td>\n",
       "      <td>48.0</td>\n",
       "      <td>31.0</td>\n",
       "      <td>2.02</td>\n",
       "      <td>0.74</td>\n",
       "      <td>0</td>\n",
       "      <td>Simbad</td>\n",
       "    </tr>\n",
       "    <tr>\n",
       "      <th>2</th>\n",
       "      <td>102</td>\n",
       "      <td>31.322</td>\n",
       "      <td>-4.652</td>\n",
       "      <td>0.969</td>\n",
       "      <td>3</td>\n",
       "      <td>199</td>\n",
       "      <td>4.20</td>\n",
       "      <td>0.36</td>\n",
       "      <td>1.69</td>\n",
       "      <td>0.57</td>\n",
       "      <td>...</td>\n",
       "      <td>13.31</td>\n",
       "      <td>1.41</td>\n",
       "      <td>33.56</td>\n",
       "      <td>3.56</td>\n",
       "      <td>19.0</td>\n",
       "      <td>11.0</td>\n",
       "      <td>2.23</td>\n",
       "      <td>0.71</td>\n",
       "      <td>0</td>\n",
       "      <td>Simbad</td>\n",
       "    </tr>\n",
       "    <tr>\n",
       "      <th>3</th>\n",
       "      <td>106</td>\n",
       "      <td>31.351</td>\n",
       "      <td>-5.732</td>\n",
       "      <td>0.300</td>\n",
       "      <td>14</td>\n",
       "      <td>681</td>\n",
       "      <td>9.13</td>\n",
       "      <td>0.39</td>\n",
       "      <td>1.16</td>\n",
       "      <td>0.86</td>\n",
       "      <td>...</td>\n",
       "      <td>3.16</td>\n",
       "      <td>0.15</td>\n",
       "      <td>10.48</td>\n",
       "      <td>0.49</td>\n",
       "      <td>24.0</td>\n",
       "      <td>11.0</td>\n",
       "      <td>2.15</td>\n",
       "      <td>0.50</td>\n",
       "      <td>0</td>\n",
       "      <td>Simbad</td>\n",
       "    </tr>\n",
       "    <tr>\n",
       "      <th>4</th>\n",
       "      <td>107</td>\n",
       "      <td>31.354</td>\n",
       "      <td>-7.594</td>\n",
       "      <td>0.436</td>\n",
       "      <td>3</td>\n",
       "      <td>263</td>\n",
       "      <td>5.58</td>\n",
       "      <td>0.41</td>\n",
       "      <td>1.25</td>\n",
       "      <td>0.71</td>\n",
       "      <td>...</td>\n",
       "      <td>3.82</td>\n",
       "      <td>0.32</td>\n",
       "      <td>10.33</td>\n",
       "      <td>0.88</td>\n",
       "      <td>15.9</td>\n",
       "      <td>7.6</td>\n",
       "      <td>1.14</td>\n",
       "      <td>0.35</td>\n",
       "      <td>0</td>\n",
       "      <td>Simbad</td>\n",
       "    </tr>\n",
       "    <tr>\n",
       "      <th>5</th>\n",
       "      <td>100</td>\n",
       "      <td>31.549</td>\n",
       "      <td>-6.193</td>\n",
       "      <td>0.915</td>\n",
       "      <td>6</td>\n",
       "      <td>124</td>\n",
       "      <td>3.55</td>\n",
       "      <td>0.52</td>\n",
       "      <td>1.64</td>\n",
       "      <td>0.69</td>\n",
       "      <td>...</td>\n",
       "      <td>11.12</td>\n",
       "      <td>2.50</td>\n",
       "      <td>32.42</td>\n",
       "      <td>7.28</td>\n",
       "      <td>26.0</td>\n",
       "      <td>18.0</td>\n",
       "      <td>1.73</td>\n",
       "      <td>0.50</td>\n",
       "      <td>0</td>\n",
       "      <td>Simbad</td>\n",
       "    </tr>\n",
       "    <tr>\n",
       "      <th>6</th>\n",
       "      <td>93</td>\n",
       "      <td>31.699</td>\n",
       "      <td>-6.948</td>\n",
       "      <td>0.429</td>\n",
       "      <td>6</td>\n",
       "      <td>418</td>\n",
       "      <td>7.23</td>\n",
       "      <td>0.41</td>\n",
       "      <td>1.24</td>\n",
       "      <td>0.81</td>\n",
       "      <td>...</td>\n",
       "      <td>4.75</td>\n",
       "      <td>0.31</td>\n",
       "      <td>14.91</td>\n",
       "      <td>0.96</td>\n",
       "      <td>23.0</td>\n",
       "      <td>11.0</td>\n",
       "      <td>2.48</td>\n",
       "      <td>0.60</td>\n",
       "      <td>0</td>\n",
       "      <td>Simbad</td>\n",
       "    </tr>\n",
       "    <tr>\n",
       "      <th>7</th>\n",
       "      <td>108</td>\n",
       "      <td>31.832</td>\n",
       "      <td>-4.827</td>\n",
       "      <td>0.254</td>\n",
       "      <td>4</td>\n",
       "      <td>451</td>\n",
       "      <td>6.16</td>\n",
       "      <td>0.34</td>\n",
       "      <td>1.13</td>\n",
       "      <td>0.70</td>\n",
       "      <td>...</td>\n",
       "      <td>1.49</td>\n",
       "      <td>0.10</td>\n",
       "      <td>3.86</td>\n",
       "      <td>0.26</td>\n",
       "      <td>12.7</td>\n",
       "      <td>5.6</td>\n",
       "      <td>0.52</td>\n",
       "      <td>0.10</td>\n",
       "      <td>0</td>\n",
       "      <td>Simbad</td>\n",
       "    </tr>\n",
       "    <tr>\n",
       "      <th>8</th>\n",
       "      <td>95</td>\n",
       "      <td>31.962</td>\n",
       "      <td>-5.206</td>\n",
       "      <td>0.138</td>\n",
       "      <td>12</td>\n",
       "      <td>141</td>\n",
       "      <td>3.09</td>\n",
       "      <td>0.32</td>\n",
       "      <td>1.06</td>\n",
       "      <td>0.45</td>\n",
       "      <td>...</td>\n",
       "      <td>0.15</td>\n",
       "      <td>0.03</td>\n",
       "      <td>0.24</td>\n",
       "      <td>0.04</td>\n",
       "      <td>2.9</td>\n",
       "      <td>1.3</td>\n",
       "      <td>0.03</td>\n",
       "      <td>0.01</td>\n",
       "      <td>0</td>\n",
       "      <td>Simbad</td>\n",
       "    </tr>\n",
       "    <tr>\n",
       "      <th>9</th>\n",
       "      <td>92</td>\n",
       "      <td>32.071</td>\n",
       "      <td>-7.276</td>\n",
       "      <td>0.432</td>\n",
       "      <td>3</td>\n",
       "      <td>166</td>\n",
       "      <td>3.14</td>\n",
       "      <td>0.33</td>\n",
       "      <td>1.24</td>\n",
       "      <td>0.77</td>\n",
       "      <td>...</td>\n",
       "      <td>2.11</td>\n",
       "      <td>0.24</td>\n",
       "      <td>6.24</td>\n",
       "      <td>0.70</td>\n",
       "      <td>20.0</td>\n",
       "      <td>11.0</td>\n",
       "      <td>1.39</td>\n",
       "      <td>0.39</td>\n",
       "      <td>0</td>\n",
       "      <td>Simbad</td>\n",
       "    </tr>\n",
       "  </tbody>\n",
       "</table>\n",
       "<p>10 rows × 23 columns</p>\n",
       "</div>"
      ],
      "text/plain": [
       "   XLSSC  RAJ2000  DEJ2000      z  Ngal  C60   F60  e_F60    Ez  r500MT  ...  \\\n",
       "0     94   30.648   -6.732  0.886     3  199  4.82   0.44  1.62    0.74  ...   \n",
       "1     96   30.973   -5.027  0.520     6  161  3.64   0.39  1.31    1.00  ...   \n",
       "2    102   31.322   -4.652  0.969     3  199  4.20   0.36  1.69    0.57  ...   \n",
       "3    106   31.351   -5.732  0.300    14  681  9.13   0.39  1.16    0.86  ...   \n",
       "4    107   31.354   -7.594  0.436     3  263  5.58   0.41  1.25    0.71  ...   \n",
       "5    100   31.549   -6.193  0.915     6  124  3.55   0.52  1.64    0.69  ...   \n",
       "6     93   31.699   -6.948  0.429     6  418  7.23   0.41  1.24    0.81  ...   \n",
       "7    108   31.832   -4.827  0.254     4  451  6.16   0.34  1.13    0.70  ...   \n",
       "8     95   31.962   -5.206  0.138    12  141  3.09   0.32  1.06    0.45  ...   \n",
       "9     92   32.071   -7.276  0.432     3  166  3.14   0.33  1.24    0.77  ...   \n",
       "\n",
       "   LXXL300kpc  e_LXXL300kpc  Lbol500MT  e_Lbol500MT  M500MT  e_M500MT  \\\n",
       "0       19.85          1.71      62.01         5.35     NaN       NaN   \n",
       "1        3.77          0.40      16.05         1.71    48.0      31.0   \n",
       "2       13.31          1.41      33.56         3.56    19.0      11.0   \n",
       "3        3.16          0.15      10.48         0.49    24.0      11.0   \n",
       "4        3.82          0.32      10.33         0.88    15.9       7.6   \n",
       "5       11.12          2.50      32.42         7.28    26.0      18.0   \n",
       "6        4.75          0.31      14.91         0.96    23.0      11.0   \n",
       "7        1.49          0.10       3.86         0.26    12.7       5.6   \n",
       "8        0.15          0.03       0.24         0.04     2.9       1.3   \n",
       "9        2.11          0.24       6.24         0.70    20.0      11.0   \n",
       "\n",
       "   Mgas500  e_Mgas500  Flag  Simbad  \n",
       "0     1.61       0.59     0  Simbad  \n",
       "1     2.02       0.74     0  Simbad  \n",
       "2     2.23       0.71     0  Simbad  \n",
       "3     2.15       0.50     0  Simbad  \n",
       "4     1.14       0.35     0  Simbad  \n",
       "5     1.73       0.50     0  Simbad  \n",
       "6     2.48       0.60     0  Simbad  \n",
       "7     0.52       0.10     0  Simbad  \n",
       "8     0.03       0.01     0  Simbad  \n",
       "9     1.39       0.39     0  Simbad  \n",
       "\n",
       "[10 rows x 23 columns]"
      ]
     },
     "execution_count": 4,
     "metadata": {},
     "output_type": "execute_result"
    }
   ],
   "source": [
    "xxl = pd.read_csv(\"sample_files/xxl_gc100.csv\")\n",
    "xxl = xxl[xxl['Flag'] == 0]\n",
    "xxl.head(10)"
   ]
  },
  {
   "cell_type": "markdown",
   "metadata": {},
   "source": [
    "### Reading in the eFEDS X-ray cluster candidate catalogue"
   ]
  },
  {
   "cell_type": "markdown",
   "metadata": {},
   "source": [
    "We read in the eFEDS X-ray cluster candidate catalogue that is [available here](https://erosita.mpe.mpg.de/edr/eROSITAObservations/Catalogues/liuA/eFEDS_clusters_V3.fits.gz), though we have converted the file to a csv for convenience. We also alter the resulting table so that it contains $\\pm$ uncertainties on $T_{\\rm{X}}$ and $L_{\\rm{X}}$ measurements, rather than just confidence limits, this makes plotting and fitting easier later on in the analysis. Finally we add a 'name' column based around the 'ID_SRC' values, as the source names in the 'ID' column are not necessarily consistent between the X-ray cluster candidate and optical counterpart catalogues."
   ]
  },
  {
   "cell_type": "code",
   "execution_count": 5,
   "metadata": {},
   "outputs": [
    {
     "data": {
      "text/html": [
       "<div>\n",
       "<style scoped>\n",
       "    .dataframe tbody tr th:only-of-type {\n",
       "        vertical-align: middle;\n",
       "    }\n",
       "\n",
       "    .dataframe tbody tr th {\n",
       "        vertical-align: top;\n",
       "    }\n",
       "\n",
       "    .dataframe thead th {\n",
       "        text-align: right;\n",
       "    }\n",
       "</style>\n",
       "<table border=\"1\" class=\"dataframe\">\n",
       "  <thead>\n",
       "    <tr style=\"text-align: right;\">\n",
       "      <th></th>\n",
       "      <th>ID</th>\n",
       "      <th>ID_SRC</th>\n",
       "      <th>RA</th>\n",
       "      <th>DEC</th>\n",
       "      <th>EXT_LIKE</th>\n",
       "      <th>DET_LIKE</th>\n",
       "      <th>z</th>\n",
       "      <th>z_type</th>\n",
       "      <th>T_300kpc</th>\n",
       "      <th>T_300kpc_L</th>\n",
       "      <th>...</th>\n",
       "      <th>L_300kpc+</th>\n",
       "      <th>Lbol_300kpc-</th>\n",
       "      <th>Lbol_300kpc+</th>\n",
       "      <th>T_500kpc-</th>\n",
       "      <th>T_500kpc+</th>\n",
       "      <th>L_500kpc-</th>\n",
       "      <th>L_500kpc+</th>\n",
       "      <th>Lbol_500kpc-</th>\n",
       "      <th>Lbol_500kpc+</th>\n",
       "      <th>name</th>\n",
       "    </tr>\n",
       "  </thead>\n",
       "  <tbody>\n",
       "    <tr>\n",
       "      <th>0</th>\n",
       "      <td>eFEDS J082626.6-003429</td>\n",
       "      <td>28993</td>\n",
       "      <td>126.610799</td>\n",
       "      <td>-0.574787</td>\n",
       "      <td>8.486203</td>\n",
       "      <td>5.029723</td>\n",
       "      <td>0.161110</td>\n",
       "      <td>0</td>\n",
       "      <td>-1.000000</td>\n",
       "      <td>-1.000000</td>\n",
       "      <td>...</td>\n",
       "      <td>3.544400e+42</td>\n",
       "      <td>0.000000e+00</td>\n",
       "      <td>1.626600e+43</td>\n",
       "      <td>0.000000</td>\n",
       "      <td>0.000000</td>\n",
       "      <td>0.000000e+00</td>\n",
       "      <td>3.924900e+42</td>\n",
       "      <td>0.000000e+00</td>\n",
       "      <td>1.782000e+43</td>\n",
       "      <td>eFEDS-28993</td>\n",
       "    </tr>\n",
       "    <tr>\n",
       "      <th>1</th>\n",
       "      <td>eFEDS J082751.8-002853</td>\n",
       "      <td>11248</td>\n",
       "      <td>126.965471</td>\n",
       "      <td>-0.481638</td>\n",
       "      <td>12.791595</td>\n",
       "      <td>27.865910</td>\n",
       "      <td>0.257160</td>\n",
       "      <td>0</td>\n",
       "      <td>-1.000000</td>\n",
       "      <td>-1.000000</td>\n",
       "      <td>...</td>\n",
       "      <td>1.019100e+43</td>\n",
       "      <td>0.000000e+00</td>\n",
       "      <td>1.721900e+43</td>\n",
       "      <td>0.000000</td>\n",
       "      <td>0.000000</td>\n",
       "      <td>0.000000e+00</td>\n",
       "      <td>1.061100e+43</td>\n",
       "      <td>0.000000e+00</td>\n",
       "      <td>1.796300e+43</td>\n",
       "      <td>eFEDS-11248</td>\n",
       "    </tr>\n",
       "    <tr>\n",
       "      <th>2</th>\n",
       "      <td>eFEDS J082808.8-001003</td>\n",
       "      <td>4800</td>\n",
       "      <td>127.036645</td>\n",
       "      <td>-0.167715</td>\n",
       "      <td>28.492811</td>\n",
       "      <td>62.512480</td>\n",
       "      <td>0.076155</td>\n",
       "      <td>0</td>\n",
       "      <td>0.885294</td>\n",
       "      <td>0.786329</td>\n",
       "      <td>...</td>\n",
       "      <td>3.867000e+41</td>\n",
       "      <td>5.808000e+41</td>\n",
       "      <td>5.950000e+41</td>\n",
       "      <td>0.092795</td>\n",
       "      <td>0.093866</td>\n",
       "      <td>5.040000e+41</td>\n",
       "      <td>5.816000e+41</td>\n",
       "      <td>7.621000e+41</td>\n",
       "      <td>9.367000e+41</td>\n",
       "      <td>eFEDS-4800</td>\n",
       "    </tr>\n",
       "    <tr>\n",
       "      <th>3</th>\n",
       "      <td>eFEDS J082820.6-000721</td>\n",
       "      <td>4169</td>\n",
       "      <td>127.085556</td>\n",
       "      <td>-0.122752</td>\n",
       "      <td>42.376125</td>\n",
       "      <td>81.378350</td>\n",
       "      <td>0.844900</td>\n",
       "      <td>0</td>\n",
       "      <td>-1.000000</td>\n",
       "      <td>-1.000000</td>\n",
       "      <td>...</td>\n",
       "      <td>3.229000e+43</td>\n",
       "      <td>8.116000e+43</td>\n",
       "      <td>1.281700e+44</td>\n",
       "      <td>0.000000</td>\n",
       "      <td>0.000000</td>\n",
       "      <td>4.183000e+43</td>\n",
       "      <td>4.533000e+43</td>\n",
       "      <td>1.117800e+44</td>\n",
       "      <td>1.806000e+44</td>\n",
       "      <td>eFEDS-4169</td>\n",
       "    </tr>\n",
       "    <tr>\n",
       "      <th>4</th>\n",
       "      <td>eFEDS J082840.6-000500</td>\n",
       "      <td>7991</td>\n",
       "      <td>127.169202</td>\n",
       "      <td>-0.083552</td>\n",
       "      <td>18.438711</td>\n",
       "      <td>37.515427</td>\n",
       "      <td>0.319705</td>\n",
       "      <td>0</td>\n",
       "      <td>-1.000000</td>\n",
       "      <td>-1.000000</td>\n",
       "      <td>...</td>\n",
       "      <td>2.502000e+42</td>\n",
       "      <td>6.850000e+42</td>\n",
       "      <td>7.253000e+42</td>\n",
       "      <td>0.000000</td>\n",
       "      <td>0.000000</td>\n",
       "      <td>3.347000e+42</td>\n",
       "      <td>3.113000e+42</td>\n",
       "      <td>8.181000e+42</td>\n",
       "      <td>9.381000e+42</td>\n",
       "      <td>eFEDS-7991</td>\n",
       "    </tr>\n",
       "    <tr>\n",
       "      <th>5</th>\n",
       "      <td>eFEDS J082900.0+010756</td>\n",
       "      <td>14973</td>\n",
       "      <td>127.249974</td>\n",
       "      <td>1.132314</td>\n",
       "      <td>19.179321</td>\n",
       "      <td>14.365816</td>\n",
       "      <td>0.354000</td>\n",
       "      <td>0</td>\n",
       "      <td>-1.000000</td>\n",
       "      <td>-1.000000</td>\n",
       "      <td>...</td>\n",
       "      <td>3.956900e+42</td>\n",
       "      <td>1.213300e+43</td>\n",
       "      <td>1.924100e+43</td>\n",
       "      <td>0.000000</td>\n",
       "      <td>0.000000</td>\n",
       "      <td>5.387000e+42</td>\n",
       "      <td>6.003000e+42</td>\n",
       "      <td>2.399600e+43</td>\n",
       "      <td>3.482100e+43</td>\n",
       "      <td>eFEDS-14973</td>\n",
       "    </tr>\n",
       "    <tr>\n",
       "      <th>6</th>\n",
       "      <td>eFEDS J082952.7+002140</td>\n",
       "      <td>7528</td>\n",
       "      <td>127.469684</td>\n",
       "      <td>0.361084</td>\n",
       "      <td>7.729656</td>\n",
       "      <td>38.626640</td>\n",
       "      <td>0.420000</td>\n",
       "      <td>0</td>\n",
       "      <td>-1.000000</td>\n",
       "      <td>-1.000000</td>\n",
       "      <td>...</td>\n",
       "      <td>3.770000e+42</td>\n",
       "      <td>1.021200e+43</td>\n",
       "      <td>1.561200e+43</td>\n",
       "      <td>0.000000</td>\n",
       "      <td>0.000000</td>\n",
       "      <td>3.631000e+42</td>\n",
       "      <td>4.122000e+42</td>\n",
       "      <td>1.097500e+43</td>\n",
       "      <td>1.664100e+43</td>\n",
       "      <td>eFEDS-7528</td>\n",
       "    </tr>\n",
       "    <tr>\n",
       "      <th>7</th>\n",
       "      <td>eFEDS J082955.5+004132</td>\n",
       "      <td>3810</td>\n",
       "      <td>127.480999</td>\n",
       "      <td>0.692199</td>\n",
       "      <td>24.177258</td>\n",
       "      <td>80.255554</td>\n",
       "      <td>0.939855</td>\n",
       "      <td>0</td>\n",
       "      <td>-1.000000</td>\n",
       "      <td>-1.000000</td>\n",
       "      <td>...</td>\n",
       "      <td>3.137000e+43</td>\n",
       "      <td>1.155100e+44</td>\n",
       "      <td>2.492700e+44</td>\n",
       "      <td>0.000000</td>\n",
       "      <td>0.000000</td>\n",
       "      <td>3.391000e+43</td>\n",
       "      <td>4.018000e+43</td>\n",
       "      <td>1.702800e+44</td>\n",
       "      <td>3.107200e+44</td>\n",
       "      <td>eFEDS-3810</td>\n",
       "    </tr>\n",
       "    <tr>\n",
       "      <th>8</th>\n",
       "      <td>eFEDS J083040.7+023220</td>\n",
       "      <td>9837</td>\n",
       "      <td>127.669739</td>\n",
       "      <td>2.538833</td>\n",
       "      <td>11.481833</td>\n",
       "      <td>23.703844</td>\n",
       "      <td>0.111320</td>\n",
       "      <td>0</td>\n",
       "      <td>-1.000000</td>\n",
       "      <td>-1.000000</td>\n",
       "      <td>...</td>\n",
       "      <td>2.945100e+41</td>\n",
       "      <td>3.877500e+41</td>\n",
       "      <td>4.566000e+41</td>\n",
       "      <td>0.000000</td>\n",
       "      <td>0.000000</td>\n",
       "      <td>2.519700e+41</td>\n",
       "      <td>2.993400e+41</td>\n",
       "      <td>3.895400e+41</td>\n",
       "      <td>4.713000e+41</td>\n",
       "      <td>eFEDS-9837</td>\n",
       "    </tr>\n",
       "    <tr>\n",
       "      <th>9</th>\n",
       "      <td>eFEDS J083110.6+015616</td>\n",
       "      <td>5601</td>\n",
       "      <td>127.794012</td>\n",
       "      <td>1.937839</td>\n",
       "      <td>11.771409</td>\n",
       "      <td>34.137924</td>\n",
       "      <td>0.419510</td>\n",
       "      <td>0</td>\n",
       "      <td>-1.000000</td>\n",
       "      <td>-1.000000</td>\n",
       "      <td>...</td>\n",
       "      <td>5.381000e+42</td>\n",
       "      <td>1.406700e+43</td>\n",
       "      <td>1.889900e+43</td>\n",
       "      <td>0.000000</td>\n",
       "      <td>0.000000</td>\n",
       "      <td>6.276000e+42</td>\n",
       "      <td>6.880000e+42</td>\n",
       "      <td>1.745500e+43</td>\n",
       "      <td>2.958500e+43</td>\n",
       "      <td>eFEDS-5601</td>\n",
       "    </tr>\n",
       "  </tbody>\n",
       "</table>\n",
       "<p>10 rows × 47 columns</p>\n",
       "</div>"
      ],
      "text/plain": [
       "                       ID  ID_SRC          RA       DEC   EXT_LIKE   DET_LIKE  \\\n",
       "0  eFEDS J082626.6-003429   28993  126.610799 -0.574787   8.486203   5.029723   \n",
       "1  eFEDS J082751.8-002853   11248  126.965471 -0.481638  12.791595  27.865910   \n",
       "2  eFEDS J082808.8-001003    4800  127.036645 -0.167715  28.492811  62.512480   \n",
       "3  eFEDS J082820.6-000721    4169  127.085556 -0.122752  42.376125  81.378350   \n",
       "4  eFEDS J082840.6-000500    7991  127.169202 -0.083552  18.438711  37.515427   \n",
       "5  eFEDS J082900.0+010756   14973  127.249974  1.132314  19.179321  14.365816   \n",
       "6  eFEDS J082952.7+002140    7528  127.469684  0.361084   7.729656  38.626640   \n",
       "7  eFEDS J082955.5+004132    3810  127.480999  0.692199  24.177258  80.255554   \n",
       "8  eFEDS J083040.7+023220    9837  127.669739  2.538833  11.481833  23.703844   \n",
       "9  eFEDS J083110.6+015616    5601  127.794012  1.937839  11.771409  34.137924   \n",
       "\n",
       "          z  z_type  T_300kpc  T_300kpc_L  ...     L_300kpc+  Lbol_300kpc-  \\\n",
       "0  0.161110       0 -1.000000   -1.000000  ...  3.544400e+42  0.000000e+00   \n",
       "1  0.257160       0 -1.000000   -1.000000  ...  1.019100e+43  0.000000e+00   \n",
       "2  0.076155       0  0.885294    0.786329  ...  3.867000e+41  5.808000e+41   \n",
       "3  0.844900       0 -1.000000   -1.000000  ...  3.229000e+43  8.116000e+43   \n",
       "4  0.319705       0 -1.000000   -1.000000  ...  2.502000e+42  6.850000e+42   \n",
       "5  0.354000       0 -1.000000   -1.000000  ...  3.956900e+42  1.213300e+43   \n",
       "6  0.420000       0 -1.000000   -1.000000  ...  3.770000e+42  1.021200e+43   \n",
       "7  0.939855       0 -1.000000   -1.000000  ...  3.137000e+43  1.155100e+44   \n",
       "8  0.111320       0 -1.000000   -1.000000  ...  2.945100e+41  3.877500e+41   \n",
       "9  0.419510       0 -1.000000   -1.000000  ...  5.381000e+42  1.406700e+43   \n",
       "\n",
       "   Lbol_300kpc+  T_500kpc-  T_500kpc+     L_500kpc-     L_500kpc+  \\\n",
       "0  1.626600e+43   0.000000   0.000000  0.000000e+00  3.924900e+42   \n",
       "1  1.721900e+43   0.000000   0.000000  0.000000e+00  1.061100e+43   \n",
       "2  5.950000e+41   0.092795   0.093866  5.040000e+41  5.816000e+41   \n",
       "3  1.281700e+44   0.000000   0.000000  4.183000e+43  4.533000e+43   \n",
       "4  7.253000e+42   0.000000   0.000000  3.347000e+42  3.113000e+42   \n",
       "5  1.924100e+43   0.000000   0.000000  5.387000e+42  6.003000e+42   \n",
       "6  1.561200e+43   0.000000   0.000000  3.631000e+42  4.122000e+42   \n",
       "7  2.492700e+44   0.000000   0.000000  3.391000e+43  4.018000e+43   \n",
       "8  4.566000e+41   0.000000   0.000000  2.519700e+41  2.993400e+41   \n",
       "9  1.889900e+43   0.000000   0.000000  6.276000e+42  6.880000e+42   \n",
       "\n",
       "   Lbol_500kpc-  Lbol_500kpc+         name  \n",
       "0  0.000000e+00  1.782000e+43  eFEDS-28993  \n",
       "1  0.000000e+00  1.796300e+43  eFEDS-11248  \n",
       "2  7.621000e+41  9.367000e+41   eFEDS-4800  \n",
       "3  1.117800e+44  1.806000e+44   eFEDS-4169  \n",
       "4  8.181000e+42  9.381000e+42   eFEDS-7991  \n",
       "5  2.399600e+43  3.482100e+43  eFEDS-14973  \n",
       "6  1.097500e+43  1.664100e+43   eFEDS-7528  \n",
       "7  1.702800e+44  3.107200e+44   eFEDS-3810  \n",
       "8  3.895400e+41  4.713000e+41   eFEDS-9837  \n",
       "9  1.745500e+43  2.958500e+43   eFEDS-5601  \n",
       "\n",
       "[10 rows x 47 columns]"
      ]
     },
     "execution_count": 5,
     "metadata": {},
     "output_type": "execute_result"
    }
   ],
   "source": [
    "efeds_xray = pd.read_csv(\"sample_files/efeds_xray_cluster_candidates.csv\")\n",
    "\n",
    "# Changing upper and lower limits to uncertainties for 300kpc values\n",
    "efeds_xray['T_300kpc-'] = efeds_xray['T_300kpc'] - efeds_xray['T_300kpc_L']\n",
    "efeds_xray['T_300kpc+'] = efeds_xray['T_300kpc_U'] - efeds_xray['T_300kpc']\n",
    "efeds_xray['L_300kpc-'] = efeds_xray['L_300kpc'] - efeds_xray['L_300kpc_L']\n",
    "efeds_xray['L_300kpc+'] = efeds_xray['L_300kpc_U'] - efeds_xray['L_300kpc']\n",
    "efeds_xray['Lbol_300kpc-'] = efeds_xray['Lbol_300kpc'] - efeds_xray['Lbol_300kpc_L']\n",
    "efeds_xray['Lbol_300kpc+'] = efeds_xray['Lbol_300kpc_U'] - efeds_xray['Lbol_300kpc']\n",
    "\n",
    "# Changing upper and lower limits to uncertainties for 500kpc values\n",
    "efeds_xray['T_500kpc-'] = efeds_xray['T_500kpc'] - efeds_xray['T_500kpc_L']\n",
    "efeds_xray['T_500kpc+'] = efeds_xray['T_500kpc_U'] - efeds_xray['T_500kpc']\n",
    "efeds_xray['L_500kpc-'] = efeds_xray['L_500kpc'] - efeds_xray['L_500kpc_L']\n",
    "efeds_xray['L_500kpc+'] = efeds_xray['L_500kpc_U'] - efeds_xray['L_500kpc']\n",
    "efeds_xray['Lbol_500kpc-'] = efeds_xray['Lbol_500kpc'] - efeds_xray['Lbol_500kpc_L']\n",
    "efeds_xray['Lbol_500kpc+'] = efeds_xray['Lbol_500kpc_U'] - efeds_xray['Lbol_500kpc']\n",
    "\n",
    "efeds_xray['name'] = efeds_xray['ID_SRC'].apply(lambda x: \"eFEDS-\"+str(x))\n",
    "efeds_xray.head(10)"
   ]
  },
  {
   "cell_type": "markdown",
   "metadata": {},
   "source": [
    "### Reading in the eFEDS cluster candidate optical counterpart catalogue"
   ]
  },
  {
   "cell_type": "markdown",
   "metadata": {},
   "source": [
    "This catalogue contains information about optical counterparts to eFEDS X-ray selected cluster candidates found by Klein et al. (2021), and is [available here](https://erosita.mpe.mpg.de/edr/eROSITAObservations/Catalogues/klein/eFEDS_c001_main_ctp_clus_v2.1.fits.gz) - again we have converted the file into a csv for convenience. We add an identical 'name' column to that which we added to the X-ray selected cluster candidate catalogue table above."
   ]
  },
  {
   "cell_type": "code",
   "execution_count": 6,
   "metadata": {},
   "outputs": [
    {
     "data": {
      "text/html": [
       "<div>\n",
       "<style scoped>\n",
       "    .dataframe tbody tr th:only-of-type {\n",
       "        vertical-align: middle;\n",
       "    }\n",
       "\n",
       "    .dataframe tbody tr th {\n",
       "        vertical-align: top;\n",
       "    }\n",
       "\n",
       "    .dataframe thead th {\n",
       "        text-align: right;\n",
       "    }\n",
       "</style>\n",
       "<table border=\"1\" class=\"dataframe\">\n",
       "  <thead>\n",
       "    <tr style=\"text-align: right;\">\n",
       "      <th></th>\n",
       "      <th>Name</th>\n",
       "      <th>ID_SRC</th>\n",
       "      <th>RA_CORR</th>\n",
       "      <th>DEC_CORR</th>\n",
       "      <th>RADEC_ERR_CORR</th>\n",
       "      <th>EXT</th>\n",
       "      <th>EXT_ERR</th>\n",
       "      <th>EXT_LIKE</th>\n",
       "      <th>ML_CTS</th>\n",
       "      <th>ML_CTS_ERR</th>\n",
       "      <th>...</th>\n",
       "      <th>Alpha</th>\n",
       "      <th>Delta</th>\n",
       "      <th>Beta</th>\n",
       "      <th>Ellip</th>\n",
       "      <th>Centershift</th>\n",
       "      <th>DIST_NEXT_OPT_R500</th>\n",
       "      <th>DISTNEXT_XCLUST_MPC</th>\n",
       "      <th>DISTNEXT_XCLUST_R500</th>\n",
       "      <th>MCMF_NWAY_SECTOR</th>\n",
       "      <th>name</th>\n",
       "    </tr>\n",
       "  </thead>\n",
       "  <tbody>\n",
       "    <tr>\n",
       "      <th>0</th>\n",
       "      <td>eFEDS J093712.9+031652</td>\n",
       "      <td>38</td>\n",
       "      <td>144.303568</td>\n",
       "      <td>3.281043</td>\n",
       "      <td>4.000000</td>\n",
       "      <td>26.965470</td>\n",
       "      <td>5.968361</td>\n",
       "      <td>19.696564</td>\n",
       "      <td>83.25920</td>\n",
       "      <td>16.002958</td>\n",
       "      <td>...</td>\n",
       "      <td>0.057188</td>\n",
       "      <td>0.260447</td>\n",
       "      <td>0.291617</td>\n",
       "      <td>0.599467</td>\n",
       "      <td>0.456086</td>\n",
       "      <td>8.338902</td>\n",
       "      <td>7.388609</td>\n",
       "      <td>9.777047</td>\n",
       "      <td>A</td>\n",
       "      <td>eFEDS-38</td>\n",
       "    </tr>\n",
       "    <tr>\n",
       "      <th>1</th>\n",
       "      <td>eFEDS J083811.9-015935</td>\n",
       "      <td>53</td>\n",
       "      <td>129.549569</td>\n",
       "      <td>-1.992963</td>\n",
       "      <td>1.381066</td>\n",
       "      <td>8.415080</td>\n",
       "      <td>0.671214</td>\n",
       "      <td>163.666980</td>\n",
       "      <td>840.92730</td>\n",
       "      <td>32.609806</td>\n",
       "      <td>...</td>\n",
       "      <td>0.131410</td>\n",
       "      <td>0.231523</td>\n",
       "      <td>0.211128</td>\n",
       "      <td>0.482397</td>\n",
       "      <td>0.258212</td>\n",
       "      <td>5.109306</td>\n",
       "      <td>6.826096</td>\n",
       "      <td>5.099522</td>\n",
       "      <td>A</td>\n",
       "      <td>eFEDS-53</td>\n",
       "    </tr>\n",
       "    <tr>\n",
       "      <th>2</th>\n",
       "      <td>eFEDS J093521.0+023234</td>\n",
       "      <td>82</td>\n",
       "      <td>143.837404</td>\n",
       "      <td>2.542872</td>\n",
       "      <td>2.256955</td>\n",
       "      <td>11.646078</td>\n",
       "      <td>0.921796</td>\n",
       "      <td>175.889470</td>\n",
       "      <td>789.41034</td>\n",
       "      <td>32.895790</td>\n",
       "      <td>...</td>\n",
       "      <td>0.149712</td>\n",
       "      <td>0.214348</td>\n",
       "      <td>0.227254</td>\n",
       "      <td>0.441991</td>\n",
       "      <td>0.313691</td>\n",
       "      <td>99.900002</td>\n",
       "      <td>0.914686</td>\n",
       "      <td>0.694703</td>\n",
       "      <td>A</td>\n",
       "      <td>eFEDS-82</td>\n",
       "    </tr>\n",
       "    <tr>\n",
       "      <th>3</th>\n",
       "      <td>eFEDS J092121.2+031726</td>\n",
       "      <td>100</td>\n",
       "      <td>140.338476</td>\n",
       "      <td>3.290604</td>\n",
       "      <td>2.786281</td>\n",
       "      <td>31.717770</td>\n",
       "      <td>1.420627</td>\n",
       "      <td>478.553300</td>\n",
       "      <td>1507.95620</td>\n",
       "      <td>56.981632</td>\n",
       "      <td>...</td>\n",
       "      <td>0.126342</td>\n",
       "      <td>0.216794</td>\n",
       "      <td>0.396560</td>\n",
       "      <td>0.548407</td>\n",
       "      <td>0.253045</td>\n",
       "      <td>99.900002</td>\n",
       "      <td>6.280532</td>\n",
       "      <td>4.680137</td>\n",
       "      <td>A</td>\n",
       "      <td>eFEDS-100</td>\n",
       "    </tr>\n",
       "    <tr>\n",
       "      <th>4</th>\n",
       "      <td>eFEDS J085751.7+031039</td>\n",
       "      <td>108</td>\n",
       "      <td>134.465300</td>\n",
       "      <td>3.177539</td>\n",
       "      <td>5.122587</td>\n",
       "      <td>57.368830</td>\n",
       "      <td>1.696070</td>\n",
       "      <td>742.209900</td>\n",
       "      <td>2941.50220</td>\n",
       "      <td>104.567130</td>\n",
       "      <td>...</td>\n",
       "      <td>0.184382</td>\n",
       "      <td>0.298033</td>\n",
       "      <td>0.315817</td>\n",
       "      <td>0.452866</td>\n",
       "      <td>0.265861</td>\n",
       "      <td>1.704293</td>\n",
       "      <td>2.833925</td>\n",
       "      <td>2.126780</td>\n",
       "      <td>A</td>\n",
       "      <td>eFEDS-108</td>\n",
       "    </tr>\n",
       "    <tr>\n",
       "      <th>5</th>\n",
       "      <td>eFEDS J092647.5+050033</td>\n",
       "      <td>137</td>\n",
       "      <td>141.697954</td>\n",
       "      <td>5.009053</td>\n",
       "      <td>3.680027</td>\n",
       "      <td>34.240242</td>\n",
       "      <td>1.704842</td>\n",
       "      <td>505.366760</td>\n",
       "      <td>1269.64820</td>\n",
       "      <td>53.113010</td>\n",
       "      <td>...</td>\n",
       "      <td>0.078323</td>\n",
       "      <td>0.137997</td>\n",
       "      <td>0.315292</td>\n",
       "      <td>0.591055</td>\n",
       "      <td>0.260348</td>\n",
       "      <td>99.900002</td>\n",
       "      <td>0.315917</td>\n",
       "      <td>0.230575</td>\n",
       "      <td>A</td>\n",
       "      <td>eFEDS-137</td>\n",
       "    </tr>\n",
       "    <tr>\n",
       "      <th>6</th>\n",
       "      <td>eFEDS J084528.7+032739</td>\n",
       "      <td>144</td>\n",
       "      <td>131.369500</td>\n",
       "      <td>3.460887</td>\n",
       "      <td>3.187693</td>\n",
       "      <td>28.416616</td>\n",
       "      <td>1.641801</td>\n",
       "      <td>316.698500</td>\n",
       "      <td>942.22090</td>\n",
       "      <td>43.392887</td>\n",
       "      <td>...</td>\n",
       "      <td>0.130602</td>\n",
       "      <td>0.166659</td>\n",
       "      <td>0.197001</td>\n",
       "      <td>0.046051</td>\n",
       "      <td>0.254389</td>\n",
       "      <td>99.900002</td>\n",
       "      <td>19.738748</td>\n",
       "      <td>15.345604</td>\n",
       "      <td>B1</td>\n",
       "      <td>eFEDS-144</td>\n",
       "    </tr>\n",
       "    <tr>\n",
       "      <th>7</th>\n",
       "      <td>eFEDS J092002.2+010220</td>\n",
       "      <td>150</td>\n",
       "      <td>140.009027</td>\n",
       "      <td>1.038868</td>\n",
       "      <td>2.707373</td>\n",
       "      <td>14.811505</td>\n",
       "      <td>1.150945</td>\n",
       "      <td>179.593930</td>\n",
       "      <td>693.43646</td>\n",
       "      <td>32.079433</td>\n",
       "      <td>...</td>\n",
       "      <td>NaN</td>\n",
       "      <td>NaN</td>\n",
       "      <td>NaN</td>\n",
       "      <td>NaN</td>\n",
       "      <td>NaN</td>\n",
       "      <td>NaN</td>\n",
       "      <td>NaN</td>\n",
       "      <td>NaN</td>\n",
       "      <td>B1</td>\n",
       "      <td>eFEDS-150</td>\n",
       "    </tr>\n",
       "    <tr>\n",
       "      <th>8</th>\n",
       "      <td>eFEDS J090131.2+030057</td>\n",
       "      <td>152</td>\n",
       "      <td>135.379989</td>\n",
       "      <td>3.015696</td>\n",
       "      <td>5.006569</td>\n",
       "      <td>33.493958</td>\n",
       "      <td>1.665559</td>\n",
       "      <td>373.949920</td>\n",
       "      <td>1196.78820</td>\n",
       "      <td>51.578068</td>\n",
       "      <td>...</td>\n",
       "      <td>0.158592</td>\n",
       "      <td>0.320781</td>\n",
       "      <td>0.253769</td>\n",
       "      <td>0.489150</td>\n",
       "      <td>0.310878</td>\n",
       "      <td>0.470425</td>\n",
       "      <td>0.486326</td>\n",
       "      <td>0.427307</td>\n",
       "      <td>B1</td>\n",
       "      <td>eFEDS-152</td>\n",
       "    </tr>\n",
       "    <tr>\n",
       "      <th>9</th>\n",
       "      <td>eFEDS J083651.3+030002</td>\n",
       "      <td>197</td>\n",
       "      <td>129.213825</td>\n",
       "      <td>3.000636</td>\n",
       "      <td>3.505422</td>\n",
       "      <td>28.246906</td>\n",
       "      <td>3.193915</td>\n",
       "      <td>153.496120</td>\n",
       "      <td>747.97363</td>\n",
       "      <td>42.946740</td>\n",
       "      <td>...</td>\n",
       "      <td>0.150400</td>\n",
       "      <td>0.389033</td>\n",
       "      <td>0.462623</td>\n",
       "      <td>0.140946</td>\n",
       "      <td>0.269811</td>\n",
       "      <td>99.900002</td>\n",
       "      <td>0.165200</td>\n",
       "      <td>0.158356</td>\n",
       "      <td>B1</td>\n",
       "      <td>eFEDS-197</td>\n",
       "    </tr>\n",
       "  </tbody>\n",
       "</table>\n",
       "<p>10 rows × 55 columns</p>\n",
       "</div>"
      ],
      "text/plain": [
       "                     Name  ID_SRC     RA_CORR  DEC_CORR  RADEC_ERR_CORR  \\\n",
       "0  eFEDS J093712.9+031652      38  144.303568  3.281043        4.000000   \n",
       "1  eFEDS J083811.9-015935      53  129.549569 -1.992963        1.381066   \n",
       "2  eFEDS J093521.0+023234      82  143.837404  2.542872        2.256955   \n",
       "3  eFEDS J092121.2+031726     100  140.338476  3.290604        2.786281   \n",
       "4  eFEDS J085751.7+031039     108  134.465300  3.177539        5.122587   \n",
       "5  eFEDS J092647.5+050033     137  141.697954  5.009053        3.680027   \n",
       "6  eFEDS J084528.7+032739     144  131.369500  3.460887        3.187693   \n",
       "7  eFEDS J092002.2+010220     150  140.009027  1.038868        2.707373   \n",
       "8  eFEDS J090131.2+030057     152  135.379989  3.015696        5.006569   \n",
       "9  eFEDS J083651.3+030002     197  129.213825  3.000636        3.505422   \n",
       "\n",
       "         EXT   EXT_ERR    EXT_LIKE      ML_CTS  ML_CTS_ERR  ...     Alpha  \\\n",
       "0  26.965470  5.968361   19.696564    83.25920   16.002958  ...  0.057188   \n",
       "1   8.415080  0.671214  163.666980   840.92730   32.609806  ...  0.131410   \n",
       "2  11.646078  0.921796  175.889470   789.41034   32.895790  ...  0.149712   \n",
       "3  31.717770  1.420627  478.553300  1507.95620   56.981632  ...  0.126342   \n",
       "4  57.368830  1.696070  742.209900  2941.50220  104.567130  ...  0.184382   \n",
       "5  34.240242  1.704842  505.366760  1269.64820   53.113010  ...  0.078323   \n",
       "6  28.416616  1.641801  316.698500   942.22090   43.392887  ...  0.130602   \n",
       "7  14.811505  1.150945  179.593930   693.43646   32.079433  ...       NaN   \n",
       "8  33.493958  1.665559  373.949920  1196.78820   51.578068  ...  0.158592   \n",
       "9  28.246906  3.193915  153.496120   747.97363   42.946740  ...  0.150400   \n",
       "\n",
       "      Delta      Beta     Ellip  Centershift  DIST_NEXT_OPT_R500  \\\n",
       "0  0.260447  0.291617  0.599467     0.456086            8.338902   \n",
       "1  0.231523  0.211128  0.482397     0.258212            5.109306   \n",
       "2  0.214348  0.227254  0.441991     0.313691           99.900002   \n",
       "3  0.216794  0.396560  0.548407     0.253045           99.900002   \n",
       "4  0.298033  0.315817  0.452866     0.265861            1.704293   \n",
       "5  0.137997  0.315292  0.591055     0.260348           99.900002   \n",
       "6  0.166659  0.197001  0.046051     0.254389           99.900002   \n",
       "7       NaN       NaN       NaN          NaN                 NaN   \n",
       "8  0.320781  0.253769  0.489150     0.310878            0.470425   \n",
       "9  0.389033  0.462623  0.140946     0.269811           99.900002   \n",
       "\n",
       "   DISTNEXT_XCLUST_MPC  DISTNEXT_XCLUST_R500  MCMF_NWAY_SECTOR       name  \n",
       "0             7.388609              9.777047                 A   eFEDS-38  \n",
       "1             6.826096              5.099522                 A   eFEDS-53  \n",
       "2             0.914686              0.694703                 A   eFEDS-82  \n",
       "3             6.280532              4.680137                 A  eFEDS-100  \n",
       "4             2.833925              2.126780                 A  eFEDS-108  \n",
       "5             0.315917              0.230575                 A  eFEDS-137  \n",
       "6            19.738748             15.345604                B1  eFEDS-144  \n",
       "7                  NaN                   NaN                B1  eFEDS-150  \n",
       "8             0.486326              0.427307                B1  eFEDS-152  \n",
       "9             0.165200              0.158356                B1  eFEDS-197  \n",
       "\n",
       "[10 rows x 55 columns]"
      ]
     },
     "execution_count": 6,
     "metadata": {},
     "output_type": "execute_result"
    }
   ],
   "source": [
    "efeds_opt = pd.read_csv(\"sample_files/efeds_cluster_candidate_optical_counterparts.csv\")\n",
    "efeds_opt['name'] = efeds_opt['ID_SRC'].apply(lambda x: \"eFEDS-\"+str(x))\n",
    "efeds_opt.head(10)"
   ]
  },
  {
   "cell_type": "markdown",
   "metadata": {},
   "source": [
    "### Marking which candidates in the eFEDS X-ray catalogue are to be considered optically confirmed"
   ]
  },
  {
   "cell_type": "markdown",
   "metadata": {},
   "source": [
    "For convenience, we add a column to the eFEDS X-ray selected cluster candidates table, indicating whether the optical counterpart has a F_CONT_BEST_COMB < 0.3, which is what Klein et al. (2021) consider to be optically confirmed:"
   ]
  },
  {
   "cell_type": "code",
   "execution_count": 7,
   "metadata": {},
   "outputs": [],
   "source": [
    "# The names (in the style we added earlier eFEDS-xxxx) of the candidates that \n",
    "#  are considered optically confirmed\n",
    "opt_conf_names = efeds_opt[efeds_opt['F_CONT_BEST_COMB'] < 0.3]['name'].values\n",
    "\n",
    "# Adding a column to the X-ray catalogue table that describes whether the candidate is considered \n",
    "#  optically confirmed, with a default value of False\n",
    "efeds_xray['opt_conf'] = False\n",
    "\n",
    "# Setting the optically confirmed column to True, for those candidates that appear in \n",
    "#  the opt_conf_names array\n",
    "efeds_xray.loc[efeds_xray[efeds_xray['name'].isin(opt_conf_names)].index, 'opt_conf'] = True"
   ]
  },
  {
   "cell_type": "markdown",
   "metadata": {},
   "source": [
    "### Reading in the eFEDS-XMM sample"
   ]
  },
  {
   "cell_type": "markdown",
   "metadata": {},
   "source": [
    "This consists of 62 eFEDS X-ray selected cluster candidates that have sufficient XMM coverage to be included in our initial sample - we read in a file that contains the position, name, ID_SRC, and redshift of the candidate, with those values taken from the X-ray candidate catalogue published by eFEDS."
   ]
  },
  {
   "cell_type": "code",
   "execution_count": 8,
   "metadata": {},
   "outputs": [
    {
     "data": {
      "text/html": [
       "<div>\n",
       "<style scoped>\n",
       "    .dataframe tbody tr th:only-of-type {\n",
       "        vertical-align: middle;\n",
       "    }\n",
       "\n",
       "    .dataframe tbody tr th {\n",
       "        vertical-align: top;\n",
       "    }\n",
       "\n",
       "    .dataframe thead th {\n",
       "        text-align: right;\n",
       "    }\n",
       "</style>\n",
       "<table border=\"1\" class=\"dataframe\">\n",
       "  <thead>\n",
       "    <tr style=\"text-align: right;\">\n",
       "      <th></th>\n",
       "      <th>ID_SRC</th>\n",
       "      <th>name</th>\n",
       "      <th>RA</th>\n",
       "      <th>DEC</th>\n",
       "      <th>z</th>\n",
       "    </tr>\n",
       "  </thead>\n",
       "  <tbody>\n",
       "    <tr>\n",
       "      <th>0</th>\n",
       "      <td>5702</td>\n",
       "      <td>eFEDS-5702</td>\n",
       "      <td>130.295289</td>\n",
       "      <td>0.866770</td>\n",
       "      <td>0.415210</td>\n",
       "    </tr>\n",
       "    <tr>\n",
       "      <th>1</th>\n",
       "      <td>6605</td>\n",
       "      <td>eFEDS-6605</td>\n",
       "      <td>130.352971</td>\n",
       "      <td>0.776778</td>\n",
       "      <td>0.407500</td>\n",
       "    </tr>\n",
       "    <tr>\n",
       "      <th>2</th>\n",
       "      <td>1644</td>\n",
       "      <td>eFEDS-1644</td>\n",
       "      <td>130.395834</td>\n",
       "      <td>1.030562</td>\n",
       "      <td>0.506660</td>\n",
       "    </tr>\n",
       "    <tr>\n",
       "      <th>3</th>\n",
       "      <td>3008</td>\n",
       "      <td>eFEDS-3008</td>\n",
       "      <td>130.450684</td>\n",
       "      <td>0.819822</td>\n",
       "      <td>0.078375</td>\n",
       "    </tr>\n",
       "    <tr>\n",
       "      <th>4</th>\n",
       "      <td>3334</td>\n",
       "      <td>eFEDS-3334</td>\n",
       "      <td>130.507566</td>\n",
       "      <td>0.994977</td>\n",
       "      <td>0.086645</td>\n",
       "    </tr>\n",
       "    <tr>\n",
       "      <th>5</th>\n",
       "      <td>144</td>\n",
       "      <td>eFEDS-144</td>\n",
       "      <td>131.369500</td>\n",
       "      <td>3.460887</td>\n",
       "      <td>0.334325</td>\n",
       "    </tr>\n",
       "    <tr>\n",
       "      <th>6</th>\n",
       "      <td>7831</td>\n",
       "      <td>eFEDS-7831</td>\n",
       "      <td>132.272302</td>\n",
       "      <td>2.243272</td>\n",
       "      <td>0.395420</td>\n",
       "    </tr>\n",
       "    <tr>\n",
       "      <th>7</th>\n",
       "      <td>8602</td>\n",
       "      <td>eFEDS-8602</td>\n",
       "      <td>132.592720</td>\n",
       "      <td>0.268673</td>\n",
       "      <td>0.195760</td>\n",
       "    </tr>\n",
       "    <tr>\n",
       "      <th>8</th>\n",
       "      <td>1023</td>\n",
       "      <td>eFEDS-1023</td>\n",
       "      <td>132.616040</td>\n",
       "      <td>0.250854</td>\n",
       "      <td>0.196655</td>\n",
       "    </tr>\n",
       "    <tr>\n",
       "      <th>9</th>\n",
       "      <td>6125</td>\n",
       "      <td>eFEDS-6125</td>\n",
       "      <td>132.627176</td>\n",
       "      <td>0.558439</td>\n",
       "      <td>0.191720</td>\n",
       "    </tr>\n",
       "  </tbody>\n",
       "</table>\n",
       "</div>"
      ],
      "text/plain": [
       "   ID_SRC        name          RA       DEC         z\n",
       "0    5702  eFEDS-5702  130.295289  0.866770  0.415210\n",
       "1    6605  eFEDS-6605  130.352971  0.776778  0.407500\n",
       "2    1644  eFEDS-1644  130.395834  1.030562  0.506660\n",
       "3    3008  eFEDS-3008  130.450684  0.819822  0.078375\n",
       "4    3334  eFEDS-3334  130.507566  0.994977  0.086645\n",
       "5     144   eFEDS-144  131.369500  3.460887  0.334325\n",
       "6    7831  eFEDS-7831  132.272302  2.243272  0.395420\n",
       "7    8602  eFEDS-8602  132.592720  0.268673  0.195760\n",
       "8    1023  eFEDS-1023  132.616040  0.250854  0.196655\n",
       "9    6125  eFEDS-6125  132.627176  0.558439  0.191720"
      ]
     },
     "execution_count": 8,
     "metadata": {},
     "output_type": "execute_result"
    }
   ],
   "source": [
    "efeds_xmm = pd.read_csv(\"sample_files/efeds-xmm_sample.csv\")\n",
    "efeds_xmm.head(10)"
   ]
  },
  {
   "cell_type": "markdown",
   "metadata": {},
   "source": [
    "### Reading in the excluded candidate notes"
   ]
  },
  {
   "cell_type": "markdown",
   "metadata": {},
   "source": [
    "This file contains short notes on why we excluded specific candidates from the final eFEDS-XCS sample:"
   ]
  },
  {
   "cell_type": "code",
   "execution_count": null,
   "metadata": {},
   "outputs": [],
   "source": []
  },
  {
   "cell_type": "markdown",
   "metadata": {},
   "source": [
    "### Reading in the eFEDS-XCS sample"
   ]
  },
  {
   "cell_type": "markdown",
   "metadata": {},
   "source": [
    "This is the final sample we end up with after our eyeballing process, and is what we analyse for our direct comparisons between XMM and eFEDS - again only very basic information is included in this file. This sample is a subset of the eFEDS-XMM sample, but we felt that presenting a discrete file containing only the eFEDS-XCS clusters was easier."
   ]
  },
  {
   "cell_type": "code",
   "execution_count": 9,
   "metadata": {},
   "outputs": [
    {
     "data": {
      "text/html": [
       "<div>\n",
       "<style scoped>\n",
       "    .dataframe tbody tr th:only-of-type {\n",
       "        vertical-align: middle;\n",
       "    }\n",
       "\n",
       "    .dataframe tbody tr th {\n",
       "        vertical-align: top;\n",
       "    }\n",
       "\n",
       "    .dataframe thead th {\n",
       "        text-align: right;\n",
       "    }\n",
       "</style>\n",
       "<table border=\"1\" class=\"dataframe\">\n",
       "  <thead>\n",
       "    <tr style=\"text-align: right;\">\n",
       "      <th></th>\n",
       "      <th>ID_SRC</th>\n",
       "      <th>name</th>\n",
       "      <th>RA</th>\n",
       "      <th>DEC</th>\n",
       "      <th>z</th>\n",
       "    </tr>\n",
       "  </thead>\n",
       "  <tbody>\n",
       "    <tr>\n",
       "      <th>0</th>\n",
       "      <td>6605</td>\n",
       "      <td>eFEDS-6605</td>\n",
       "      <td>130.352971</td>\n",
       "      <td>0.776778</td>\n",
       "      <td>0.407500</td>\n",
       "    </tr>\n",
       "    <tr>\n",
       "      <th>1</th>\n",
       "      <td>144</td>\n",
       "      <td>eFEDS-144</td>\n",
       "      <td>131.369500</td>\n",
       "      <td>3.460887</td>\n",
       "      <td>0.334325</td>\n",
       "    </tr>\n",
       "    <tr>\n",
       "      <th>2</th>\n",
       "      <td>7831</td>\n",
       "      <td>eFEDS-7831</td>\n",
       "      <td>132.272302</td>\n",
       "      <td>2.243272</td>\n",
       "      <td>0.395420</td>\n",
       "    </tr>\n",
       "    <tr>\n",
       "      <th>3</th>\n",
       "      <td>1023</td>\n",
       "      <td>eFEDS-1023</td>\n",
       "      <td>132.616040</td>\n",
       "      <td>0.250854</td>\n",
       "      <td>0.196655</td>\n",
       "    </tr>\n",
       "    <tr>\n",
       "      <th>4</th>\n",
       "      <td>6125</td>\n",
       "      <td>eFEDS-6125</td>\n",
       "      <td>132.627176</td>\n",
       "      <td>0.558439</td>\n",
       "      <td>0.191720</td>\n",
       "    </tr>\n",
       "    <tr>\n",
       "      <th>5</th>\n",
       "      <td>339</td>\n",
       "      <td>eFEDS-339</td>\n",
       "      <td>133.070856</td>\n",
       "      <td>-1.025389</td>\n",
       "      <td>0.460230</td>\n",
       "    </tr>\n",
       "    <tr>\n",
       "      <th>6</th>\n",
       "      <td>4810</td>\n",
       "      <td>eFEDS-4810</td>\n",
       "      <td>133.129601</td>\n",
       "      <td>-1.208351</td>\n",
       "      <td>0.545660</td>\n",
       "    </tr>\n",
       "    <tr>\n",
       "      <th>7</th>\n",
       "      <td>1458</td>\n",
       "      <td>eFEDS-1458</td>\n",
       "      <td>133.553588</td>\n",
       "      <td>-2.356619</td>\n",
       "      <td>0.377435</td>\n",
       "    </tr>\n",
       "    <tr>\n",
       "      <th>8</th>\n",
       "      <td>2079</td>\n",
       "      <td>eFEDS-2079</td>\n",
       "      <td>133.696224</td>\n",
       "      <td>-1.359051</td>\n",
       "      <td>0.353250</td>\n",
       "    </tr>\n",
       "    <tr>\n",
       "      <th>9</th>\n",
       "      <td>569</td>\n",
       "      <td>eFEDS-569</td>\n",
       "      <td>134.086459</td>\n",
       "      <td>1.780459</td>\n",
       "      <td>0.724080</td>\n",
       "    </tr>\n",
       "  </tbody>\n",
       "</table>\n",
       "</div>"
      ],
      "text/plain": [
       "   ID_SRC        name          RA       DEC         z\n",
       "0    6605  eFEDS-6605  130.352971  0.776778  0.407500\n",
       "1     144   eFEDS-144  131.369500  3.460887  0.334325\n",
       "2    7831  eFEDS-7831  132.272302  2.243272  0.395420\n",
       "3    1023  eFEDS-1023  132.616040  0.250854  0.196655\n",
       "4    6125  eFEDS-6125  132.627176  0.558439  0.191720\n",
       "5     339   eFEDS-339  133.070856 -1.025389  0.460230\n",
       "6    4810  eFEDS-4810  133.129601 -1.208351  0.545660\n",
       "7    1458  eFEDS-1458  133.553588 -2.356619  0.377435\n",
       "8    2079  eFEDS-2079  133.696224 -1.359051  0.353250\n",
       "9     569   eFEDS-569  134.086459  1.780459  0.724080"
      ]
     },
     "execution_count": 9,
     "metadata": {},
     "output_type": "execute_result"
    }
   ],
   "source": [
    "efeds_xcs = pd.read_csv(\"sample_files/efeds-xcs_sample.csv\")\n",
    "efeds_xcs.head(10)"
   ]
  },
  {
   "cell_type": "markdown",
   "metadata": {},
   "source": [
    "## Comparison of the eFEDS optically confirmed and XXL-100-GC catalogues"
   ]
  },
  {
   "cell_type": "markdown",
   "metadata": {},
   "source": [
    "Here we generate the figure that compares distributions of eFEDS and XXL values, making sure to only use the optically confirmed eFEDS cluster candidate sample. This requirement only affects the redshift distribution as all the candidates that have published $T_{\\rm{X}}$ values are in the optically confirmed sample:"
   ]
  },
  {
   "cell_type": "code",
   "execution_count": 10,
   "metadata": {},
   "outputs": [
    {
     "name": "stderr",
     "output_type": "stream",
     "text": [
      "<ipython-input-10-35afe2d3f2a2>:58: RuntimeWarning: Mean of empty slice\n",
      "  av_frac_err = np.nanmean(cur_sample[['T_300kpc-', 'T_300kpc+']].replace(0, np.NaN).values,\n"
     ]
    },
    {
     "data": {
      "image/png": "[encoded data removed]",
      "text/plain": [
       "<Figure size 1152x432 with 3 Axes>"
      ]
     },
     "metadata": {
      "needs_background": "light"
     },
     "output_type": "display_data"
    }
   ],
   "source": [
    "# Making a sub-table of the X-ray catalogue for this figure, selecting optically confirmed candidates\n",
    "cur_sample = efeds_xray[efeds_xray['opt_conf']]\n",
    "\n",
    "# Setting the y-position and font size of the a, b, and c labels that are added below the subplots\n",
    "sublabel_ypos = -0.115\n",
    "sublabel_fsize = 14\n",
    "\n",
    "# Setting the binning for the three different plots\n",
    "t_frac_bins = np.arange(0, 1.05, 0.03)\n",
    "z_bins = np.arange(0, 1.4, 0.1)\n",
    "t_bins = np.arange(0, 8, 0.5)\n",
    "\n",
    "# Set up the matplotlib figure with 3 columns, meaning three subplots\n",
    "fig, ax_arr = plt.subplots(ncols=3, figsize=(16, 6))\n",
    "\n",
    "# Iterating through the array of axes objects, setting up the ticks\n",
    "for ax in ax_arr:\n",
    "    ax.minorticks_on()\n",
    "    ax.tick_params(which='both', top=True, right=True, direction='in')\n",
    "\n",
    "# Reading out the first axis in the array of axes\n",
    "ax = ax_arr[0]\n",
    "# Plotting density distributions of the XXL and eFEDs redshift samples\n",
    "ax.hist(cur_sample['z'], color='firebrick', label='eFEDS', alpha=0.7, bins=z_bins, density=True, \n",
    "        histtype='stepfilled')\n",
    "ax.hist(xxl['z'], color='tab:cyan', label='XXL-100-GC', alpha=0.7, bins=z_bins, density=True, \n",
    "        histtype='stepfilled')\n",
    "\n",
    "# Labelling axes, setting labels etc.\n",
    "ax.set_xlabel(r\"z\", fontsize=15)\n",
    "ax.set_xlim(0)\n",
    "ax.set_yticks([])\n",
    "ax.set_ylabel(\"Probability Density\", fontsize=15)\n",
    "# Add the a) label below this first plot\n",
    "ax.text(0.5, sublabel_ypos, s='a)', horizontalalignment='center', verticalalignment='center', \n",
    "        transform=ax.transAxes, fontsize=sublabel_fsize)\n",
    "ax.legend(loc='best', fontsize=14)\n",
    "\n",
    "# Reading out the second axis in the array of axes\n",
    "ax = ax_arr[1]\n",
    "# Plotting the density distributions of temperatures measured within a 300kpc aperture\n",
    "ax.hist(cur_sample['T_300kpc'], color='firebrick', label='eFEDS', alpha=0.7, bins=t_bins, density=True, \n",
    "        histtype='stepfilled')\n",
    "ax.hist(xxl['T300kpc'], color='tab:cyan', label='XXL-100-GC', alpha=0.7, bins=t_bins, density=True, \n",
    "        histtype='stepfilled')\n",
    "\n",
    "# Setting up labels, limits etc.\n",
    "ax.set_xlabel(r\"T$_{\\rm{x, 300kpc}}$ [keV]\", fontsize=15)\n",
    "ax.set_xlim(0)\n",
    "ax.set_yticks([])\n",
    "ax.legend(loc='best', fontsize=14)\n",
    "ax.text(0.5, sublabel_ypos, s='b)', horizontalalignment='center', verticalalignment='center', \n",
    "        transform=ax.transAxes, fontsize=sublabel_fsize)\n",
    "\n",
    "# Reading out the last axis in the array of axes\n",
    "ax = ax_arr[2]\n",
    "# Calculating the fractional temperature errors of the eFEDS measurements, and plotting\n",
    "av_frac_err = np.nanmean(cur_sample[['T_300kpc-', 'T_300kpc+']].replace(0, np.NaN).values, \n",
    "                         axis=1) /cur_sample['T_300kpc']\n",
    "ax.hist(av_frac_err, bins=t_frac_bins, color='firebrick', alpha=0.7, label='eFEDS', density=True, \n",
    "        histtype='stepfilled')\n",
    "\n",
    "# Calculating the fractional temperature errors of the XXL measurements, and plotting\n",
    "xxl_frac_err = xxl['e_T300kpc'] / xxl['T300kpc']\n",
    "ax.hist(xxl_frac_err, bins=t_frac_bins, color='tab:cyan', alpha=0.7, label='XXL-100-GC', density=True, \n",
    "        histtype='stepfilled')\n",
    "\n",
    "# Setting up axis labels, limits, etc.\n",
    "ax.set_xlabel(r\"$\\Delta \\rm{T}_{\\rm{x, 300kpc}}$ / $\\rm{T}_{\\rm{x, 300kpc}}$\", fontsize=15)\n",
    "ax.set_xlim(0, 0.5)\n",
    "ax.set_yticks([])\n",
    "ax.text(0.5, sublabel_ypos, s='c)', horizontalalignment='center', verticalalignment='center', \n",
    "        transform=ax.transAxes, fontsize=sublabel_fsize)\n",
    "\n",
    "ax.legend(loc='best', fontsize=14)\n",
    "\n",
    "# Saving and plotting the resulting figure\n",
    "plt.tight_layout()\n",
    "plt.savefig(\"output_figures/efeds_xxl_z+t+t_frac.pdf\")\n",
    "plt.show()"
   ]
  },
  {
   "cell_type": "markdown",
   "metadata": {},
   "source": [
    "We also print the mean values of the fractional temperature uncertainties:"
   ]
  },
  {
   "cell_type": "code",
   "execution_count": 11,
   "metadata": {},
   "outputs": [
    {
     "name": "stdout",
     "output_type": "stream",
     "text": [
      "eFEDS mean fractional temperature uncertainty is 0.25\n",
      "XXL mean fractional temperature uncertainty is 0.14\n"
     ]
    }
   ],
   "source": [
    "print('eFEDS mean fractional temperature uncertainty is', np.mean(av_frac_err).round(2))\n",
    "print('XXL mean fractional temperature uncertainty is', np.mean(xxl_frac_err).round(2))"
   ]
  },
  {
   "cell_type": "markdown",
   "metadata": {},
   "source": [
    "## Manually excluding some data"
   ]
  },
  {
   "cell_type": "markdown",
   "metadata": {},
   "source": [
    "Here we define a dictionary that describes any data that needs to be manually disassociated from defined GalaxyCluster objects, with the reason for exclusion given in comments."
   ]
  },
  {
   "cell_type": "code",
   "execution_count": 12,
   "metadata": {},
   "outputs": [],
   "source": [
    "# The dictionary of data to remove, top level keys are source names\n",
    "to_remove = {}\n",
    "\n",
    "# We remove the 0602830401 MOS1 and MOS2 data from this source because their spectra have an extremely unusual \n",
    "#  line/feature present which does not appear in the PN spectrum\n",
    "to_remove['eFEDS-372'] = {\"0602830401\": [\"mos1\", \"mos2\"]}"
   ]
  },
  {
   "cell_type": "markdown",
   "metadata": {},
   "source": [
    "## One cluster's eFEDS properties require special consideration"
   ]
  },
  {
   "cell_type": "markdown",
   "metadata": {},
   "source": [
    "This cluster appears to have been split into two pieces by the eFEDS source finder (the other part is eFEDS-8602, which **does not** appear in the eFEDS-XCS sample). As it seems likely that the eFEDS spectral analysis will have excluded the eFEDS-8602 region from the eFEDS-1023 analysis, the temperature and luminosity that they report for it is in question. It is one of the few clusters that has both an eFEDS and XMM temperature, but we do not think we can safely use it for the comparison. We do make an attempt to analyse it, by excluding eFEDS-8602 from our own spectrum generation using the extent reported in the optical counterpart catalogue.\n",
    "\n",
    "We create a variable here so that we can easily remove/highlight measurements we make of this cluster later on:"
   ]
  },
  {
   "cell_type": "code",
   "execution_count": 13,
   "metadata": {},
   "outputs": [],
   "source": [
    "split_cluster = \"eFEDS-1023\""
   ]
  },
  {
   "cell_type": "markdown",
   "metadata": {},
   "source": [
    "## Brief exploration of the eFEDS-XMM sample"
   ]
  },
  {
   "cell_type": "markdown",
   "metadata": {},
   "source": [
    "We do not perform analysis on the objects in the eFEDs-XMM sample, but we do extract information on the XMM observations of these objects, largely to compare exposure times between XMM pointings and the eFEDS survey."
   ]
  },
  {
   "cell_type": "markdown",
   "metadata": {},
   "source": [
    "### Creating a ClusterSample for eFEDS-XMM"
   ]
  },
  {
   "cell_type": "markdown",
   "metadata": {},
   "source": [
    "We do not consider all of the candidates in the eFEDS-XMM sample to be galaxy clusters, but we do define an XGA ClusterSample object so that the requirements of 70% of 300kpc aperture falling on an XMM pointing are applied:"
   ]
  },
  {
   "cell_type": "code",
   "execution_count": 14,
   "metadata": {},
   "outputs": [
    {
     "name": "stderr",
     "output_type": "stream",
     "text": [
      "Declaring BaseSource Sample: 100%|██████████| 62/62 [00:51<00:00,  1.21it/s]\n",
      "Setting up Galaxy Clusters:   0%|          | 0/62 [00:00<?, ?it/s]/home/dt237/code/PycharmProjects/XGA/xga/sources/general.py:84: UserWarning: There are 1 alternative matches for observation 0822470101, associated with source eFEDS-5702\n",
      "  warnings.warn(\"There are {0} alternative matches for observation {1}, associated with \"\n",
      "/home/dt237/code/PycharmProjects/XGA/xga/sources/general.py:99: UserWarning: eFEDS-5702 has not been detected in all region files, so generating and fitting products with the 'region' reg_type will not use all available data\n",
      "  warnings.warn(\"{n} has not been detected in all region files, so generating and fitting products\"\n",
      "Setting up Galaxy Clusters:   2%|▏         | 1/62 [00:02<02:57,  2.91s/it]/home/dt237/code/PycharmProjects/XGA/xga/sources/general.py:99: UserWarning: eFEDS-6605 has not been detected in all region files, so generating and fitting products with the 'region' reg_type will not use all available data\n",
      "  warnings.warn(\"{n} has not been detected in all region files, so generating and fitting products\"\n",
      "Setting up Galaxy Clusters:   3%|▎         | 2/62 [00:05<02:54,  2.90s/it]/home/dt237/code/PycharmProjects/XGA/xga/sources/general.py:84: UserWarning: There are 1 alternative matches for observation 0822470101, associated with source eFEDS-1644\n",
      "  warnings.warn(\"There are {0} alternative matches for observation {1}, associated with \"\n",
      "Setting up Galaxy Clusters:   5%|▍         | 3/62 [00:08<02:49,  2.87s/it]/home/dt237/code/PycharmProjects/XGA/xga/sources/general.py:99: UserWarning: eFEDS-3008 has not been detected in all region files, so generating and fitting products with the 'region' reg_type will not use all available data\n",
      "  warnings.warn(\"{n} has not been detected in all region files, so generating and fitting products\"\n",
      "Setting up Galaxy Clusters:  11%|█▏        | 7/62 [00:15<01:39,  1.81s/it]/home/dt237/code/PycharmProjects/XGA/xga/sources/general.py:99: UserWarning: eFEDS-8602 has not been detected in all region files, so generating and fitting products with the 'region' reg_type will not use all available data\n",
      "  warnings.warn(\"{n} has not been detected in all region files, so generating and fitting products\"\n",
      "Setting up Galaxy Clusters:  13%|█▎        | 8/62 [00:17<01:40,  1.86s/it]/home/dt237/code/PycharmProjects/XGA/xga/sources/general.py:99: UserWarning: eFEDS-1023 has not been detected in all region files, so generating and fitting products with the 'region' reg_type will not use all available data\n",
      "  warnings.warn(\"{n} has not been detected in all region files, so generating and fitting products\"\n",
      "Setting up Galaxy Clusters:  26%|██▌       | 16/62 [00:26<00:50,  1.11s/it]/home/dt237/code/PycharmProjects/XGA/xga/sources/general.py:99: UserWarning: eFEDS-2079 has not been detected in all region files, so generating and fitting products with the 'region' reg_type will not use all available data\n",
      "  warnings.warn(\"{n} has not been detected in all region files, so generating and fitting products\"\n",
      "Setting up Galaxy Clusters:  39%|███▊      | 24/62 [00:38<00:54,  1.44s/it]/home/dt237/code/PycharmProjects/XGA/xga/sources/general.py:84: UserWarning: There are 1 alternative matches for observation 0725290141, associated with source eFEDS-2757\n",
      "  warnings.warn(\"There are {0} alternative matches for observation {1}, associated with \"\n",
      "Setting up Galaxy Clusters:  40%|████      | 25/62 [00:40<00:54,  1.48s/it]/home/dt237/code/PycharmProjects/XGA/xga/sources/general.py:84: UserWarning: There are 1 alternative matches for observation 0725290144, associated with source eFEDS-3171\n",
      "  warnings.warn(\"There are {0} alternative matches for observation {1}, associated with \"\n",
      "Setting up Galaxy Clusters:  45%|████▌     | 28/62 [00:53<01:50,  3.25s/it]/home/dt237/code/PycharmProjects/XGA/xga/sources/general.py:99: UserWarning: eFEDS-1104 has not been detected in all region files, so generating and fitting products with the 'region' reg_type will not use all available data\n",
      "  warnings.warn(\"{n} has not been detected in all region files, so generating and fitting products\"\n",
      "Setting up Galaxy Clusters:  47%|████▋     | 29/62 [00:56<01:46,  3.21s/it]/home/dt237/code/PycharmProjects/XGA/xga/sources/general.py:99: UserWarning: eFEDS-4232 has not been detected in all region files, so generating and fitting products with the 'region' reg_type will not use all available data\n",
      "  warnings.warn(\"{n} has not been detected in all region files, so generating and fitting products\"\n",
      "Setting up Galaxy Clusters:  48%|████▊     | 30/62 [00:59<01:40,  3.15s/it]/home/dt237/code/PycharmProjects/XGA/xga/sources/general.py:84: UserWarning: There are 1 alternative matches for observation 0725300159, associated with source eFEDS-6840\n",
      "  warnings.warn(\"There are {0} alternative matches for observation {1}, associated with \"\n",
      "Setting up Galaxy Clusters:  50%|█████     | 31/62 [01:01<01:27,  2.82s/it]/home/dt237/code/PycharmProjects/XGA/xga/sources/general.py:84: UserWarning: There are 2 alternative matches for observation 0725300159, associated with source eFEDS-5655\n",
      "  warnings.warn(\"There are {0} alternative matches for observation {1}, associated with \"\n",
      "Setting up Galaxy Clusters:  52%|█████▏    | 32/62 [01:05<01:35,  3.18s/it]/home/dt237/code/PycharmProjects/XGA/xga/sources/general.py:99: UserWarning: eFEDS-1712 has not been detected in all region files, so generating and fitting products with the 'region' reg_type will not use all available data\n",
      "  warnings.warn(\"{n} has not been detected in all region files, so generating and fitting products\"\n",
      "Setting up Galaxy Clusters:  56%|█████▋    | 35/62 [01:27<02:37,  5.82s/it]/home/dt237/code/PycharmProjects/XGA/xga/sources/general.py:99: UserWarning: eFEDS-3590 has not been detected in all region files, so generating and fitting products with the 'region' reg_type will not use all available data\n",
      "  warnings.warn(\"{n} has not been detected in all region files, so generating and fitting products\"\n",
      "Setting up Galaxy Clusters:  58%|█████▊    | 36/62 [01:30<02:14,  5.16s/it]/home/dt237/code/PycharmProjects/XGA/xga/sources/general.py:99: UserWarning: eFEDS-12660 has not been detected in all region files, so generating and fitting products with the 'region' reg_type will not use all available data\n",
      "  warnings.warn(\"{n} has not been detected in all region files, so generating and fitting products\"\n",
      "Setting up Galaxy Clusters:  60%|█████▉    | 37/62 [01:33<01:48,  4.36s/it]/home/dt237/code/PycharmProjects/XGA/xga/sources/general.py:84: UserWarning: There are 1 alternative matches for observation 0725310149, associated with source eFEDS-3585\n",
      "  warnings.warn(\"There are {0} alternative matches for observation {1}, associated with \"\n",
      "/home/dt237/code/PycharmProjects/XGA/xga/sources/general.py:84: UserWarning: There are 1 alternative matches for observation 0725310131, associated with source eFEDS-3585\n",
      "  warnings.warn(\"There are {0} alternative matches for observation {1}, associated with \"\n",
      "/home/dt237/code/PycharmProjects/XGA/xga/sources/general.py:99: UserWarning: eFEDS-3585 has not been detected in all region files, so generating and fitting products with the 'region' reg_type will not use all available data\n",
      "  warnings.warn(\"{n} has not been detected in all region files, so generating and fitting products\"\n",
      "Setting up Galaxy Clusters:  61%|██████▏   | 38/62 [01:41<02:12,  5.51s/it]/home/dt237/code/PycharmProjects/XGA/xga/sources/general.py:84: UserWarning: There are 1 alternative matches for observation 0725300152, associated with source eFEDS-5170\n",
      "  warnings.warn(\"There are {0} alternative matches for observation {1}, associated with \"\n",
      "/home/dt237/code/PycharmProjects/XGA/xga/sources/general.py:84: UserWarning: There are 1 alternative matches for observation 0725300153, associated with source eFEDS-5170\n",
      "  warnings.warn(\"There are {0} alternative matches for observation {1}, associated with \"\n",
      "Setting up Galaxy Clusters:  65%|██████▍   | 40/62 [01:55<02:14,  6.13s/it]/home/dt237/code/PycharmProjects/XGA/xga/sources/general.py:99: UserWarning: eFEDS-3259 has not been detected in all region files, so generating and fitting products with the 'region' reg_type will not use all available data\n",
      "  warnings.warn(\"{n} has not been detected in all region files, so generating and fitting products\"\n"
     ]
    },
    {
     "name": "stderr",
     "output_type": "stream",
     "text": [
      "Setting up Galaxy Clusters:  66%|██████▌   | 41/62 [02:02<02:17,  6.53s/it]/home/dt237/code/PycharmProjects/XGA/xga/sources/general.py:84: UserWarning: There are 1 alternative matches for observation 0725310148, associated with source eFEDS-7086\n",
      "  warnings.warn(\"There are {0} alternative matches for observation {1}, associated with \"\n",
      "/home/dt237/code/PycharmProjects/XGA/xga/sources/general.py:99: UserWarning: eFEDS-7086 has not been detected in all region files, so generating and fitting products with the 'region' reg_type will not use all available data\n",
      "  warnings.warn(\"{n} has not been detected in all region files, so generating and fitting products\"\n",
      "Setting up Galaxy Clusters:  69%|██████▉   | 43/62 [02:18<02:17,  7.22s/it]/home/dt237/code/PycharmProjects/XGA/xga/sources/general.py:84: UserWarning: There are 1 alternative matches for observation 0725310148, associated with source eFEDS-9463\n",
      "  warnings.warn(\"There are {0} alternative matches for observation {1}, associated with \"\n",
      "Setting up Galaxy Clusters:  74%|███████▍  | 46/62 [02:36<01:35,  5.99s/it]/home/dt237/code/PycharmProjects/XGA/xga/sources/general.py:84: UserWarning: There are 1 alternative matches for observation 0725310158, associated with source eFEDS-5219\n",
      "  warnings.warn(\"There are {0} alternative matches for observation {1}, associated with \"\n",
      "/home/dt237/code/PycharmProjects/XGA/xga/sources/general.py:84: UserWarning: There are 1 alternative matches for observation 0725310147, associated with source eFEDS-5219\n",
      "  warnings.warn(\"There are {0} alternative matches for observation {1}, associated with \"\n",
      "/home/dt237/code/PycharmProjects/XGA/xga/sources/general.py:99: UserWarning: eFEDS-5219 has not been detected in all region files, so generating and fitting products with the 'region' reg_type will not use all available data\n",
      "  warnings.warn(\"{n} has not been detected in all region files, so generating and fitting products\"\n",
      "Setting up Galaxy Clusters:  76%|███████▌  | 47/62 [02:41<01:25,  5.67s/it]/home/dt237/code/PycharmProjects/XGA/xga/sources/general.py:99: UserWarning: eFEDS-7084 has not been detected in all region files, so generating and fitting products with the 'region' reg_type will not use all available data\n",
      "  warnings.warn(\"{n} has not been detected in all region files, so generating and fitting products\"\n",
      "Setting up Galaxy Clusters:  77%|███████▋  | 48/62 [02:43<01:02,  4.47s/it]/home/dt237/code/PycharmProjects/XGA/xga/sources/general.py:99: UserWarning: eFEDS-885 has not been detected in all region files, so generating and fitting products with the 'region' reg_type will not use all available data\n",
      "  warnings.warn(\"{n} has not been detected in all region files, so generating and fitting products\"\n",
      "Setting up Galaxy Clusters:  79%|███████▉  | 49/62 [02:46<00:55,  4.26s/it]/home/dt237/code/PycharmProjects/XGA/xga/sources/general.py:99: UserWarning: eFEDS-2004 has not been detected in all region files, so generating and fitting products with the 'region' reg_type will not use all available data\n",
      "  warnings.warn(\"{n} has not been detected in all region files, so generating and fitting products\"\n",
      "Setting up Galaxy Clusters:  81%|████████  | 50/62 [02:47<00:39,  3.29s/it]/home/dt237/code/PycharmProjects/XGA/xga/sources/general.py:99: UserWarning: eFEDS-3523 has not been detected in all region files, so generating and fitting products with the 'region' reg_type will not use all available data\n",
      "  warnings.warn(\"{n} has not been detected in all region files, so generating and fitting products\"\n",
      "Setting up Galaxy Clusters:  90%|█████████ | 56/62 [02:53<00:07,  1.20s/it]/home/dt237/code/PycharmProjects/XGA/xga/sources/extended.py:180: UserWarning: A point source has been detected in 0673180201 and is very close to the user supplied coordinates of eFEDS-150. It will not be excluded from analysis due to the possibility of a mis-identified cool core\n",
      "  warnings.warn(\"A point source has been detected in {o} and is very close to the user supplied \"\n",
      "Setting up Galaxy Clusters:  92%|█████████▏| 57/62 [02:54<00:05,  1.15s/it]/home/dt237/code/PycharmProjects/XGA/xga/sources/extended.py:180: UserWarning: A point source has been detected in 0673180201 and is very close to the user supplied coordinates of eFEDS-11754. It will not be excluded from analysis due to the possibility of a mis-identified cool core\n",
      "  warnings.warn(\"A point source has been detected in {o} and is very close to the user supplied \"\n",
      "Setting up Galaxy Clusters:  97%|█████████▋| 60/62 [02:57<00:02,  1.09s/it]/home/dt237/code/PycharmProjects/XGA/xga/sources/extended.py:184: UserWarning: A PSF sized extended source has been detected in 0823710301 and is very close to the user supplied coordinates of eFEDS-3133. It will not be excluded from analysis due to the possibility of a mis-identified cool core\n",
      "  warnings.warn(\"A PSF sized extended source has been detected in {o} and is very close to the \"\n",
      "Setting up Galaxy Clusters: 100%|██████████| 62/62 [02:59<00:00,  2.90s/it]\n"
     ]
    }
   ],
   "source": [
    "ra = efeds_xmm['RA'].values\n",
    "dec = efeds_xmm['DEC'].values\n",
    "z = efeds_xmm['z'].values\n",
    "n = efeds_xmm['name'].values\n",
    "\n",
    "efeds_xmm_srcs = ClusterSample(ra, dec, z, n, r500=Quantity([300]*len(efeds_xmm), 'kpc'), \n",
    "                     use_peak=False, back_inn_rad_factor=2, back_out_rad_factor=3, clean_obs=True, \n",
    "                     clean_obs_reg='r500', clean_obs_threshold=0.7, load_fits=True, cosmology=cosmo)"
   ]
  },
  {
   "cell_type": "markdown",
   "metadata": {},
   "source": [
    "We remove any data that we manually exclude in the section above, then regenerate combined images and exposure maps to account for the removed data:"
   ]
  },
  {
   "cell_type": "code",
   "execution_count": 15,
   "metadata": {},
   "outputs": [
    {
     "data": {
      "text/plain": [
       "<xga.samples.extended.ClusterSample at 0x7fe2eb0b1c70>"
      ]
     },
     "execution_count": 15,
     "metadata": {},
     "output_type": "execute_result"
    }
   ],
   "source": [
    "for n in to_remove:\n",
    "    efeds_xmm_srcs[n].disassociate_obs(to_remove[n])\n",
    "    \n",
    "emosaic(efeds_xmm_srcs, 'image', lo_en=Quantity(0.5, 'keV'), hi_en=Quantity(2.0, 'keV'))\n",
    "emosaic(efeds_xmm_srcs, 'expmap', lo_en=Quantity(0.5, 'keV'), hi_en=Quantity(2.0, 'keV'))"
   ]
  },
  {
   "cell_type": "markdown",
   "metadata": {},
   "source": [
    "### Exposure times of the eFEDS-XMM candidates"
   ]
  },
  {
   "cell_type": "markdown",
   "metadata": {},
   "source": [
    "One of the figures in the paper displays the XMM exposure times of the eFEDS-XMM sample, so they can be compared to the average vignetting corrected eFEDS exposure. Here we extract the exposure times at the eFEDs coordinate both for the best single exposure, and the combined data:"
   ]
  },
  {
   "cell_type": "code",
   "execution_count": 16,
   "metadata": {},
   "outputs": [
    {
     "data": {
      "image/png": "[encoded data removed]",
      "text/plain": [
       "<Figure size 432x432 with 1 Axes>"
      ]
     },
     "metadata": {
      "needs_background": "light"
     },
     "output_type": "display_data"
    }
   ],
   "source": [
    "# Defining lists to store exposure times in\n",
    "best_case_exps = []\n",
    "total_exps = []\n",
    "\n",
    "# Iterating through all of the candidates in eFEDS-XMM\n",
    "for src in efeds_xmm_srcs:\n",
    "    # Somewhere to store all the exposure times for a particular candidate\n",
    "    all_exps = {}\n",
    "    # Retrieving XMM exposure maps generated for the 0.5-2.0keV energy range\n",
    "    ems = src.get_expmaps(lo_en=Quantity(0.5, 'keV'), hi_en=Quantity(2.0, 'keV'))\n",
    "    # This method can return a list of exposure maps, or a single exposure map (if there is only\n",
    "    #  a single camera from a single observation associated with the source)\n",
    "    if isinstance(ems, list):\n",
    "        for em in ems:\n",
    "            # We retrieve the exposure time at the eFEDS position\n",
    "            all_exps[em.obs_id+em.instrument] = em.get_exp(src.ra_dec)\n",
    "    else:\n",
    "        em = ems\n",
    "        # We retrieve the exposure time at the eFEDS position\n",
    "        all_exps[em.obs_id+em.instrument] = em.get_exp(src.ra_dec)\n",
    "    \n",
    "    # Grabbing the combined exposure map within the same energy range\n",
    "    comb_em = src.get_combined_expmaps(lo_en=Quantity(0.5, 'keV'), hi_en=Quantity(2.0, 'keV'))\n",
    "    # Retrieving the combined exposure time and appending the maximum individual exposure time\n",
    "    total_exps.append(comb_em.get_exp(src.ra_dec).value)\n",
    "    best_case_exps.append(max(all_exps.values()).value)\n",
    "\n",
    "# Setting up the figure and altering how ticks are displayed\n",
    "plt.figure(figsize=(6, 6))\n",
    "plt.minorticks_on()\n",
    "plt.tick_params(which='both', top=True, right=True, direction='in')\n",
    "\n",
    "# Adding the single best exposure time and combined exposure time distributions\n",
    "plt.hist(best_case_exps, bins=np.logspace(1, 5.3, 16), color='cadetblue', label='eFEDS-XMM Best Single', \n",
    "         alpha=0.5, histtype='stepfilled')\n",
    "plt.hist(total_exps, bins=np.logspace(1, 5.4, 16), color='dimgrey', label='eFEDS-XMM Total', alpha=0.7, \n",
    "         histtype='stepfilled')\n",
    "\n",
    "# Adding a vertical line for the approximate average vignetting corrected exposure time for eFEDS\n",
    "plt.axvline(1200, color='firebrick', linestyle='dashed', label='eFEDS Average')\n",
    "\n",
    "# Setting up labels, scaling etc.\n",
    "plt.ylabel('N', fontsize=15)\n",
    "plt.xlim(500)\n",
    "plt.xlabel(\"XMM Exposure [s]\", fontsize=15)\n",
    "plt.xscale('log')\n",
    "plt.legend(fontsize=13)\n",
    "plt.tight_layout()\n",
    "# Saving the resulting figure\n",
    "plt.savefig('output_figures/xmm_exposures.pdf')\n",
    "plt.show()"
   ]
  },
  {
   "cell_type": "markdown",
   "metadata": {},
   "source": [
    "## First insights into the eFEDs-XCS sample"
   ]
  },
  {
   "cell_type": "markdown",
   "metadata": {},
   "source": [
    "### Creating a ClusterSample for eFEDS-XCS"
   ]
  },
  {
   "cell_type": "markdown",
   "metadata": {},
   "source": [
    "Setting up the ClusterSample object of our final analysis sample."
   ]
  },
  {
   "cell_type": "code",
   "execution_count": 17,
   "metadata": {
    "scrolled": true
   },
   "outputs": [
    {
     "name": "stderr",
     "output_type": "stream",
     "text": [
      "Declaring BaseSource Sample: 100%|██████████| 37/37 [00:33<00:00,  1.11it/s]\n",
      "Setting up Galaxy Clusters:   0%|          | 0/37 [00:00<?, ?it/s]/home/dt237/code/PycharmProjects/XGA/xga/sources/general.py:99: UserWarning: eFEDS-6605 has not been detected in all region files, so generating and fitting products with the 'region' reg_type will not use all available data\n",
      "  warnings.warn(\"{n} has not been detected in all region files, so generating and fitting products\"\n",
      "Setting up Galaxy Clusters:   8%|▊         | 3/37 [00:04<01:02,  1.85s/it]/home/dt237/code/PycharmProjects/XGA/xga/sources/general.py:99: UserWarning: eFEDS-1023 has not been detected in all region files, so generating and fitting products with the 'region' reg_type will not use all available data\n",
      "  warnings.warn(\"{n} has not been detected in all region files, so generating and fitting products\"\n",
      "Setting up Galaxy Clusters:  22%|██▏       | 8/37 [00:09<00:29,  1.01s/it]/home/dt237/code/PycharmProjects/XGA/xga/sources/general.py:99: UserWarning: eFEDS-2079 has not been detected in all region files, so generating and fitting products with the 'region' reg_type will not use all available data\n",
      "  warnings.warn(\"{n} has not been detected in all region files, so generating and fitting products\"\n",
      "Setting up Galaxy Clusters:  32%|███▏      | 12/37 [00:16<00:33,  1.36s/it]/home/dt237/code/PycharmProjects/XGA/xga/sources/general.py:84: UserWarning: There are 1 alternative matches for observation 0725290144, associated with source eFEDS-3171\n",
      "  warnings.warn(\"There are {0} alternative matches for observation {1}, associated with \"\n",
      "Setting up Galaxy Clusters:  38%|███▊      | 14/37 [00:27<01:21,  3.55s/it]/home/dt237/code/PycharmProjects/XGA/xga/sources/general.py:99: UserWarning: eFEDS-1104 has not been detected in all region files, so generating and fitting products with the 'region' reg_type will not use all available data\n",
      "  warnings.warn(\"{n} has not been detected in all region files, so generating and fitting products\"\n",
      "Setting up Galaxy Clusters:  41%|████      | 15/37 [00:30<01:15,  3.41s/it]/home/dt237/code/PycharmProjects/XGA/xga/sources/general.py:99: UserWarning: eFEDS-4232 has not been detected in all region files, so generating and fitting products with the 'region' reg_type will not use all available data\n",
      "  warnings.warn(\"{n} has not been detected in all region files, so generating and fitting products\"\n",
      "Setting up Galaxy Clusters:  43%|████▎     | 16/37 [00:33<01:09,  3.29s/it]/home/dt237/code/PycharmProjects/XGA/xga/sources/general.py:84: UserWarning: There are 2 alternative matches for observation 0725300159, associated with source eFEDS-5655\n",
      "  warnings.warn(\"There are {0} alternative matches for observation {1}, associated with \"\n",
      "Setting up Galaxy Clusters:  46%|████▌     | 17/37 [00:38<01:10,  3.53s/it]/home/dt237/code/PycharmProjects/XGA/xga/sources/general.py:99: UserWarning: eFEDS-1712 has not been detected in all region files, so generating and fitting products with the 'region' reg_type will not use all available data\n",
      "  warnings.warn(\"{n} has not been detected in all region files, so generating and fitting products\"\n",
      "Setting up Galaxy Clusters:  51%|█████▏    | 19/37 [00:53<01:43,  5.75s/it]/home/dt237/code/PycharmProjects/XGA/xga/sources/general.py:99: UserWarning: eFEDS-3590 has not been detected in all region files, so generating and fitting products with the 'region' reg_type will not use all available data\n",
      "  warnings.warn(\"{n} has not been detected in all region files, so generating and fitting products\"\n",
      "Setting up Galaxy Clusters:  54%|█████▍    | 20/37 [00:56<01:25,  5.03s/it]/home/dt237/code/PycharmProjects/XGA/xga/sources/general.py:99: UserWarning: eFEDS-12660 has not been detected in all region files, so generating and fitting products with the 'region' reg_type will not use all available data\n",
      "  warnings.warn(\"{n} has not been detected in all region files, so generating and fitting products\"\n",
      "Setting up Galaxy Clusters:  57%|█████▋    | 21/37 [00:59<01:08,  4.30s/it]/home/dt237/code/PycharmProjects/XGA/xga/sources/general.py:84: UserWarning: There are 1 alternative matches for observation 0725310149, associated with source eFEDS-3585\n",
      "  warnings.warn(\"There are {0} alternative matches for observation {1}, associated with \"\n",
      "/home/dt237/code/PycharmProjects/XGA/xga/sources/general.py:84: UserWarning: There are 1 alternative matches for observation 0725310131, associated with source eFEDS-3585\n",
      "  warnings.warn(\"There are {0} alternative matches for observation {1}, associated with \"\n",
      "/home/dt237/code/PycharmProjects/XGA/xga/sources/general.py:99: UserWarning: eFEDS-3585 has not been detected in all region files, so generating and fitting products with the 'region' reg_type will not use all available data\n",
      "  warnings.warn(\"{n} has not been detected in all region files, so generating and fitting products\"\n",
      "Setting up Galaxy Clusters:  59%|█████▉    | 22/37 [01:07<01:20,  5.37s/it]/home/dt237/code/PycharmProjects/XGA/xga/sources/general.py:84: UserWarning: There are 1 alternative matches for observation 0725300152, associated with source eFEDS-5170\n",
      "  warnings.warn(\"There are {0} alternative matches for observation {1}, associated with \"\n",
      "/home/dt237/code/PycharmProjects/XGA/xga/sources/general.py:84: UserWarning: There are 1 alternative matches for observation 0725300153, associated with source eFEDS-5170\n",
      "  warnings.warn(\"There are {0} alternative matches for observation {1}, associated with \"\n",
      "Setting up Galaxy Clusters:  65%|██████▍   | 24/37 [01:21<01:19,  6.15s/it]/home/dt237/code/PycharmProjects/XGA/xga/sources/general.py:99: UserWarning: eFEDS-3259 has not been detected in all region files, so generating and fitting products with the 'region' reg_type will not use all available data\n",
      "  warnings.warn(\"{n} has not been detected in all region files, so generating and fitting products\"\n",
      "Setting up Galaxy Clusters:  68%|██████▊   | 25/37 [01:29<01:19,  6.62s/it]/home/dt237/code/PycharmProjects/XGA/xga/sources/general.py:84: UserWarning: There are 1 alternative matches for observation 0725310148, associated with source eFEDS-7086\n",
      "  warnings.warn(\"There are {0} alternative matches for observation {1}, associated with \"\n",
      "/home/dt237/code/PycharmProjects/XGA/xga/sources/general.py:99: UserWarning: eFEDS-7086 has not been detected in all region files, so generating and fitting products with the 'region' reg_type will not use all available data\n",
      "  warnings.warn(\"{n} has not been detected in all region files, so generating and fitting products\"\n",
      "Setting up Galaxy Clusters:  70%|███████   | 26/37 [01:36<01:15,  6.89s/it]/home/dt237/code/PycharmProjects/XGA/xga/sources/general.py:84: UserWarning: There are 1 alternative matches for observation 0725310158, associated with source eFEDS-5219\n",
      "  warnings.warn(\"There are {0} alternative matches for observation {1}, associated with \"\n",
      "/home/dt237/code/PycharmProjects/XGA/xga/sources/general.py:84: UserWarning: There are 1 alternative matches for observation 0725310147, associated with source eFEDS-5219\n",
      "  warnings.warn(\"There are {0} alternative matches for observation {1}, associated with \"\n",
      "/home/dt237/code/PycharmProjects/XGA/xga/sources/general.py:99: UserWarning: eFEDS-5219 has not been detected in all region files, so generating and fitting products with the 'region' reg_type will not use all available data\n",
      "  warnings.warn(\"{n} has not been detected in all region files, so generating and fitting products\"\n",
      "Setting up Galaxy Clusters:  73%|███████▎  | 27/37 [01:41<01:03,  6.33s/it]/home/dt237/code/PycharmProjects/XGA/xga/sources/general.py:99: UserWarning: eFEDS-7084 has not been detected in all region files, so generating and fitting products with the 'region' reg_type will not use all available data\n",
      "  warnings.warn(\"{n} has not been detected in all region files, so generating and fitting products\"\n",
      "Setting up Galaxy Clusters:  76%|███████▌  | 28/37 [01:43<00:44,  4.92s/it]/home/dt237/code/PycharmProjects/XGA/xga/sources/general.py:99: UserWarning: eFEDS-885 has not been detected in all region files, so generating and fitting products with the 'region' reg_type will not use all available data\n",
      "  warnings.warn(\"{n} has not been detected in all region files, so generating and fitting products\"\n"
     ]
    },
    {
     "name": "stderr",
     "output_type": "stream",
     "text": [
      "Setting up Galaxy Clusters:  78%|███████▊  | 29/37 [01:46<00:35,  4.42s/it]/home/dt237/code/PycharmProjects/XGA/xga/sources/general.py:99: UserWarning: eFEDS-2004 has not been detected in all region files, so generating and fitting products with the 'region' reg_type will not use all available data\n",
      "  warnings.warn(\"{n} has not been detected in all region files, so generating and fitting products\"\n",
      "Setting up Galaxy Clusters:  81%|████████  | 30/37 [01:47<00:24,  3.46s/it]/home/dt237/code/PycharmProjects/XGA/xga/sources/general.py:99: UserWarning: eFEDS-3523 has not been detected in all region files, so generating and fitting products with the 'region' reg_type will not use all available data\n",
      "  warnings.warn(\"{n} has not been detected in all region files, so generating and fitting products\"\n",
      "Setting up Galaxy Clusters: 100%|██████████| 37/37 [01:54<00:00,  3.11s/it]\n"
     ]
    }
   ],
   "source": [
    "ra = efeds_xcs['RA'].values\n",
    "dec = efeds_xcs['DEC'].values\n",
    "z = efeds_xcs['z'].values\n",
    "n = efeds_xcs['name'].values\n",
    "\n",
    "efeds_xcs_srcs = ClusterSample(ra, dec, z, n, r500=Quantity([300]*len(efeds_xcs), 'kpc'), \n",
    "                     use_peak=False, back_inn_rad_factor=2, back_out_rad_factor=3, clean_obs=True, \n",
    "                     clean_obs_reg='r500', clean_obs_threshold=0.7, load_fits=True, cosmology=cosmo)"
   ]
  },
  {
   "cell_type": "markdown",
   "metadata": {},
   "source": [
    "Again we disassociate observations that we marked for manual removal earlier in the notebook."
   ]
  },
  {
   "cell_type": "code",
   "execution_count": 18,
   "metadata": {},
   "outputs": [
    {
     "data": {
      "text/plain": [
       "<xga.samples.extended.ClusterSample at 0x7fe2988109d0>"
      ]
     },
     "execution_count": 18,
     "metadata": {},
     "output_type": "execute_result"
    }
   ],
   "source": [
    "for n in to_remove:\n",
    "    efeds_xcs_srcs[n].disassociate_obs(to_remove[n])\n",
    "    \n",
    "emosaic(efeds_xcs_srcs, 'image', lo_en=Quantity(0.5, 'keV'), hi_en=Quantity(2.0, 'keV'))\n",
    "emosaic(efeds_xcs_srcs, 'expmap', lo_en=Quantity(0.5, 'keV'), hi_en=Quantity(2.0, 'keV'))"
   ]
  },
  {
   "cell_type": "markdown",
   "metadata": {},
   "source": [
    "### How many of these clusters have an eFEDS $T_{\\rm{x, 300kpc}}$ or $T_{\\rm{x, 500kpc}}$?"
   ]
  },
  {
   "cell_type": "markdown",
   "metadata": {},
   "source": [
    "We wish to know how many of the clusters in the eFEDS-XCS sample have eFEDS temperatures that we can directly compare to, as one of the main outputs of the paper will be a direct comparison of measured temperatures."
   ]
  },
  {
   "cell_type": "code",
   "execution_count": 19,
   "metadata": {},
   "outputs": [
    {
     "name": "stdout",
     "output_type": "stream",
     "text": [
      "7 of the clusters in the eFEDS-XCS sample have a valid eRASS T300kpc\n",
      "9 of the clusters in the eFEDS-XCS sample have a valid eRASS T500kpc\n"
     ]
    }
   ],
   "source": [
    "cur_sample = efeds_xray[efeds_xray['name'].isin(efeds_xcs_srcs.names)]\n",
    "num_t300 = len(cur_sample) - cur_sample['T_300kpc'].value_counts()[-1]\n",
    "num_t500 = len(cur_sample) - cur_sample['T_500kpc'].value_counts()[-1]\n",
    "\n",
    "print(\"{} of the clusters in the eFEDS-XCS sample have a valid eRASS T300kpc\".format(num_t300))\n",
    "print(\"{} of the clusters in the eFEDS-XCS sample have a valid eRASS T500kpc\".format(num_t500))"
   ]
  },
  {
   "cell_type": "markdown",
   "metadata": {},
   "source": [
    "### How many of these clusters have been detected by XCS?"
   ]
  },
  {
   "cell_type": "markdown",
   "metadata": {},
   "source": [
    "We define detection as the eFEDS coordinate falling within an XCS extended source region."
   ]
  },
  {
   "cell_type": "code",
   "execution_count": 20,
   "metadata": {},
   "outputs": [
    {
     "name": "stdout",
     "output_type": "stream",
     "text": [
      "28 of the clusters in the eFEDS-XCS sample have been detected by XCS\n"
     ]
    }
   ],
   "source": [
    "num_det = 0\n",
    "for src in efeds_xcs_srcs:\n",
    "    if any(src.detected.values()):\n",
    "        num_det += 1\n",
    "print(\"{} of the clusters in the eFEDS-XCS sample have been detected by XCS\".format(num_det))"
   ]
  },
  {
   "cell_type": "markdown",
   "metadata": {},
   "source": [
    "### How many XMM observations do the clusters have?"
   ]
  },
  {
   "cell_type": "markdown",
   "metadata": {},
   "source": [
    "The left hand column indicates the number of observations, the right hand column the number of clusters in the eFEDS-XCS sample have that many XMM observations."
   ]
  },
  {
   "cell_type": "code",
   "execution_count": 21,
   "metadata": {},
   "outputs": [
    {
     "name": "stdout",
     "output_type": "stream",
     "text": [
      "1    19\n",
      "2    12\n",
      "3     5\n",
      "5     1\n",
      "dtype: int64\n"
     ]
    }
   ],
   "source": [
    "num_obs = []\n",
    "for src in efeds_xcs_srcs:\n",
    "    num_obs.append(len(src.obs_ids))\n",
    "\n",
    "print(pd.value_counts(num_obs))"
   ]
  },
  {
   "cell_type": "markdown",
   "metadata": {},
   "source": [
    "### How many clusters have at least one on-axis XMM observation?"
   ]
  },
  {
   "cell_type": "markdown",
   "metadata": {},
   "source": [
    "We define on-axis here to mean within 5 arcminutes of the pointing coordinates of the XMM observation."
   ]
  },
  {
   "cell_type": "code",
   "execution_count": 22,
   "metadata": {},
   "outputs": [
    {
     "name": "stdout",
     "output_type": "stream",
     "text": [
      "19 of the clusters in the eFEDS-XCS sample have at least one on-axis XMM observation\n"
     ]
    }
   ],
   "source": [
    "num_onax = 0\n",
    "for src in efeds_xcs_srcs:\n",
    "    if len(src.on_axis_obs_ids) > 0:\n",
    "        num_onax += 1\n",
    "print(\"{} of the clusters in the eFEDS-XCS sample have at least one on-axis XMM observation\".format(num_onax))"
   ]
  },
  {
   "cell_type": "markdown",
   "metadata": {},
   "source": [
    "## Comparisons of cluster properties measured by eFEDS and XCS"
   ]
  },
  {
   "cell_type": "markdown",
   "metadata": {},
   "source": [
    "This section is where we measure XMM temperatures and luminosities for the clusters in the eFEDS-XCS sample, and them compare them to eFEDs measured values. We compare distributions, like for like temperatures/luminosities, and L-T relations."
   ]
  },
  {
   "cell_type": "markdown",
   "metadata": {},
   "source": [
    "### Measuring XMM temperatures and luminosities for eFEDS-XCS clusters"
   ]
  },
  {
   "cell_type": "markdown",
   "metadata": {},
   "source": [
    "Here we generate spectra and fit absorbed plasma emission models to measure temperatures and unabsorbed luminosities for 500kpc and 300kpc apertures. The XCS master source list is used to remove unwanted sources, and we choose to use the XSPEC 'aspl' abundance table, to be consistent with the eFEDS analysis (in that regard)."
   ]
  },
  {
   "cell_type": "code",
   "execution_count": 24,
   "metadata": {},
   "outputs": [
    {
     "name": "stderr",
     "output_type": "stream",
     "text": [
      "Generating products of type(s) spectrum: 100%|██████████| 162/162 [58:48<00:00, 21.78s/it]  \n",
      "Running XSPEC Fits: 100%|██████████| 37/37 [10:11<00:00, 16.53s/it] \n",
      "Generating products of type(s) spectrum: 100%|██████████| 162/162 [11:38<00:00,  4.31s/it]\n",
      "Running XSPEC Fits: 100%|██████████| 37/37 [11:40<00:00, 18.93s/it] \n"
     ]
    },
    {
     "data": {
      "text/plain": [
       "<xga.samples.extended.ClusterSample at 0x7fe2988109d0>"
      ]
     },
     "execution_count": 24,
     "metadata": {},
     "output_type": "execute_result"
    }
   ],
   "source": [
    "single_temp_apec(efeds_xcs_srcs, Quantity(500, 'kpc'), abund_table='aspl', timeout=Quantity(5, 'hour'))\n",
    "single_temp_apec(efeds_xcs_srcs, Quantity(300, 'kpc'), abund_table='aspl', timeout=Quantity(5, 'hour'))"
   ]
  },
  {
   "cell_type": "markdown",
   "metadata": {},
   "source": [
    "### Storing eFEDS and XMM properties in arrays"
   ]
  },
  {
   "cell_type": "markdown",
   "metadata": {},
   "source": [
    "Temperatures and luminosities measured by XGA are stored within the ClusterSample object, but we extract them into arrays of AstroPy quantities for convenience. We do the same thing with the eFEDS values."
   ]
  },
  {
   "cell_type": "code",
   "execution_count": 53,
   "metadata": {
    "scrolled": false
   },
   "outputs": [],
   "source": [
    "# Extract the temperatures measured within 500kpc apertures, and the names of those clusters \n",
    "#  that have valid temperatures\n",
    "xga_t500 = efeds_xcs_srcs.Tx(Quantity(500, 'kpc'), quality_checks=True)\n",
    "good_t500_names = efeds_xcs_srcs.names[np.where(np.isfinite(xga_t500[:, 0]))[0]]\n",
    "\n",
    "# Extract the luminosities measured within 500kpc apertures, for 0.5-2.0keV energy band\n",
    "xga_l500 = efeds_xcs_srcs.Lx(Quantity(500, 'kpc'), quality_checks=True)\n",
    "\n",
    "# Make a sub-table of the eFEDS X-ray cluster candidate catalogue, with the order\n",
    "#  the same as the order in the XGA ClusterSample (guaranteed by the changing of the index and the use\n",
    "#  of .loc)\n",
    "cur_sample = efeds_xray[efeds_xray['name'].isin(efeds_xcs_srcs.names)].set_index('name')\n",
    "cur_sample = cur_sample.loc[efeds_xcs_srcs.names]\n",
    "\n",
    "# We also modify this sub-dataframe to replace the -1 values used by eFEDS to indicate \n",
    "#  an invalid measurement, with numpy NaN values\n",
    "cur_sample.loc[:, ['T_500kpc', 'L_500kpc']] = cur_sample[['T_500kpc', 'L_500kpc']].replace(-1, np.NaN)\n",
    "\n",
    "# Read out the eFEDS temperature and luminosity values into AstroPy quantities\n",
    "erosita_t500 = Quantity(cur_sample[['T_500kpc', 'T_500kpc-', 'T_500kpc+']], 'keV')\n",
    "erosita_l500 = Quantity(cur_sample[['L_500kpc', 'L_500kpc-', 'L_500kpc+']], 'erg/s')\n",
    "\n",
    "# This shouldn't really be necessary but we make sure that every eFEDS entry with a NaN \n",
    "#  measurement also has NaN uncertainties\n",
    "erosita_l500[np.where(np.isnan(erosita_l500.value))[0], :] = np.NaN\n",
    "erosita_t500[np.where(np.isnan(erosita_t500.value))[0], :] = np.NaN"
   ]
  },
  {
   "cell_type": "markdown",
   "metadata": {},
   "source": [
    "### Defining a fitting function based on LIRA"
   ]
  },
  {
   "cell_type": "markdown",
   "metadata": {},
   "source": [
    "This will be used to fit relations between XMM and eFEDS temperatures and luminosities, to see whether they are consistent with 1:1 relations. It is largely identical to the XGA scaling_relation_lira() function, but modified to support the freezing of the slope at 1."
   ]
  },
  {
   "cell_type": "code",
   "execution_count": 56,
   "metadata": {},
   "outputs": [],
   "source": [
    "def lira_fixed_slope(y_values: Quantity, y_errs: Quantity, x_values: Quantity, x_errs: Quantity = None,\n",
    "                     y_norm: Quantity = None, x_norm: Quantity = None, x_lims: Quantity = None, \n",
    "                     y_name: str = 'Y', x_name: str = 'X', num_steps: int = 100000, num_chains: int = 4, \n",
    "                     num_burn_in: int = 10000):\n",
    "    try:\n",
    "        from rpy2.robjects.packages import importr\n",
    "        from rpy2 import robjects\n",
    "        robjects.r['options'](warn=-1)\n",
    "    except ImportError:\n",
    "        raise XGAOptionalDependencyError('LIRA is an R fitting package, and as such you need to have installed '\n",
    "                                         'rpy2 to use this function')\n",
    "\n",
    "    # We use the rpy2 module to interface with an underlying R installation, and import the basic R components\n",
    "    base_pack = importr('base')\n",
    "    utils_pack = importr('utils')\n",
    "\n",
    "    # Now we import the thing we're actually interested in, the LIRA package\n",
    "    try:\n",
    "        lira_pack = importr('lira')\n",
    "    except robjects.packages.PackageNotInstalledError:\n",
    "        raise XGAOptionalDependencyError('While the rpy2 module is installed, you do not appear to have installed '\n",
    "                                         'the LIRA fitting package to your R environment')\n",
    "\n",
    "    # Slightly different data preparation to the other fitting methods, this one returns logged data and errors\n",
    "    x_fit_data, x_fit_errs, y_fit_data, y_fit_errs, x_norm, y_norm = _fit_initialise(y_values, y_errs, x_values,\n",
    "                                                                                     x_errs, y_norm, x_norm, True)\n",
    "\n",
    "    # And now we have to make some R objects so that we can pass it through our R interface to the LIRA package\n",
    "    x_fit_data = robjects.FloatVector(x_fit_data.value)\n",
    "    y_fit_data = robjects.FloatVector(y_fit_data.value)\n",
    "    x_fit_errs = robjects.FloatVector(x_fit_errs.value)\n",
    "    y_fit_errs = robjects.FloatVector(y_fit_errs.value)\n",
    "    \n",
    "    # This runs the LIRA fit and grabs the output data frame, from that I can read the chains for the different\n",
    "    #  parameters\n",
    "    chains = lira_pack.lira(x_fit_data, y_fit_data, delta_x=x_fit_errs, delta_y=y_fit_errs, n_iter=num_steps,\n",
    "                            n_chains=num_chains, n_adapt=num_burn_in, export=False, print_summary=False,\n",
    "                            print_diagnostic=False, beta_YIZ=1.)[0][0]\n",
    "\n",
    "    # Read out the alpha parameter chain and convert to a numpy array\n",
    "    alpha_par_chain = np.power(10, np.array(chains.rx2['alpha.YIZ']))\n",
    "    alpha_par_val = np.mean(alpha_par_chain)\n",
    "    alpha_par_err = np.std(alpha_par_chain)\n",
    "\n",
    "    # Read out the beta parameter chain and convert to a numpy array\n",
    "    beta_par_chain = np.array(chains.rx2['beta.YIZ'])\n",
    "    beta_par_val = np.mean(beta_par_chain)\n",
    "    beta_par_err = np.std(beta_par_chain)\n",
    "    \n",
    "    # Read out the intrinsic scatter chain and convert to a numpy array\n",
    "    sigma_par_chain = np.array(chains.rx2['sigma.YIZ.0'])\n",
    "    sigma_par_val = np.mean(sigma_par_chain)\n",
    "    sigma_par_err = np.std(sigma_par_chain)\n",
    "\n",
    "    fit_par = np.array([beta_par_val, alpha_par_val])\n",
    "    fit_par_err = np.array([beta_par_err, alpha_par_err])\n",
    "\n",
    "    # This call to the fit initialisation function DOESN'T produce logged data, do this so the plot works\n",
    "    #  properly - it expects non logged data\n",
    "    x_fit_data, x_fit_errs, y_fit_data, y_fit_errs, x_norm, y_norm = _fit_initialise(y_values, y_errs, x_values,\n",
    "                                                                                     x_errs, y_norm, x_norm)\n",
    "\n",
    "    # I'm re-formatting the chains into a shape that the ScalingRelation class will understand.\n",
    "    xga_chains = np.concatenate([beta_par_chain.reshape(len(beta_par_chain), 1),\n",
    "                                 alpha_par_chain.reshape(len(alpha_par_chain), 1)], axis=1)\n",
    "\n",
    "    sr = ScalingRelation(fit_par, fit_par_err, power_law, x_norm, y_norm, x_name, y_name, 'LIRA', \n",
    "                         x_fit_data * x_norm, y_fit_data * y_norm, x_fit_errs * x_norm, \n",
    "                         y_fit_errs * y_norm, chains=xga_chains, x_lims=x_lims, \n",
    "                         scatter_par=np.array([sigma_par_val, sigma_par_err]),\n",
    "                         scatter_chain=sigma_par_chain)\n",
    "\n",
    "    return sr"
   ]
  },
  {
   "cell_type": "markdown",
   "metadata": {},
   "source": [
    "### Directly comparing XMM and eFEDS luminosities"
   ]
  },
  {
   "cell_type": "markdown",
   "metadata": {},
   "source": [
    "Here we make like-for-like comparisons of luminosities measured for the clusters in the eFEDS-XCS sample, and fit two models to see whether they are consistent with a 1:1 relationship. We could use the resulting XGA ScalingRelation objects to view the comparison plots, but instead we extract the parameter chains and manually make a comparison plot as its easier to adjust how it looks for publication:"
   ]
  },
  {
   "cell_type": "code",
   "execution_count": 59,
   "metadata": {},
   "outputs": [
    {
     "name": "stderr",
     "output_type": "stream",
     "text": [
      "/home/dt237/code/PycharmProjects/XGA/xga/relations/fit.py:71: UserWarning: 7 sources have NaN values and have been excluded\n",
      "  warn(\"{} sources have NaN values and have been excluded\".format(thrown_away))\n"
     ]
    },
    {
     "name": "stdout",
     "output_type": "stream",
     "text": [
      "  |**************************************************| 100%\n"
     ]
    }
   ],
   "source": [
    "xmm_vals = xga_l500[:, 0]\n",
    "xmm_errs = xga_l500[:, 1:]\n",
    "\n",
    "eros_vals = erosita_l500[:, 0]\n",
    "eros_errs = erosita_l500[:, 1:]\n",
    "\n",
    "eros_xmm_l500 = scaling_relation_lira(eros_vals, eros_errs, xmm_vals, xmm_errs, Quantity(1e+43,'erg/s'), \n",
    "                                      Quantity(1e+43,'erg/s'), \n",
    "                                      y_name=r'L$^{\\:\\rm{eFEDS}}_{\\:\\rm{x, 500kpc, 0.5-2.0}}$', \n",
    "                                      x_name=r'L$^{\\:\\rm{XGA}}_{\\:\\rm{x, 500kpc, 0.5-2.0}}$')"
   ]
  },
  {
   "cell_type": "markdown",
   "metadata": {},
   "source": [
    "We display median parameter values, as well as 68% confidence limits, for the model parameters:"
   ]
  },
  {
   "cell_type": "code",
   "execution_count": 69,
   "metadata": {},
   "outputs": [
    {
     "name": "stdout",
     "output_type": "stream",
     "text": [
      "SLOPE\n",
      "0.910439162977878\n",
      "0.05110211155471245\n",
      "0.05043608254438148\n",
      "\n",
      "NORM\n",
      "1.267120850474106\n",
      "0.13989819397612102\n",
      "0.1302215883270994\n",
      "\n",
      "SCATTER\n",
      "0.09733774892757026\n",
      "0.028974331737823752\n",
      "0.02463814421770251\n"
     ]
    }
   ],
   "source": [
    "print('SLOPE')\n",
    "par_med = np.percentile(eros_xmm_l500.chains[:,0], 50)\n",
    "print(par_med)\n",
    "print(np.percentile(eros_xmm_l500.chains[:,0], 84.1)-par_med)\n",
    "print(par_med-np.percentile(eros_xmm_l500.chains[:,0], 15.9))\n",
    "print('')\n",
    "print('NORM')\n",
    "par_med = np.percentile(eros_xmm_l500.chains[:,1], 50)\n",
    "print(par_med)\n",
    "print(np.percentile(eros_xmm_l500.chains[:,1], 84.1)-par_med)\n",
    "print(par_med-np.percentile(eros_xmm_l500.chains[:,1], 15.9))\n",
    "print('')\n",
    "print('SCATTER')\n",
    "scatter_med = np.percentile(eros_xmm_l500.scatter_chain, 50)\n",
    "print(scatter_med)\n",
    "print(np.percentile(eros_xmm_l500.scatter_chain, 84.1)-scatter_med)\n",
    "print(scatter_med-np.percentile(eros_xmm_l500.scatter_chain, 15.9))"
   ]
  },
  {
   "cell_type": "code",
   "execution_count": 60,
   "metadata": {},
   "outputs": [
    {
     "name": "stdout",
     "output_type": "stream",
     "text": [
      "  |**************************************************| 100%\n"
     ]
    }
   ],
   "source": [
    "xmm_vals = xga_l500[:, 0]\n",
    "xmm_errs = xga_l500[:, 1:]\n",
    "\n",
    "eros_vals = erosita_l500[:, 0]\n",
    "eros_errs = erosita_l500[:, 1:]\n",
    "\n",
    "eros_xmm_l500_fixed = lira_fixed_slope(eros_vals, eros_errs, xmm_vals, xmm_errs, Quantity(1e+43,'erg/s'), \n",
    "                                      Quantity(1e+43,'erg/s'), \n",
    "                                       y_name=r'L$^{\\:\\rm{eFEDS}}_{\\:\\rm{x, 500kpc, 0.5-2.0}}$', \n",
    "                                       x_name=r'L$^{\\:\\rm{XGA}}_{\\:\\rm{x, 500kpc, 0.5-2.0}}$')"
   ]
  },
  {
   "cell_type": "markdown",
   "metadata": {},
   "source": [
    "Again we display parameter values:"
   ]
  },
  {
   "cell_type": "code",
   "execution_count": 70,
   "metadata": {},
   "outputs": [
    {
     "name": "stdout",
     "output_type": "stream",
     "text": [
      "NORM\n",
      "1.0759520522521924\n",
      "0.06404574267021879\n",
      "0.06081845146835363\n",
      "\n",
      "SCATTER\n",
      "0.10636289686514999\n",
      "0.02788242435383209\n",
      "0.023259292248523106\n"
     ]
    }
   ],
   "source": [
    "print('NORM')\n",
    "par_med = np.percentile(eros_xmm_l500_fixed.chains[:,1], 50)\n",
    "print(par_med)\n",
    "print(np.percentile(eros_xmm_l500_fixed.chains[:,1], 84.1)-par_med)\n",
    "print(par_med-np.percentile(eros_xmm_l500_fixed.chains[:,1], 15.9))\n",
    "print('')\n",
    "print('SCATTER')\n",
    "scatter_med = np.percentile(eros_xmm_l500_fixed.scatter_chain, 50)\n",
    "print(scatter_med)\n",
    "print(np.percentile(eros_xmm_l500_fixed.scatter_chain, 84.1)-scatter_med)\n",
    "print(scatter_med-np.percentile(eros_xmm_l500_fixed.scatter_chain, 15.9))"
   ]
  },
  {
   "cell_type": "markdown",
   "metadata": {},
   "source": [
    "Here we make the direct comparison plot for the $L^{\\rm{0.5-2.0keV}}_{\\rm{X, 500kpc}}$ values measured by eFEDS and XGA, including the two models that we just fit to the data:"
   ]
  },
  {
   "cell_type": "code",
   "execution_count": 150,
   "metadata": {},
   "outputs": [
    {
     "data": {
      "image/png": "[encoded data removed]",
      "text/plain": [
       "<Figure size 432x432 with 1 Axes>"
      ]
     },
     "metadata": {
      "needs_background": "light"
     },
     "output_type": "display_data"
    }
   ],
   "source": [
    "# A numpy random object used for the drawing of random samples \n",
    "rng = np.random.default_rng()\n",
    "\n",
    "# Selecting only those clusters that have a valid measurement from XGA and eFEDS\n",
    "both_ind = np.where(np.isfinite(xga_l500[:, 0]) & np.isfinite(erosita_l500[:, 0]))[0]\n",
    "chos_xga = xga_l500[both_ind, :].value\n",
    "chos_erosita = erosita_l500[both_ind, :].value\n",
    "\n",
    "# Finding the lower and upper limits of the two datasets, then adding a 20% buffer\n",
    "llim = min(np.nanmin(chos_xga[:, 0]-chos_xga[:, 1]), np.nanmin(chos_erosita[:, 0]-chos_erosita[:, 1]))*0.8\n",
    "ulim = max(np.nanmax(chos_xga[:, 0]+chos_xga[:, 2]), np.nanmax(chos_erosita[:, 0]+chos_erosita[:, 2]))*1.2\n",
    "\n",
    "# Setting up a list containing the limits, and then a linear space to use as x-values at \n",
    "#  which we can sample the models\n",
    "lims = [llim, ulim]\n",
    "x_vals = np.linspace(*lims, 100)\n",
    "\n",
    "# Setting up the matplotlib figure the plot will live in, and setting tick appearance\n",
    "plt.figure(figsize=(6., 6.))\n",
    "plt.minorticks_on()\n",
    "plt.tick_params(right=True, top=True, direction='in', which='both')\n",
    "\n",
    "# Plotting a 1:1 line using the limits we decided on earlier\n",
    "plt.plot(lims, lims, color='red', linestyle='dashed', label='1:1', zorder=10)\n",
    "\n",
    "# Plotting the data points (and their uncertainties)\n",
    "plt.errorbar(chos_xga[:, 0], chos_erosita[:, 0],xerr=[chos_xga[:, 1], chos_xga[:, 2]], \n",
    "             yerr=[chos_erosita[:, 1], chos_erosita[:, 2]], capsize=2, fmt='kx', label='Data')\n",
    "\n",
    "# Reading out chains and generating random realisations of the power-law model fitted to the\n",
    "#  luminosity comparison, then finding the median model values (as well as 68% confidence limits)\n",
    "all_inds = np.arange(eros_xmm_l500._chains.shape[0])\n",
    "chosen_inds = rng.choice(all_inds, 10000)\n",
    "par_dists = [eros_xmm_l500._chains[:, 0][chosen_inds], eros_xmm_l500._chains[:, 1][chosen_inds]]\n",
    "realisations = eros_xmm_l500.model_func(x_vals[..., None]/eros_xmm_l500.x_norm.value, *par_dists)*eros_xmm_l500.x_norm.value\n",
    "median_model = np.percentile(realisations, 50, axis=1)\n",
    "upper_model = np.percentile(realisations, 84.1, axis=1)\n",
    "lower_model = np.percentile(realisations, 15.9, axis=1)\n",
    "\n",
    "# Plotting the power-law model, as well as the confidence limits\n",
    "plt.plot(x_vals, median_model, color='cadetblue', label='Power Law')\n",
    "plt.fill_between(x_vals, lower_model, upper_model, alpha=0.5, interpolate=True,\n",
    "                     where=upper_model >= lower_model, facecolor='cadetblue')\n",
    "plt.plot(x_vals, lower_model, color='cadetblue', linestyle=\"dashed\")\n",
    "plt.plot(x_vals, upper_model, color='cadetblue', linestyle=\"dashed\")\n",
    "\n",
    "# Repeating the process for the fixed-slope model\n",
    "par_dists = [eros_xmm_l500_fixed._chains[:, 0][chosen_inds], eros_xmm_l500_fixed._chains[:, 1][chosen_inds]]\n",
    "realisations = eros_xmm_l500_fixed.model_func(x_vals[..., None]/eros_xmm_l500_fixed.x_norm.value, *par_dists)*eros_xmm_l500_fixed.x_norm.value\n",
    "median_model = np.percentile(realisations, 50, axis=1)\n",
    "upper_model = np.percentile(realisations, 84.1, axis=1)\n",
    "lower_model = np.percentile(realisations, 15.9, axis=1)\n",
    "\n",
    "plt.plot(x_vals, median_model, color=\"slategray\", label='Power Law Slope Fixed ')\n",
    "plt.fill_between(x_vals, lower_model, upper_model, alpha=0.8, interpolate=True,\n",
    "                     where=upper_model >= lower_model, facecolor=\"slategray\")\n",
    "plt.plot(x_vals, lower_model, color=\"slategray\", linestyle=\"dashed\")\n",
    "plt.plot(x_vals, upper_model, color=\"slategray\", linestyle=\"dashed\")\n",
    "\n",
    "# Setting the x and y axis limits\n",
    "plt.xlim(lims)\n",
    "plt.ylim(lims)\n",
    "\n",
    "# Setting axis labels, and the scale of the axes\n",
    "plt.ylabel(r'L$^{\\:\\rm{eFEDS, 52}}_{\\:\\rm{x, 500kpc}}$ [erg s$^{-1}$]', fontsize=15)\n",
    "plt.xlabel(r'L$^{\\:\\rm{XGA, 52}}_{\\:\\rm{x, 500kpc}}$ [erg s$^{-1}$]', fontsize=15)\n",
    "plt.xscale('log')\n",
    "plt.yscale('log')\n",
    "\n",
    "# Adding in the legend\n",
    "plt.legend(fontsize=13)\n",
    "plt.tight_layout()\n",
    "# Saving and displaying the plot\n",
    "plt.savefig(\"output_figures/efeds_xcs_l500cal.pdf\")\n",
    "plt.show()"
   ]
  },
  {
   "cell_type": "markdown",
   "metadata": {},
   "source": [
    "We also print the number of clusters that have successful luminosity measurements by eFEDS and XGA:"
   ]
  },
  {
   "cell_type": "code",
   "execution_count": 63,
   "metadata": {},
   "outputs": [
    {
     "name": "stdout",
     "output_type": "stream",
     "text": [
      "There are 30 clusters in the eFEDS-XCS sample with 0.5-2.0keV L500 values from XGA and eFEDS\n"
     ]
    }
   ],
   "source": [
    "both_ind = np.where(np.isfinite(xga_l500[:, 0]) & np.isfinite(erosita_l500[:, 0]))[0]\n",
    "print('There are {n} clusters in the eFEDS-XCS sample with 0.5-2.0keV L500 values '\\\n",
    "      'from XGA and eFEDS'.format(n=len(both_ind)))"
   ]
  },
  {
   "cell_type": "markdown",
   "metadata": {},
   "source": [
    "Finally we create two plots to directly compare the magnitude of the upper and lower uncertainties on the luminosity measurements:"
   ]
  },
  {
   "cell_type": "code",
   "execution_count": 74,
   "metadata": {},
   "outputs": [
    {
     "data": {
      "image/png": "[encoded data removed]",
      "text/plain": [
       "<Figure size 864x432 with 2 Axes>"
      ]
     },
     "metadata": {
      "needs_background": "light"
     },
     "output_type": "display_data"
    }
   ],
   "source": [
    "# Define the figure with two subplots\n",
    "fig, ax_arr = plt.subplots(ncols=2, figsize=(12, 6))\n",
    "\n",
    "# Find clusters where both luminosity measured by eFEDS and by XGA is valid\n",
    "both_ind = np.where(np.isfinite(xga_l500[:, 0]) & np.isfinite(erosita_l500[:, 0]))[0]\n",
    "\n",
    "# Read out those lums\n",
    "chos_xga = xga_l500[both_ind, :].value\n",
    "chos_erosita = erosita_l500[both_ind, :].value\n",
    "\n",
    "# Setup the limits of the plot\n",
    "llim = min(np.nanmin(chos_xga[:, 1]), np.nanmin(chos_erosita[:, 1]))*0.8\n",
    "ulim = max(np.nanmax(chos_xga[:, 1]), np.nanmax(chos_erosita[:, 1]))*1.2\n",
    "lims = [llim, ulim]\n",
    "\n",
    "# Plot the -err comparison\n",
    "ax = ax_arr[0]\n",
    "ax.set_title('Lower Uncertainty')\n",
    "ax.plot(lims, lims, color='red', linestyle='dashed', label='1:1', zorder=10)\n",
    "ax.plot(chos_xga[:, 1], chos_erosita[:, 1], 'x', color='black')\n",
    "ax.set_xscale('log')\n",
    "ax.set_yscale('log')\n",
    "ax.set_xlim(lims)\n",
    "ax.set_ylim(lims)\n",
    "ax.set_ylabel(r'L$^{\\:\\rm{eFEDS, 52}}_{\\:\\rm{x, 500kpc}}$ Err [erg s$^{-1}$]', fontsize=15)\n",
    "ax.set_xlabel(r'L$^{\\:\\rm{XGA, 52}}_{\\:\\rm{x, 500kpc}}$ Err [erg s$^{-1}$]', fontsize=15)\n",
    "\n",
    "llim = min(np.nanmin(chos_xga[:, 2]), np.nanmin(chos_erosita[:, 2]))*0.8\n",
    "ulim = max(np.nanmax(chos_xga[:, 2]), np.nanmax(chos_erosita[:, 2]))*1.2\n",
    "lims = [llim, ulim]\n",
    "\n",
    "# Plot the +err comparison\n",
    "ax = ax_arr[1]\n",
    "ax.set_title('Upper Uncertainty')\n",
    "ax.plot(lims, lims, color='red', linestyle='dashed', label='1:1', zorder=10)\n",
    "ax.plot(chos_xga[:, 2], chos_erosita[:, 2], 'x', color='black')\n",
    "ax.set_xscale('log')\n",
    "ax.set_yscale('log')\n",
    "ax.set_xlim(lims)\n",
    "ax.set_ylim(lims)\n",
    "ax.set_ylabel(r'L$^{\\:\\rm{eFEDS, 52}}_{\\:\\rm{x, 500kpc}}$ Err [erg s$^{-1}$]', fontsize=15)\n",
    "ax.set_xlabel(r'L$^{\\:\\rm{XGA, 52}}_{\\:\\rm{x, 500kpc}}$ Err [erg s$^{-1}$]', fontsize=15)\n",
    "\n",
    "# Display the plots\n",
    "plt.tight_layout()\n",
    "plt.show()"
   ]
  },
  {
   "cell_type": "markdown",
   "metadata": {},
   "source": [
    "### Comparing eFEDs and XMM temperature distributions"
   ]
  },
  {
   "cell_type": "markdown",
   "metadata": {},
   "source": [
    "The eFEDS-XCS sample contains a very limited number of clusters that have both an XMM and eFEDs temperature measurement, and as such when we compare the temperature and fractional temperature uncertainty distributions (as we did for XXL) we cannot restrict ourselves to only those clusters. As such we compare the whole eFEDS X-ray selected cluster candidate catalogue (those with temperature measurements anyway) to the eFEDS-XCS sample. In both cases we omit the split cluster that we mentioned earlier in the notebook:"
   ]
  },
  {
   "cell_type": "code",
   "execution_count": 76,
   "metadata": {},
   "outputs": [
    {
     "data": {
      "text/plain": [
       "'eFEDS-1023'"
      ]
     },
     "execution_count": 76,
     "metadata": {},
     "output_type": "execute_result"
    }
   ],
   "source": [
    "split_cluster"
   ]
  },
  {
   "cell_type": "code",
   "execution_count": 102,
   "metadata": {},
   "outputs": [
    {
     "data": {
      "image/png": "[encoded data removed]",
      "text/plain": [
       "<Figure size 864x432 with 2 Axes>"
      ]
     },
     "metadata": {
      "needs_background": "light"
     },
     "output_type": "display_data"
    }
   ],
   "source": [
    "# Setting up a sub-table of the eFEDS X-ray cluster candidate catalogue for sources that have \n",
    "#  temperatures measured within 500kpc apertures, and aren't eFEDS-1023\n",
    "cur_sample = efeds_xray[(efeds_xray['T_500kpc'] != -1) & (efeds_xray['name'] != split_cluster)]\n",
    "\n",
    "# Setting up a subset of the XGA measured eFEDS-XCS temperatures that contains successful measurements, \n",
    "#  and does not contain eFEDS-1023\n",
    "cur_xga_t500 = xga_t500[np.where(efeds_xcs_srcs.names != split_cluster)[0]]\n",
    "cur_xga_t500 = cur_xga_t500[np.where(np.isfinite(cur_xga_t500[:, 0]))[0], :]\n",
    "\n",
    "# The y position and fontsize of the a and b labels added beneath the two figures\n",
    "sublabel_ypos = -0.125\n",
    "sublabel_fsize = 14\n",
    "\n",
    "# Setup the figure \n",
    "fig, ax_arr = plt.subplots(ncols=2, figsize=(12, 6))\n",
    "\n",
    "# Setup the axes ticks\n",
    "for ax in ax_arr:\n",
    "    ax.minorticks_on()\n",
    "    ax.tick_params(which='both', top=True, right=True, direction='in')\n",
    "\n",
    "# Read out the left hand plot axis object\n",
    "ax = ax_arr[0]  \n",
    "# Plot the temperature distributions of the eFEDS-XCS and eFEDS X-ray cluster candidate catalogue\n",
    "ax.hist(cur_sample['T_500kpc'].values, color='firebrick', label='eFEDS', alpha=0.7, bins=np.arange(0, 9, 1), \n",
    "        density=True, histtype='stepfilled')\n",
    "ax.hist(cur_xga_t500[:, 0].value, color='cadetblue', label='eFEDS-XCS', alpha=0.7, bins=np.arange(0, 9, 1), \n",
    "         density=True, histtype='stepfilled')\n",
    "\n",
    "# Set axis labels, limits, etc.\n",
    "ax.set_xlabel(r\"T$_{\\rm{x}, 500kpc}$\", fontsize=15)\n",
    "ax.set_xlim(0)\n",
    "ax.set_yticks([])\n",
    "ax.set_ylabel(\"Probability Density\", fontsize=15)\n",
    "ax.text(0.5, sublabel_ypos, s='a)', horizontalalignment='center', verticalalignment='center', \n",
    "        transform=ax.transAxes, fontsize=sublabel_fsize)\n",
    "ax.legend(loc='best', fontsize=14)\n",
    "\n",
    "# Read out the right hand plot axis object\n",
    "ax = ax_arr[1]\n",
    "\n",
    "# Calculate and plot the eFEDS fractional temperature errors for the 500kpc aperture\n",
    "av_frac_err = np.nanmean(cur_sample[['T_500kpc-', 'T_500kpc+']].values, axis=1) /cur_sample['T_500kpc']\n",
    "ax.hist(av_frac_err, bins=np.arange(0, 1.01, 0.1), color='firebrick', alpha=0.7, label='eFEDS', \n",
    "         density=True, histtype='stepfilled')\n",
    "\n",
    "# Calculate and plot the XMM fractional temperature errors for the 500kpc aperture (eFEDS-XCS sample)\n",
    "xga_frac_err = np.nanmean(cur_xga_t500[:, 1:], axis=1) / cur_xga_t500[:, 0]\n",
    "ax.hist(xga_frac_err.value, color='cadetblue', label='eFEDS-XCS', alpha=0.7, bins=np.arange(0, 1.01, 0.1), \n",
    "         density=True, histtype='stepfilled')\n",
    "\n",
    "# Set axis labels, limits, etc.\n",
    "ax.set_xlabel(r\"$\\Delta \\rm{T}_{\\rm{x, 500kpc}}$ / $\\rm{T}_{\\rm{x, 500kpc}}$\", fontsize=15)\n",
    "ax.set_xlim(0)\n",
    "ax.set_yticks([])\n",
    "ax.legend(loc='best', fontsize=14)\n",
    "ax.text(0.5, sublabel_ypos, s='b)', horizontalalignment='center', verticalalignment='center', \n",
    "        transform=ax.transAxes, fontsize=sublabel_fsize)\n",
    "\n",
    "plt.tight_layout()\n",
    "# Save and display figure\n",
    "plt.savefig(\"output_figures/efeds_xcs_txcomp.pdf\")\n",
    "plt.show()"
   ]
  },
  {
   "cell_type": "markdown",
   "metadata": {},
   "source": [
    "### Directly comparing XMM and eFEDS temperatures"
   ]
  },
  {
   "cell_type": "markdown",
   "metadata": {},
   "source": [
    "A very similar process to the direct luminosity comparison, only with fewer clusters to compare. We again fit two different models to quantify any difference from a 1:1 relation between the two datasets. \n",
    "\n",
    "We do not include the split cluster, eFEDS-1023, in this comparison fit.\n",
    "\n",
    "First a power-law:"
   ]
  },
  {
   "cell_type": "code",
   "execution_count": 105,
   "metadata": {},
   "outputs": [
    {
     "name": "stderr",
     "output_type": "stream",
     "text": [
      "/home/dt237/code/PycharmProjects/XGA/xga/relations/fit.py:71: UserWarning: 28 sources have NaN values and have been excluded\n",
      "  warn(\"{} sources have NaN values and have been excluded\".format(thrown_away))\n"
     ]
    },
    {
     "name": "stdout",
     "output_type": "stream",
     "text": [
      "  |**************************************************| 100%\n"
     ]
    }
   ],
   "source": [
    "# Setting up a subset of the XGA measured eFEDS-XCS temperatures that contains successful measurements, \n",
    "#  and does not contain eFEDS-1023\n",
    "not_split_inds = np.where(efeds_xcs_srcs.names != split_cluster)[0]\n",
    "cur_xga_t500 = xga_t500[not_split_inds, :]\n",
    "# Doing the same for the eROSITA data - as these arrays have an identical order I can use the same indices\n",
    "cur_erosita_t500 = erosita_t500[not_split_inds, :]\n",
    "\n",
    "eros_vals = cur_erosita_t500[:, 0]\n",
    "eros_errs = cur_erosita_t500[:, 1:]\n",
    "\n",
    "xmm_vals = cur_xga_t500[:, 0]\n",
    "xmm_errs = cur_xga_t500[:, 1:]\n",
    "\n",
    "eros_xmm_t500 = scaling_relation_lira(eros_vals, eros_errs, xmm_vals, xmm_errs, Quantity(1,'keV'), \n",
    "                                      Quantity(1, 'keV'), y_name=r\"eFEDS T$_{\\rm{x,500kpc}}$\", \n",
    "                                      x_name=r\"XGA T$_{\\rm{x,500kpc}}$\")"
   ]
  },
  {
   "cell_type": "markdown",
   "metadata": {},
   "source": [
    "Again we display median and 68% confidence limit model parameter values for the fit:"
   ]
  },
  {
   "cell_type": "code",
   "execution_count": 118,
   "metadata": {},
   "outputs": [
    {
     "name": "stdout",
     "output_type": "stream",
     "text": [
      "SLOPE\n",
      "0.9002916517401278\n",
      "0.24576588409031452\n",
      "0.23821584923028272\n",
      "\n",
      "NORM\n",
      "0.8716096720947129\n",
      "0.37244240036593856\n",
      "0.27525196980866384\n",
      "\n",
      "SCATTER\n",
      "0.04396268294477895\n",
      "0.06321199478542781\n",
      "0.027319665566435333\n"
     ]
    }
   ],
   "source": [
    "print('SLOPE')\n",
    "par_med = np.percentile(eros_xmm_t500.chains[:,0], 50)\n",
    "print(par_med)\n",
    "par_upp = np.percentile(eros_xmm_t500.chains[:,0], 84.1)-par_med\n",
    "print(par_upp)\n",
    "par_low = par_med-np.percentile(eros_xmm_t500.chains[:,0], 15.9)\n",
    "print(par_low)\n",
    "# In this case we also store a variable with LaTeX code, as this will be presented in the paper\n",
    "t_slope_str = \"${v}^{u}_{l}$\".format(v=par_med.round(2), u=\"{+\"+str(par_upp.round(2))+\"}\", \n",
    "                                     l=\"{-\"+str(par_low.round(2))+\"}\")\n",
    "print('')\n",
    "\n",
    "print('NORM')\n",
    "par_med = np.percentile(eros_xmm_t500.chains[:,1], 50)\n",
    "print(par_med)\n",
    "par_upp = np.percentile(eros_xmm_t500.chains[:,1], 84.1)-par_med\n",
    "print(par_upp)\n",
    "par_low = par_med-np.percentile(eros_xmm_t500.chains[:,1], 15.9)\n",
    "print(par_low)\n",
    "t_norm_str = \"${v}^{u}_{l}$\".format(v=par_med.round(2), u=\"{+\"+str(par_upp.round(2))+\"}\", \n",
    "                                    l=\"{-\"+str(par_low.round(2))+\"}\")\n",
    "\n",
    "print('')\n",
    "print('SCATTER')\n",
    "scatter_med = np.percentile(eros_xmm_t500.scatter_chain, 50)\n",
    "print(scatter_med)\n",
    "scatter_upp = np.percentile(eros_xmm_t500.scatter_chain, 84.1)-scatter_med\n",
    "print(scatter_upp)\n",
    "scatter_low = scatter_med-np.percentile(eros_xmm_t500.scatter_chain, 15.9)\n",
    "print(scatter_low)\n",
    "t_scatter_str = \"${v}^{u}_{l}$\".format(v=scatter_med.round(2), u=\"{+\"+str(scatter_upp.round(2))+\"}\", \n",
    "                                       l=\"{-\"+str(scatter_low.round(2))+\"}\")"
   ]
  },
  {
   "cell_type": "markdown",
   "metadata": {},
   "source": [
    "Then we fit a power-law with the slope fixed to one:"
   ]
  },
  {
   "cell_type": "code",
   "execution_count": 120,
   "metadata": {},
   "outputs": [
    {
     "name": "stderr",
     "output_type": "stream",
     "text": [
      "/home/dt237/code/PycharmProjects/XGA/xga/relations/fit.py:71: UserWarning: 28 sources have NaN values and have been excluded\n",
      "  warn(\"{} sources have NaN values and have been excluded\".format(thrown_away))\n"
     ]
    },
    {
     "name": "stdout",
     "output_type": "stream",
     "text": [
      "  |**************************************************| 100%\n"
     ]
    }
   ],
   "source": [
    "# Setting up a subset of the XGA measured eFEDS-XCS temperatures that contains successful measurements, \n",
    "#  and does not contain eFEDS-1023\n",
    "not_split_inds = np.where(efeds_xcs_srcs.names != split_cluster)[0]\n",
    "cur_xga_t500 = xga_t500[not_split_inds, :]\n",
    "# Doing the same for the eROSITA data - as these arrays have an identical order I can use the same indices\n",
    "cur_erosita_t500 = erosita_t500[not_split_inds, :]\n",
    "\n",
    "eros_vals = cur_erosita_t500[:, 0]\n",
    "eros_errs = cur_erosita_t500[:, 1:]\n",
    "\n",
    "xmm_vals = cur_xga_t500[:, 0]\n",
    "xmm_errs = cur_xga_t500[:, 1:]\n",
    "\n",
    "eros_xmm_t500_fixed = lira_fixed_slope(eros_vals, eros_errs, xmm_vals, xmm_errs, Quantity(1,'keV'), \n",
    "                                       Quantity(1, 'keV'), y_name=r\"eFEDS T$_{\\rm{x,500kpc}}$\", \n",
    "                                       x_name=r\"XGA T$_{\\rm{x,500kpc}}$\")"
   ]
  },
  {
   "cell_type": "markdown",
   "metadata": {},
   "source": [
    "Displaying the parameter median and 68% confidence limit values:"
   ]
  },
  {
   "cell_type": "code",
   "execution_count": 154,
   "metadata": {},
   "outputs": [
    {
     "name": "stdout",
     "output_type": "stream",
     "text": [
      "NORM\n",
      "0.7528655453232669\n",
      "0.09611256550237979\n",
      "0.08409082700368287\n",
      "\n",
      "SCATTER\n",
      "0.03776543094402753\n",
      "0.05118096274611066\n",
      "0.02217591651687205\n"
     ]
    }
   ],
   "source": [
    "print('NORM')\n",
    "par_med = np.percentile(eros_xmm_t500_fixed.chains[:, 1], 50)\n",
    "print(par_med)\n",
    "par_upp = np.percentile(eros_xmm_t500_fixed.chains[:, 1], 84.1)-par_med\n",
    "print(par_upp)\n",
    "par_low = par_med-np.percentile(eros_xmm_t500_fixed.chains[:,1], 15.9)\n",
    "print(par_low)\n",
    "tfix_norm_str = \"${v}^{u}_{l}$\".format(v=par_med.round(2), u=\"{+\"+str(par_upp.round(2))+\"}\", \n",
    "                                       l=\"{-\"+str(par_low.round(2))+\"}\")\n",
    "\n",
    "print('')\n",
    "print('SCATTER')\n",
    "scatter_med = np.percentile(eros_xmm_t500_fixed.scatter_chain, 50)\n",
    "print(scatter_med)\n",
    "scatter_upp = np.percentile(eros_xmm_t500_fixed.scatter_chain, 84.1)-scatter_med\n",
    "print(scatter_upp)\n",
    "scatter_low = scatter_med-np.percentile(eros_xmm_t500_fixed.scatter_chain, 15.9)\n",
    "print(scatter_low)\n",
    "tfix_scatter_str = \"${v}^{u}_{l}$\".format(v=scatter_med.round(2), u=\"{+\"+str(scatter_upp.round(2))+\"}\", \n",
    "                                          l=\"{-\"+str(scatter_low.round(2))+\"}\")"
   ]
  },
  {
   "cell_type": "markdown",
   "metadata": {},
   "source": [
    "Here we make the direct comparison plot for the $T_{\\rm{X, 500kpc}}$ values measured by eFEDS and XGA, including the two models that we just fit to the data:"
   ]
  },
  {
   "cell_type": "code",
   "execution_count": 143,
   "metadata": {},
   "outputs": [
    {
     "data": {
      "image/png": "[encoded data removed]",
      "text/plain": [
       "<Figure size 432x432 with 1 Axes>"
      ]
     },
     "metadata": {
      "needs_background": "light"
     },
     "output_type": "display_data"
    }
   ],
   "source": [
    "# Setting up a subset of the XGA measured eFEDS-XCS temperatures that contains successful measurements, \n",
    "#  and does not contain eFEDS-1023\n",
    "not_split_inds = np.where(efeds_xcs_srcs.names != split_cluster)[0]\n",
    "chos_xga = xga_t500[not_split_inds, :].value\n",
    "# Doing the same for the eROSITA data - as these arrays have an identical order I can use the same indices\n",
    "chos_erosita = erosita_t500[not_split_inds, :].value\n",
    "\n",
    "# Reading out the values that we did the comparison model fits with, selecting only those that have\n",
    "#  a valid measurement from eFEDS and XGA\n",
    "both_ind = np.where(np.isfinite(chos_xga[:, 0]) & np.isfinite(chos_erosita[:, 0]))[0]\n",
    "chos_xga = chos_xga[both_ind, :]\n",
    "chos_erosita = chos_erosita[both_ind, :]\n",
    "\n",
    "# Finding the max and min data limits, then adding a 20% buffer\n",
    "llim = min(np.nanmin(chos_xga[:, 0]-chos_xga[:, 1]), np.nanmin(chos_erosita[:, 0]-chos_erosita[:, 1]))*0.8\n",
    "ulim = max(np.nanmax(chos_xga[:, 0]+chos_xga[:, 2]), np.nanmax(chos_erosita[:, 0]+chos_erosita[:, 2]))*1.2\n",
    "lims = [llim, ulim]\n",
    "# Setting up x-values between the axis limits, to use to evaluate the models at\n",
    "x_vals = np.linspace(*lims, 100)\n",
    "\n",
    "# Setting up the matplotlib figure and ticks\n",
    "plt.figure(figsize=(6, 6))\n",
    "plt.minorticks_on()\n",
    "plt.tick_params(right=True, top=True, direction='in', which='both')\n",
    "\n",
    "# Plotting a 1:1 line\n",
    "plt.plot(lims, lims, color='red', linestyle='dashed', label='1:1')\n",
    "# Plotting the data (excluding eFEDS-1023 for now)\n",
    "plt.errorbar(chos_xga[:, 0], chos_erosita[:, 0],xerr=[chos_xga[:, 1], chos_xga[:, 2]], \n",
    "             yerr=[chos_erosita[:, 1], chos_erosita[:, 2]], capsize=2, fmt='kx', label='Data')\n",
    "\n",
    "# Evaluating the models for plotting, as we did for the luminosity comparison, then adding to figure\n",
    "all_inds = np.arange(eros_xmm_t500._chains.shape[0])\n",
    "chosen_inds = rng.choice(all_inds, 10000)\n",
    "par_dists = [eros_xmm_t500._chains[:, 0][chosen_inds], eros_xmm_t500._chains[:, 1][chosen_inds]]\n",
    "realisations = eros_xmm_t500.model_func(x_vals[..., None]/eros_xmm_t500.x_norm.value, *par_dists)*eros_xmm_t500.x_norm.value\n",
    "median_model = np.percentile(realisations, 50, axis=1)\n",
    "upper_model = np.percentile(realisations, 84.1, axis=1)\n",
    "lower_model = np.percentile(realisations, 15.9, axis=1)\n",
    "\n",
    "plt.plot(x_vals, median_model, color='cadetblue', label='Power Law')\n",
    "plt.fill_between(x_vals, lower_model, upper_model, alpha=0.5, interpolate=True,\n",
    "                     where=upper_model >= lower_model, facecolor='cadetblue')\n",
    "plt.plot(x_vals, lower_model, color='cadetblue', linestyle=\"dashed\")\n",
    "plt.plot(x_vals, upper_model, color='cadetblue', linestyle=\"dashed\")\n",
    "\n",
    "par_dists = [eros_xmm_t500_fixed._chains[:, 0][chosen_inds], eros_xmm_t500_fixed._chains[:, 1][chosen_inds]]\n",
    "realisations = eros_xmm_t500_fixed.model_func(x_vals[..., None]/eros_xmm_t500_fixed.x_norm.value, *par_dists)*eros_xmm_t500_fixed.x_norm.value\n",
    "median_model = np.percentile(realisations, 50, axis=1)\n",
    "upper_model = np.percentile(realisations, 84.1, axis=1)\n",
    "lower_model = np.percentile(realisations, 15.9, axis=1)\n",
    "plt.plot(x_vals, median_model, color=\"slategray\", label='Power Law Slope Fixed ')\n",
    "plt.fill_between(x_vals, lower_model, upper_model, alpha=0.8, interpolate=True,\n",
    "                     where=upper_model >= lower_model, facecolor=\"slategray\")\n",
    "plt.plot(x_vals, lower_model, color=\"slategray\", linestyle=\"dashed\")\n",
    "plt.plot(x_vals, upper_model, color=\"slategray\", linestyle=\"dashed\")\n",
    "\n",
    "# Adding the split cluster, eFEDS-1023, as a point in another style\n",
    "split_temp_xmm = efeds_xcs_srcs['eFEDS-1023'].get_temperature(Quantity(500, 'kpc')).value\n",
    "split_temp_efeds = efeds_xray[efeds_xray['name'] == 'eFEDS-1023'][['T_500kpc', 'T_500kpc-', \n",
    "                                                                   'T_500kpc+']].values[0]\n",
    "plt.errorbar([split_temp_xmm[0]], [split_temp_efeds[0]], xerr=[[split_temp_xmm[1]], [split_temp_xmm[2]]], \n",
    "             yerr=[[split_temp_efeds[1]], [split_temp_efeds[2]]], capsize=2, fmt='cD', label='Split Cluster')\n",
    "\n",
    "# Setting up axis limits and labels\n",
    "plt.xlim(lims)\n",
    "plt.ylim(lims)\n",
    "plt.ylabel(r'T$\\rm{^{\\:eFEDS}_{x, 500kpc}}$ [keV]', fontsize=15)\n",
    "plt.xlabel(r'T$\\rm{^{\\:XGA}_{x, 500kpc}}$ [keV]', fontsize=15)\n",
    "\n",
    "# Setting up axis scaling\n",
    "plt.xscale('log')\n",
    "plt.yscale('log')\n",
    "\n",
    "# Setting the formatter for the ticks, to make it look nice\n",
    "ax = plt.gca()\n",
    "ax.xaxis.set_minor_formatter(FuncFormatter(lambda inp, _: '{:g}'.format(inp)))\n",
    "ax.xaxis.set_major_formatter(FuncFormatter(lambda inp, _: '{:g}'.format(inp)))\n",
    "ax.yaxis.set_minor_formatter(FuncFormatter(lambda inp, _: '{:g}'.format(inp)))\n",
    "ax.yaxis.set_major_formatter(FuncFormatter(lambda inp, _: '{:g}'.format(inp)))\n",
    "\n",
    "# Displaying and saving the figure\n",
    "plt.legend(fontsize=13)\n",
    "plt.tight_layout()\n",
    "plt.savefig(\"output_figures/efeds_xcs_t500cal.pdf\")\n",
    "plt.show()"
   ]
  },
  {
   "cell_type": "markdown",
   "metadata": {},
   "source": [
    "Finally, printing the LaTeX table code for the two model fits (or rather the two lines that can be added to the table in the paper overleaf):"
   ]
  },
  {
   "cell_type": "code",
   "execution_count": 152,
   "metadata": {},
   "outputs": [
    {
     "name": "stdout",
     "output_type": "stream",
     "text": [
      "Power Law & $0.87^{+0.37}_{-0.28}$ & $0.9^{+0.25}_{-0.24}$ & $0.04^{+0.06}_{-0.03}$\n",
      "\\hline\n",
      "Power Law Fixed Slope & $0.75^{+0.1}_{-0.08}$ & 1 & $0.04^{+0.05}_{-0.02}$\n",
      "\\hline\n",
      "\n"
     ]
    }
   ],
   "source": [
    "line = \"{na} & {no} & {sl} & {sc}\\n\"\n",
    "pl = line.format(na=\"Power Law\", no=t_norm_str, sl=t_slope_str, sc=t_scatter_str)\n",
    "fpl = line.format(na=\"Power Law Fixed Slope\", no=tfix_norm_str, sl=1, sc=tfix_scatter_str)\n",
    "tab_chunk = pl + \"\\\\hline\\n\" + fpl + \"\\\\hline\\n\"\n",
    "\n",
    "print(tab_chunk)"
   ]
  },
  {
   "cell_type": "markdown",
   "metadata": {},
   "source": [
    "## Measuring luminosity-temperature relations"
   ]
  },
  {
   "cell_type": "markdown",
   "metadata": {},
   "source": [
    "In this section we use LIRA to measure scaling relations between luminosity and temperature for eFEDS measurements, XMM measurements of the eFEDS-XCS sample, and for a 'calibrated' XMM measurements of the eFEDS-XCS sample. \n",
    "\n",
    "We only create scaling relations for the softband luminosity (0.5-2.0keV) and temperatures measured within 500kpc apertures.\n",
    "\n",
    "For all of these L-T relations, we remove the split cluster with a temperature measurements (eFEDS-1023), from the datasets that are fit."
   ]
  },
  {
   "cell_type": "markdown",
   "metadata": {},
   "source": [
    "### Using the eFEDS X-ray cluster candidate catalogue"
   ]
  },
  {
   "cell_type": "markdown",
   "metadata": {},
   "source": [
    "Here we use the XGA LIRA interface to measure a scaling relation from the eFEDS luminosities and temperatures. We must also decide on the values for the normalisation factors, and use approximate median values for the temperature and luminosity distributions."
   ]
  },
  {
   "cell_type": "code",
   "execution_count": 193,
   "metadata": {},
   "outputs": [],
   "source": [
    "efeds_tnorm = Quantity(2.3, 'keV')\n",
    "efeds_lnorm = Quantity(3e+43, 'erg s^-1')"
   ]
  },
  {
   "cell_type": "code",
   "execution_count": 209,
   "metadata": {},
   "outputs": [
    {
     "name": "stderr",
     "output_type": "stream",
     "text": [
      "/home/dt237/software/anaconda3/envs/conda4-xcsim/lib/python3.8/site-packages/pandas/core/indexing.py:966: SettingWithCopyWarning: \n",
      "A value is trying to be set on a copy of a slice from a DataFrame.\n",
      "Try using .loc[row_indexer,col_indexer] = value instead\n",
      "\n",
      "See the caveats in the documentation: https://pandas.pydata.org/pandas-docs/stable/user_guide/indexing.html#returning-a-view-versus-a-copy\n",
      "  self.obj[item] = s\n"
     ]
    },
    {
     "name": "stdout",
     "output_type": "stream",
     "text": [
      "The median value of the eFEDS 0.5-2.0keV 500kpc temperatures is 2.2571231435935837 keV\n",
      "The median value of the eFEDS 0.5-2.0keV 500kpc luminosities is 2.9983500000000004e+43 erg / s\n",
      "  |**************************************************| 100%\n"
     ]
    }
   ],
   "source": [
    "# Setting up a sub-table of the eFEDS X-ray cluster candidate catalogue for sources that have \n",
    "#  temperatures measured within 500kpc apertures, and aren't eFEDS-1023\n",
    "cur_sample = efeds_xray[(efeds_xray['T_500kpc'] != -1) & (efeds_xray['name'] != split_cluster)]\n",
    "\n",
    "# Replace eFEDS measurement failure value (-1) with a numpy NaN\n",
    "nanned_cols = cur_sample[['T_500kpc', 'L_500kpc']].replace(-1, np.NaN).values.copy()\n",
    "cur_sample.loc[:, ['T_500kpc', 'L_500kpc']] = nanned_cols\n",
    "\n",
    "# Read out the eFEDS temperature and luminosity values into AstroPy quantities\n",
    "t_arr = Quantity(cur_sample[['T_500kpc', 'T_500kpc-', 'T_500kpc+']], 'keV')\n",
    "l_arr = Quantity(cur_sample[['L_500kpc', 'L_500kpc-', 'L_500kpc+']], 'erg/s')\n",
    "\n",
    "# This shouldn't really be necessary but we make sure that every eFEDS entry with a NaN \n",
    "#  measurement also has NaN uncertainties\n",
    "t_arr[np.where(np.isnan(t_arr.value))[0], :] = np.NaN\n",
    "l_arr[np.where(np.isnan(l_arr.value))[0], :] = np.NaN\n",
    "\n",
    "# Making an array of inverse E(z) values\n",
    "inv_ezs = efeds_xcs_srcs.cosmo.inv_efunc(cur_sample['z'].values)\n",
    "\n",
    "# Displaying the median values to justify our choice of normalisations in the cell above\n",
    "print('The median value of the eFEDS 0.5-2.0keV 500kpc temperatures is', np.median(t_arr[:, 0]))\n",
    "print('The median value of the eFEDS 0.5-2.0keV 500kpc luminosities is', np.median(l_arr[:, 0]))\n",
    "\n",
    "# Multiplying the luminosity values and uncertainties by E(z), then reading vals and errs into different\n",
    "#  objects\n",
    "l_arr = l_arr*inv_ezs[..., None]\n",
    "l_vals = l_arr[:, 0]\n",
    "l_errs = l_arr[:, 1:]\n",
    "\n",
    "# Reading temp values and uncertainties into separate objects\n",
    "t_vals = t_arr[:, 0]\n",
    "t_errs = t_arr[:, 1:]\n",
    "\n",
    "\n",
    "efeds_lt = scaling_relation_lira(l_vals, l_errs, t_vals, t_errs, efeds_lnorm, efeds_tnorm, \n",
    "                                    y_name=r\"E(z)$^{-1}$L$_{\\rm{x}, 500kpc, 0.5-2.0}$\", \n",
    "                                    x_name=r\"T$_{\\rm{x}, 500kpc}$\")\n",
    "\n",
    "# Finally we change the name of the relation from the auto-generated XGA name. This is what appears in\n",
    "#  the legend when we combine and compare the relations later.\n",
    "efeds_lt.name = \"eFEDS\""
   ]
  },
  {
   "cell_type": "markdown",
   "metadata": {},
   "source": [
    "### Using the XMM measurements of the eFEDS-XCS sample"
   ]
  },
  {
   "cell_type": "markdown",
   "metadata": {},
   "source": [
    "We repeat the same process, but now using the measurements we have made from XMM data of the eFEDS-XCS sample. We again must decide on suitable normalisations, and again use approximate median values to do so."
   ]
  },
  {
   "cell_type": "code",
   "execution_count": 195,
   "metadata": {},
   "outputs": [],
   "source": [
    "xga_tnorm = Quantity(3.3, 'keV')\n",
    "xga_lnorm = Quantity(5.9e+43, 'erg s^-1')"
   ]
  },
  {
   "cell_type": "code",
   "execution_count": 210,
   "metadata": {},
   "outputs": [
    {
     "name": "stdout",
     "output_type": "stream",
     "text": [
      "The median value of the XGA 0.5-2.0keV 500kpc temperatures is 3.26854 keV\n",
      "The median value of the XGA 0.5-2.0keV 500kpc luminosities is 5.888415752000001e+43 erg / s\n",
      "  |**************************************************| 100%\n"
     ]
    }
   ],
   "source": [
    "# Finding those clusters for which luminosity and temperature are both not NaN - not really necessary\n",
    "#  as the LIRA interface function does this for me, but ah well\n",
    "val_inds = np.where((np.isfinite(xga_t500[:, 0].value)) & (np.isfinite(xga_l500[:, 0].value)) \n",
    "                    & (efeds_xcs_srcs.names != split_cluster))[0]\n",
    "\n",
    "# Reading the valid measurements into their own arrays\n",
    "t_arr = xga_t500[val_inds, :]\n",
    "l_arr = xga_l500[val_inds, :]\n",
    "\n",
    "# Making an array of inverse E(z) values\n",
    "inv_ezs = efeds_xcs_srcs.cosmo.inv_efunc(efeds_xcs_srcs.redshifts[val_inds])\n",
    "\n",
    "# Displaying the median values to justify our choice of normalisations in the cell above\n",
    "print('The median value of the XGA 0.5-2.0keV 500kpc temperatures is', np.median(t_arr[:, 0]))\n",
    "print('The median value of the XGA 0.5-2.0keV 500kpc luminosities is', np.median(l_arr[:, 0]))\n",
    "\n",
    "# Multiplying the luminosity values and uncertainties by E(z), then reading vals and errs into different\n",
    "#  objects\n",
    "l_arr = l_arr*inv_ezs[..., None]\n",
    "l_vals = l_arr[:, 0]\n",
    "l_errs = l_arr[:, 1:]\n",
    "\n",
    "# Reading temp values and uncertainties into separate objects\n",
    "t_vals = t_arr[:, 0]\n",
    "t_errs = t_arr[:, 1:]\n",
    "\n",
    "# Running the scaling relation fit using LIRA, and generating an XGA scaling relation object\n",
    "xga_lt = scaling_relation_lira(l_vals, l_errs, t_vals, t_errs, xga_lnorm, xga_tnorm, \n",
    "                               y_name=r\"E(z)$^{-1}$L$_{\\rm{x}, 500kpc, 0.5-2.0}$\", \n",
    "                               x_name=r\"T$_{\\rm{x}, 500kpc}$\")\n",
    "\n",
    "# Finally we change the name of the relation from the auto-generated XGA name. This is what appears in\n",
    "#  the legend when we combine and compare the relations later.\n",
    "xga_lt.name = \"eFEDS-XCS\""
   ]
  },
  {
   "cell_type": "markdown",
   "metadata": {},
   "source": [
    "### Using the scaled XMM measurements of the eFEDS-XCS sample"
   ]
  },
  {
   "cell_type": "markdown",
   "metadata": {},
   "source": [
    "Finally we measure the last scaling relation, where we use ones of our models of the temperature offset between XMM and eROSITA to scale XMM temperatures to see what effect that has on the L-T comparison. Again we set normalisation values based on the medians of the distributions."
   ]
  },
  {
   "cell_type": "code",
   "execution_count": 206,
   "metadata": {},
   "outputs": [],
   "source": [
    "xga_scaled_tnorm = Quantity(2.7, 'keV')\n",
    "# We don't scale the luminosities, so this is the same as the xga_lnorm value\n",
    "xga_scaled_lnorm = Quantity(5.9e+43, 'erg s^-1')"
   ]
  },
  {
   "cell_type": "code",
   "execution_count": 226,
   "metadata": {},
   "outputs": [
    {
     "name": "stdout",
     "output_type": "stream",
     "text": [
      "The median value of the scaled XGA 0.5-2.0keV 500kpc temperatures is 2.733406857113504 keV\n",
      "  |**************************************************| 100%\n"
     ]
    }
   ],
   "source": [
    "# Finding those clusters for which luminosity and temperature are both not NaN - not really necessary\n",
    "#  as the LIRA interface function does this for me, but ah well\n",
    "val_inds = np.where((np.isfinite(xga_t500[:, 0].value)) & (np.isfinite(xga_l500[:, 0].value)) \n",
    "                    & (efeds_xcs_srcs.names != split_cluster))[0]\n",
    "\n",
    "# Reading the valid measurements into their own arrays\n",
    "t_arr = xga_t500[val_inds, :]\n",
    "l_arr = xga_l500[val_inds, :]\n",
    "\n",
    "# Making an array of inverse E(z) values\n",
    "inv_ezs = efeds_xcs_srcs.cosmo.inv_efunc(efeds_xcs_srcs.redshifts[val_inds])\n",
    "\n",
    "# Multiplying the luminosity values and uncertainties by E(z), then reading vals and errs into different\n",
    "#  objects\n",
    "l_arr = l_arr*inv_ezs[..., None]\n",
    "l_vals = l_arr[:, 0]\n",
    "l_errs = l_arr[:, 1:]\n",
    "\n",
    "# Reading temp values and uncertainties into separate objects, using the power-law fit we did earlier to \n",
    "#  predict eROSITA temperatures from our XMM temperature measurements\n",
    "t_vals = eros_xmm_t500.predict(t_arr[:, 0])\n",
    "t_errs = t_arr[:, 1:]\n",
    "\n",
    "# Displaying the median temperature value to justify our choice of normalisation\n",
    "print('The median value of the scaled XGA 0.5-2.0keV 500kpc temperatures is', np.median(t_vals))\n",
    "\n",
    "# Running the scaling relation fit using LIRA, and generating an XGA scaling relation object\n",
    "xga_cal_lt = scaling_relation_lira(l_vals, l_errs, t_vals, t_errs, xga_scaled_lnorm, xga_scaled_tnorm, \n",
    "                               y_name=r\"E(z)$^{-1}$L$_{\\rm{x}, 500kpc, 0.5-2.0}$\", \n",
    "                               x_name=r\"T$_{\\rm{x}, 500kpc}$\")\n",
    "\n",
    "# Finally we change the name of the relation from the auto-generated XGA name. This is what appears in\n",
    "#  the legend when we combine and compare the relations later.\n",
    "xga_cal_lt.name = \"eFEDS-XCS Cal\""
   ]
  },
  {
   "cell_type": "markdown",
   "metadata": {},
   "source": [
    "## Comparing luminosity-temperature relations"
   ]
  },
  {
   "cell_type": "markdown",
   "metadata": {},
   "source": [
    "Here we make the figures that compare the different luminosity-temperature scaling relations that we have just measured - we just use the built in methods of the scaling relation objects so this isn't complicated."
   ]
  },
  {
   "cell_type": "markdown",
   "metadata": {},
   "source": [
    "### The eFEDS and XMM scaling relation comparison - with datapoints"
   ]
  },
  {
   "cell_type": "markdown",
   "metadata": {},
   "source": [
    "Compare the first two scaling relations that we measured, with data point enabled."
   ]
  },
  {
   "cell_type": "code",
   "execution_count": 213,
   "metadata": {},
   "outputs": [
    {
     "data": {
      "image/png": "[encoded data removed]",
      "text/plain": [
       "<Figure size 432x417.6 with 1 Axes>"
      ]
     },
     "metadata": {
      "needs_background": "light"
     },
     "output_type": "display_data"
    }
   ],
   "source": [
    "# Customising which ticks will be shown in the plot, just makes it look nicer\n",
    "x_minor_ticks=[0.5, 2, 3, 4, 5, 6, 7, 8, 9]\n",
    "\n",
    "# XGA scaling relations can just be added together to combine them\n",
    "comb_lt = xga_lt + efeds_lt\n",
    "\n",
    "# We use the scaling relation view method to display and save the figure\n",
    "comb_lt.view(figsize=(6, 5.8), plot_title='', show_data=True, x_lims=Quantity([0.4, 9], 'keV'), \n",
    "             colour_list=['tab:gray', \"darkgreen\"], x_ticks=[1], x_minor_ticks=x_minor_ticks, \n",
    "             save_path=\"output_figures/efeds_xcs_wdata_lt.pdf\")"
   ]
  },
  {
   "cell_type": "markdown",
   "metadata": {},
   "source": [
    "### All scaling relations - without datapoints"
   ]
  },
  {
   "cell_type": "markdown",
   "metadata": {},
   "source": [
    "Now all three scaling relations we measured are put on one plot, but with datapoints turned off as it looks terrible."
   ]
  },
  {
   "cell_type": "code",
   "execution_count": 227,
   "metadata": {},
   "outputs": [
    {
     "data": {
      "image/png": "[encoded data removed]",
      "text/plain": [
       "<Figure size 432x417.6 with 1 Axes>"
      ]
     },
     "metadata": {
      "needs_background": "light"
     },
     "output_type": "display_data"
    }
   ],
   "source": [
    "# Customise the x-axis minor ticks\n",
    "x_minor_ticks = [0.5, 2, 3, 4, 5, 6, 7, 8, 9]\n",
    "\n",
    "# Adding all the LT relations together\n",
    "all_lt = xga_lt + xga_cal_lt + efeds_lt\n",
    "\n",
    "# Viewing the plot\n",
    "all_lt.view(figsize=(6, 5.8), plot_title='', show_data=False, x_lims=Quantity([0.4, 9], 'keV'), x_ticks=[1], \n",
    "            x_minor_ticks=x_minor_ticks)#, save_path=\"output_figures/efeds_lt52.pdf\")"
   ]
  },
  {
   "cell_type": "markdown",
   "metadata": {},
   "source": [
    "We now look at the corner plot for all three scaling relations, to see what effect the calibration has on the parameters measured for the relations:"
   ]
  },
  {
   "cell_type": "code",
   "execution_count": 228,
   "metadata": {},
   "outputs": [
    {
     "name": "stdout",
     "output_type": "stream",
     "text": [
      "Removed no burn in\n",
      "Removed no burn in\n",
      "Removed no burn in\n"
     ]
    },
    {
     "data": {
      "image/png": "[encoded data removed]",
      "text/plain": [
       "<Figure size 432x432 with 6 Axes>"
      ]
     },
     "metadata": {
      "needs_background": "light"
     },
     "output_type": "display_data"
    }
   ],
   "source": [
    "# The custom list of colours for the contours\n",
    "cont_cols = ['tab:gray', 'tab:blue', 'darkgreen']\n",
    "\n",
    "# This method uses the getdist module to produce contours of the model parameters of the\n",
    "#  three different scaling relations\n",
    "all_lt.view_corner((6, 6), [r\"B_{\\rm{LT}}\",r\"A_{\\rm{LT}}\"], contour_colours=cont_cols, \n",
    "                   save_path=\"output_figures/lt52_corner.pdf\")"
   ]
  },
  {
   "cell_type": "markdown",
   "metadata": {},
   "source": [
    "### Generating LaTeX table code to summarise the scaling relations"
   ]
  },
  {
   "cell_type": "markdown",
   "metadata": {},
   "source": [
    "This is for convenience, the values and uncertainties on the scaling relation parameters in LaTeX table code. That makes it easy to just copy and paste into the overleaf. We also define a very simple function to measure medians and 1sigma (sort of) uncertainties:"
   ]
  },
  {
   "cell_type": "code",
   "execution_count": 253,
   "metadata": {},
   "outputs": [],
   "source": [
    "def med_uncert(chain):\n",
    "    par_med = np.percentile(chain, 50)\n",
    "    par_upp = np.percentile(chain, 84.1)-par_med\n",
    "    par_low = par_med-np.percentile(chain, 15.9)\n",
    "    \n",
    "    par_str = \"${v}^{u}_{l}$\".format(v=par_med.round(2), u=\"{+\"+str(par_upp.round(2))+\"}\", \n",
    "                                     l=\"{-\"+str(par_low.round(2))+\"}\")\n",
    "    \n",
    "    return par_str"
   ]
  },
  {
   "cell_type": "code",
   "execution_count": 260,
   "metadata": {},
   "outputs": [
    {
     "name": "stdout",
     "output_type": "stream",
     "text": [
      "Power Law & $0.87^{+0.37}_{-0.28}$ & $0.9^{+0.25}_{-0.24}$ & $0.04^{+0.06}_{-0.03}$\n",
      "\\hline\n",
      "eFEDS & $1.03^{+0.09}_{-0.08}$ & $2.31^{+0.13}_{-0.13}$ & $0.19^{+0.03}_{-0.03}$\n",
      "\\hline\n",
      "eFEDS-XCS & $0.7^{+0.09}_{-0.08}$ & $1.58^{+0.22}_{-0.23}$ & $0.24^{+0.05}_{-0.04}$\n",
      "\\hline\n",
      "eFEDS-XCS Calibrated & $0.69^{+0.09}_{-0.09}$ & $1.76^{+0.25}_{-0.25}$ & $0.22^{+0.06}_{-0.04}$\n",
      "\\hline\n",
      "\n"
     ]
    }
   ],
   "source": [
    "# The template of the table line\n",
    "line_temp = \"{na} & {no} & {sl} & {sc}\\n\"\n",
    "\n",
    "# Setting up the lines for the different luminosity-temperature relations\n",
    "efed_lt_line = line_temp.format(na=\"eFEDS\", no=med_uncert(efeds_lt.chains[:, 1]), \n",
    "                                sl=med_uncert(efeds_lt.chains[:, 0]), sc=med_uncert(efeds_lt.scatter_chain))\n",
    "xga_lt_line = line_temp.format(na=\"eFEDS-XCS\", no=med_uncert(xga_lt.chains[:, 1]), \n",
    "                               sl=med_uncert(xga_lt.chains[:, 0]), sc=med_uncert(xga_lt.scatter_chain))\n",
    "xga_cal_lt_line = line_temp.format(na=\"eFEDS-XCS Calibrated\", no=med_uncert(xga_cal_lt.chains[:, 1]), \n",
    "                                   sl=med_uncert(xga_cal_lt.chains[:, 0]), \n",
    "                                   sc=med_uncert(xga_cal_lt.scatter_chain))\n",
    "\n",
    "lt_tab = pl + \"\\\\hline\\n\" + efed_lt_line + \"\\\\hline\\n\" + xga_lt_line + \"\\\\hline\\n\" + \\\n",
    "         xga_cal_lt_line + \"\\\\hline\\n\"\n",
    "\n",
    "print(lt_tab)"
   ]
  },
  {
   "cell_type": "markdown",
   "metadata": {},
   "source": [
    "## Comparing central coordinates of XCS detected eFEDS-XCS clusters"
   ]
  },
  {
   "cell_type": "markdown",
   "metadata": {},
   "source": [
    "We measure offsets between XAPA centres and eFEDS coordinates for those clusters in the eFEDS-XCS sample that have been detected by XCS in at least one XMM observation."
   ]
  },
  {
   "cell_type": "code",
   "execution_count": 246,
   "metadata": {},
   "outputs": [
    {
     "name": "stderr",
     "output_type": "stream",
     "text": [
      "Collecting Peaks: 100%|██████████| 37/37 [00:00<00:00, 5515.09it/s]\n"
     ]
    },
    {
     "data": {
      "image/png": "[encoded data removed]",
      "text/plain": [
       "<Figure size 432x432 with 1 Axes>"
      ]
     },
     "metadata": {
      "needs_background": "light"
     },
     "output_type": "display_data"
    }
   ],
   "source": [
    "# Lists in which to store the coordinates\n",
    "xcs_coord = []\n",
    "efeds_coord = []\n",
    "\n",
    "# Iterating through the eFEDS-XCS sample\n",
    "with tqdm(desc=\"Collecting Peaks\", total=len(efeds_xcs_srcs)) as onwards:\n",
    "    for src in efeds_xcs_srcs:\n",
    "        # Just grab the eFEDs coordinate from the source object\n",
    "        efeds_coord.append(src.ra_dec)\n",
    "        \n",
    "        # Temporary list to store all the central coordinates of XCS regions in (there would be one per\n",
    "        #  observation if the source was detected in multiple observations)\n",
    "        xcs_cents = []\n",
    "        # Only going through ObsIDs in which the cluster was detected by XCS\n",
    "        for o in src.detected:\n",
    "            if src.detected[o]:\n",
    "                temp_cent = src._regions[o].center\n",
    "                cent = Quantity([temp_cent.ra.value,temp_cent.dec.value], 'deg')\n",
    "                xcs_cents.append(cent)\n",
    "        if len(xcs_cents) == 0:\n",
    "            xcs_cents = np.NaN\n",
    "        \n",
    "        xcs_coord.append(xcs_cents)        \n",
    "        onwards.update(1)\n",
    "        \n",
    "xcs_coord = np.array(xcs_coord)\n",
    "efeds_coord = np.array(efeds_coord)\n",
    "\n",
    "# Then measure offsets and use the source to convert the distance from degrees to kiloparsecs\n",
    "xcs_kpc_dist = []\n",
    "for ef_ind, ef in enumerate(efeds_coord):\n",
    "    if not isinstance(xcs_coord[ef_ind], list):\n",
    "        xcs_kpc_dist.append(np.NaN)\n",
    "    else:\n",
    "        dists = np.sqrt(np.sum((ef - np.array(xcs_coord[ef_ind]))**2, axis=1))\n",
    "        kpc_val = efeds_xcs_srcs[ef_ind].convert_radius(Quantity(dists.min(), 'deg'), 'kpc')\n",
    "        xcs_kpc_dist.append(kpc_val.value)\n",
    "            \n",
    "xcs_kpc_dist = np.array(xcs_kpc_dist)\n",
    "off_bins = np.logspace(0.3, 3.1, 15)\n",
    "\n",
    "# Selecting those entries that are not NaN - NaN values indicate where a cluster wasn't detected by XCS\n",
    "select = np.where(np.isfinite(xcs_kpc_dist))[0]\n",
    "\n",
    "plt.figure(figsize=(6, 6))\n",
    "plt.minorticks_on()\n",
    "plt.tick_params(which='both', top=True, right=True, direction='in')\n",
    "plt.hist(xcs_kpc_dist[select], color='cadetblue', label='eFEDS-XCS Detected', alpha=0.5, bins=off_bins, \n",
    "         histtype='stepfilled')\n",
    "\n",
    "plt.ylabel('N', fontsize=15)\n",
    "plt.xlim(10**0.3)\n",
    "plt.xlabel(r\"Offset [kpc]\", fontsize=15)\n",
    "plt.xscale('log')\n",
    "plt.legend(fontsize=13)\n",
    "plt.tight_layout()\n",
    "plt.savefig('output_figures/eFEDS_XAPA_offset.pdf')\n",
    "plt.show()"
   ]
  },
  {
   "cell_type": "markdown",
   "metadata": {},
   "source": [
    "## Generating a table of XMM observations for the appendices"
   ]
  },
  {
   "cell_type": "markdown",
   "metadata": {},
   "source": [
    "A simple table to inform any readers exactly which data were used for the analyses presented in the paper."
   ]
  },
  {
   "cell_type": "markdown",
   "metadata": {},
   "source": [
    "### Defining a function to output the row values for each source"
   ]
  },
  {
   "cell_type": "markdown",
   "metadata": {},
   "source": [
    "A disgusting function that I'm sure I could make look nicer if I tried, it outputs information on whether certain instruments of an ObsID were used for the spectral fits."
   ]
  },
  {
   "cell_type": "code",
   "execution_count": 247,
   "metadata": {},
   "outputs": [],
   "source": [
    "def horrible_bodge(src, o):\n",
    "    if 'pn' in src.instruments[o]:\n",
    "        pa = \"T\"\n",
    "        p3 = \"F\"\n",
    "        p5 = \"F\"\n",
    "\n",
    "    else:\n",
    "        pa = \"F\"\n",
    "        p3 = \"-\"\n",
    "        p5 = \"-\"\n",
    "\n",
    "    if 'mos1' in src.instruments[o]:\n",
    "        m1a = \"T\"\n",
    "        m13 = \"F\"\n",
    "        m15 = \"F\"\n",
    "    else:\n",
    "        m1a = \"F\"\n",
    "        m13 = \"-\"\n",
    "        m15 = \"-\"\n",
    "\n",
    "    if 'mos2' in src.instruments[o]:\n",
    "        m2a = \"T\"\n",
    "        m23 = \"F\"\n",
    "        m25 = \"F\"\n",
    "    else:\n",
    "        m2a = \"F\"\n",
    "        m23 = \"-\"\n",
    "        m25 = \"-\"\n",
    "\n",
    "    try:\n",
    "        src.get_temperature(Quantity(300, 'kpc'))\n",
    "        sps = src.get_spectra(Quantity(300, 'kpc'), obs_id=o)\n",
    "        if not isinstance(sps, list):\n",
    "            sps = [sps]\n",
    "        for sp in sps:\n",
    "            if sp.instrument == 'pn':\n",
    "                try:\n",
    "                    sp.get_plot_data('constant*tbabs*apec')\n",
    "                    p3 = 'T'\n",
    "                except ModelNotAssociatedError:\n",
    "                    pass\n",
    "            elif sp.instrument == 'mos1':\n",
    "                try:\n",
    "                    sp.get_plot_data('constant*tbabs*apec')\n",
    "                    m13 = 'T'\n",
    "                except ModelNotAssociatedError:\n",
    "                    pass\n",
    "            elif sp.instrument == 'mos2':\n",
    "                try:\n",
    "                    sp.get_plot_data('constant*tbabs*apec')\n",
    "                    m23 = 'T'\n",
    "                except ModelNotAssociatedError:\n",
    "                    pass\n",
    "\n",
    "    except ModelNotAssociatedError:\n",
    "        p3 = \"-\"\n",
    "        m13 = \"-\"\n",
    "        m23 = \"-\"\n",
    "\n",
    "    try:\n",
    "        src.get_temperature(Quantity(500, 'kpc'))\n",
    "        sps = src.get_spectra(Quantity(500, 'kpc'), obs_id=o)\n",
    "        if not isinstance(sps, list):\n",
    "            sps = [sps]\n",
    "        for sp in sps:\n",
    "            if sp.instrument == 'pn':\n",
    "                try:\n",
    "                    sp.get_plot_data('constant*tbabs*apec')\n",
    "                    p5 = 'T'\n",
    "                except ModelNotAssociatedError:\n",
    "                    pass\n",
    "            elif sp.instrument == 'mos1':\n",
    "                try:\n",
    "                    sp.get_plot_data('constant*tbabs*apec')\n",
    "                    m15 = 'T'\n",
    "                except ModelNotAssociatedError:\n",
    "                    pass\n",
    "            elif sp.instrument == 'mos2':\n",
    "                try:\n",
    "                    sp.get_plot_data('constant*tbabs*apec')\n",
    "                    m25 = 'T'\n",
    "                except ModelNotAssociatedError:\n",
    "                    pass\n",
    "\n",
    "    except ModelNotAssociatedError:\n",
    "        p5 = \"-\"\n",
    "        m15 = \"-\"\n",
    "        m25 = \"-\"\n",
    "    \n",
    "    return pa, m1a, m2a, p3, m13, m23, p5, m15, m25"
   ]
  },
  {
   "cell_type": "markdown",
   "metadata": {},
   "source": [
    "This is where the overall table containing ObsID/instrument information is assembled and displayed:"
   ]
  },
  {
   "cell_type": "code",
   "execution_count": 250,
   "metadata": {},
   "outputs": [
    {
     "name": "stdout",
     "output_type": "stream",
     "text": [
      "\\multirow{2}{4em}{\\centering 6605} & 0202940101 & T & T & T & T & F & F & F & F & F \\\\ & 0202940201 & T & T & T & T & T & T & T & T & T \\\\ \n",
      "\\hline\n",
      "144 & 0650381601 & T & T & T & T & T & T & T & T & T \\\\ \n",
      "\\hline\n",
      "7831 & 0784350101 & T & T & T & T & T & T & T & T & T \\\\ \n",
      "\\hline\n",
      "1023 & 0761730501 & T & F & T & T & - & T & T & - & T \\\\ \n",
      "\\hline\n",
      "6125 & 0761730501 & T & F & T & T & - & T & T & - & T \\\\ \n",
      "\\hline\n",
      "339 & 0655340137 & T & T & T & T & T & T & T & T & T \\\\ \n",
      "\\hline\n",
      "4810 & 0655340137 & T & T & T & - & - & - & T & F & F \\\\ \n",
      "\\hline\n",
      "1458 & 0655340135 & T & T & T & T & T & T & T & T & T \\\\ \n",
      "\\hline\n",
      "2079 & 0651170301 & T & T & T & T & T & T & T & T & T \\\\ \n",
      "\\hline\n",
      "569 & 0783881001 & T & T & T & T & T & T & T & T & T \\\\ \n",
      "\\hline\n",
      "1385 & 0783881001 & T & F & T & - & - & - & T & - & T \\\\ \n",
      "\\hline\n",
      "8857 & 0725290142 & T & T & T & - & - & - & - & - & - \\\\ \n",
      "\\hline\n",
      "\\multirow{3}{4em}{\\centering 3171} & 0725300134 & T & F & T & F & - & F & F & - & T \\\\ & 0725290144 & T & T & T & T & F & F & T & T & F \\\\ & 0725290145 & T & F & T & F & - & F & T & - & T \\\\ \n",
      "\\hline\n",
      "\\multirow{2}{4em}{\\centering 8881} & 0725290139 & T & T & T & F & F & F & F & F & F \\\\ & 0725290146 & T & T & T & T & F & F & T & F & T \\\\ \n",
      "\\hline\n",
      "\\multirow{2}{4em}{\\centering 1104} & 0655340160 & T & T & T & F & F & F & T & F & T \\\\ & 0804410201 & T & T & T & T & T & T & T & T & T \\\\ \n",
      "\\hline\n",
      "\\multirow{2}{4em}{\\centering 4232} & 0655340160 & T & T & T & - & - & - & F & F & F \\\\ & 0804410201 & T & T & T & - & - & - & T & T & T \\\\ \n",
      "\\hline\n",
      "\\multirow{3}{4em}{\\centering 5655} & 0725300158 & T & T & T & T & F & F & T & T & F \\\\ & 0725300159 & T & F & T & T & - & T & T & - & T \\\\ & 0725300136 & T & T & F & F & T & - & T & F & - \\\\ \n",
      "\\hline\n",
      "\\multirow{3}{4em}{\\centering 1712} & 0725300140 & T & T & F & F & F & - & T & T & - \\\\ & 0725300132 & T & T & T & T & F & F & T & F & F \\\\ & 0725300131 & T & T & T & T & F & F & F & F & T \\\\ \n",
      "\\hline\n",
      "\\multirow{2}{4em}{\\centering 5774} & 0725300157 & T & T & T & - & - & - & - & - & - \\\\ & 0725310131 & T & T & T & - & - & - & - & - & - \\\\ \n",
      "\\hline\n",
      "\\multirow{2}{4em}{\\centering 3590} & 0725310152 & T & T & T & - & - & - & T & F & F \\\\ & 0725300160 & T & F & T & - & - & - & F & - & F \\\\ \n",
      "\\hline\n",
      "\\multirow{2}{4em}{\\centering 12660} & 0725290131 & T & T & T & T & F & T & T & T & T \\\\ & 0725290154 & T & T & T & F & F & F & F & T & T \\\\ \n",
      "\\hline\n",
      "\\multirow{3}{4em}{\\centering 3585} & 0725310149 & T & T & T & F & F & F & T & F & F \\\\ & 0725310150 & T & T & T & T & F & F & T & F & T \\\\ & 0725310131 & T & F & F & T & - & - & T & - & - \\\\ \n",
      "\\hline\n",
      "\\multirow{2}{4em}{\\centering 5170} & 0725300152 & T & F & T & T & - & F & T & - & F \\\\ & 0725300153 & T & T & T & F & F & F & T & F & F \\\\ \n",
      "\\hline\n",
      "\\multirow{2}{4em}{\\centering 9359} & 0725300145 & T & F & T & - & - & - & T & - & T \\\\ & 0725300146 & T & T & T & - & - & - & T & F & F \\\\ \n",
      "\\hline\n",
      "\\multirow{2}{4em}{\\centering 3259} & 0725300144 & T & T & T & T & F & F & T & T & T \\\\ & 0725300151 & T & T & T & T & T & F & F & F & T \\\\ \n",
      "\\hline\n",
      "\\multirow{5}{4em}{\\centering 7086} & 0725310133 & T & F & F & - & - & - & - & - & - \\\\ & 0725310147 & T & F & T & - & - & - & - & - & - \\\\ & 0725310148 & T & T & T & - & - & - & - & - & - \\\\ & 0725310157 & F & F & T & - & - & - & - & - & - \\\\ & 0402780801 & T & T & T & - & - & - & - & - & - \\\\ \n",
      "\\hline\n",
      "\\multirow{3}{4em}{\\centering 5219} & 0725310158 & T & T & T & F & F & F & T & F & F \\\\ & 0725310147 & T & F & F & F & - & - & T & - & - \\\\ & 0725310159 & T & T & T & T & F & F & T & F & F \\\\ \n",
      "\\hline\n",
      "7084 & 0725310157 & T & T & T & - & - & - & - & - & - \\\\ \n",
      "\\hline\n",
      "\\multirow{2}{4em}{\\centering 885} & 0725310142 & T & T & T & T & T & T & T & T & T \\\\ & 0725310141 & T & F & T & T & - & F & T & - & T \\\\ \n",
      "\\hline\n",
      "2004 & 0800400501 & T & F & T & T & - & T & T & - & T \\\\ \n",
      "\\hline\n",
      "3523 & 0800400501 & T & T & T & F & T & T & F & T & T \\\\ \n",
      "\\hline\n",
      "372 & 0602830401 & T & F & F & T & - & - & T & - & - \\\\ \n",
      "\\hline\n",
      "4253 & 0602830401 & T & F & T & T & - & T & F & - & T \\\\ \n",
      "\\hline\n",
      "\\multirow{2}{4em}{\\centering 534} & 0804410101 & T & T & T & T & T & T & T & T & T \\\\ & 0650381801 & T & T & T & T & T & T & T & T & T \\\\ \n",
      "\\hline\n",
      "100 & 0804410501 & T & T & T & T & T & T & T & T & T \\\\ \n",
      "\\hline\n",
      "857 & 0823710301 & T & T & T & T & T & T & T & T & T \\\\ \n",
      "\\hline\n",
      "12565 & 0802220601 & T & F & F & T & - & - & - & - & - \\\\ \n",
      "\\hline\n",
      "\n"
     ]
    }
   ],
   "source": [
    "o_line = \"& {o} & {pa} & {m1a} & {m2a} & {p3} & {m13} & {m23} & {p5} & {m15} & {m25} \\\\\\ \"\n",
    "\n",
    "l_tabo = \"\"\n",
    "for src in efeds_xcs_srcs:\n",
    "    eid = deepcopy(src.name).split('-')[-1]\n",
    "    \n",
    "    num_obs = len(src.obs_ids)\n",
    "    if num_obs == 1:\n",
    "        cur_line = \"{n} \".format(n=eid)\n",
    "        pa, m1a, m2a, p3, m13, m23, p5, m15, m25 = horrible_bodge(src, src.obs_ids[0])        \n",
    "        cur_line += o_line.format(pa=pa, m1a=m1a, m2a=m2a, p3=p3, m13=m13, m23=m23, p5=p5, m15=m15, m25=m25, \n",
    "                                  o=src.obs_ids[0])\n",
    "    else:\n",
    "        mrn = \"{\\centering \"+str(eid)+\"}\"\n",
    "        cur_line = \"\\multirow{num}{{4em}}{n} \".format(num=\"{\"+str(num_obs)+\"}\", n=mrn)\n",
    "        for o in src.instruments:\n",
    "            pa, m1a, m2a, p3, m13, m23, p5, m15, m25 = horrible_bodge(src, o)\n",
    "                \n",
    "            cur_line += o_line.format(pa=pa, m1a=m1a, m2a=m2a, p3=p3, m13=m13, m23=m23, p5=p5, m15=m15, m25=m25, o=o)\n",
    "    cur_line +=  \"\\n\\hline\\n\"\n",
    "    l_tabo += cur_line\n",
    "\n",
    "print(l_tabo)"
   ]
  },
  {
   "cell_type": "markdown",
   "metadata": {},
   "source": [
    "## Generating a table of the XMM measured values for the appendices"
   ]
  },
  {
   "cell_type": "markdown",
   "metadata": {},
   "source": [
    "All of the temperatures and luminosities we measured (both in 500kpc and 300kpc apertures) are presented in a table at the end of the paper, and this ugly chunk of code is what generates it:"
   ]
  },
  {
   "cell_type": "code",
   "execution_count": 262,
   "metadata": {
    "scrolled": false
   },
   "outputs": [
    {
     "name": "stdout",
     "output_type": "stream",
     "text": [
      "6605 & 130.353 & 0.777 & 0.41 & $1.84^{+0.24}_{-0.28}$ & $1.61^{+0.17}_{-0.13}$ & $0.02^{+0.14}_{-0.02}$ & $0.05^{+0.33}_{-0.05}$ & $0.23^{+0.02}_{-0.02}$ & $0.48^{+0.06}_{-0.06}$ \\\\ \n",
      "\\hline\n",
      "144 & 131.37 & 3.461 & 0.33 & $6.26^{+0.72}_{-0.66}$ & $5.8^{+0.59}_{-0.48}$ & $1.28^{+0.06}_{-0.07}$ & $4.65^{+0.31}_{-0.4}$ & $1.92^{+0.07}_{-0.08}$ & $6.71^{+0.44}_{-0.53}$ \\\\ \n",
      "\\hline\n",
      "7831 & 132.272 & 2.243 & 0.4 & $1.64^{+0.13}_{-0.11}$ & $1.61^{+0.1}_{-0.11}$ & $0.19^{+0.02}_{-0.02}$ & $0.4^{+0.04}_{-0.03}$ & $0.28^{+0.02}_{-0.01}$ & $0.59^{+0.05}_{-0.04}$ \\\\ \n",
      "\\hline\n",
      "1023\\dagger & 132.616 & 0.251 & 0.2 & $3.98^{+0.21}_{-0.2}$ & $3.09^{+0.13}_{-0.13}$ & $0.23^{+0.0}_{-0.0}$ & $0.66^{+0.02}_{-0.02}$ & $0.37^{+0.01}_{-0.01}$ & $0.98^{+0.02}_{-0.03}$ \\\\ \n",
      "\\hline\n",
      "6125 & 132.627 & 0.558 & 0.19 & $1.89^{+0.19}_{-0.18}$ & $2.39^{+0.33}_{-0.31}$ & $0.05^{+0.0}_{-0.0}$ & $0.11^{+0.01}_{-0.01}$ & $0.1^{+0.0}_{-0.01}$ & $0.23^{+0.02}_{-0.02}$ \\\\ \n",
      "\\hline\n",
      "339 & 133.071 & -1.025 & 0.46 & $5.24^{+1.15}_{-0.72}$ & $5.57^{+0.81}_{-0.63}$ & $1.1^{+0.06}_{-0.08}$ & $3.67^{+0.22}_{-0.32}$ & $1.83^{+0.07}_{-0.1}$ & $6.28^{+0.44}_{-0.46}$ \\\\ \n",
      "\\hline\n",
      "4810 & 133.13 & -1.208 & 0.55 & - & $2.06^{+2.12}_{-0.72}$ & - & - & $0.46^{+0.19}_{-0.11}$ & $1.01^{+0.42}_{-0.3}$ \\\\ \n",
      "\\hline\n",
      "1458 & 133.554 & -2.357 & 0.38 & $4.11^{+0.83}_{-0.59}$ & $4.47^{+0.78}_{-0.72}$ & $0.88^{+0.05}_{-0.04}$ & $2.59^{+0.19}_{-0.25}$ & $1.16^{+0.07}_{-0.07}$ & $3.56^{+0.31}_{-0.32}$ \\\\ \n",
      "\\hline\n",
      "2079 & 133.696 & -1.359 & 0.35 & $2.74^{+0.5}_{-0.35}$ & $3.27^{+0.56}_{-0.38}$ & $0.27^{+0.02}_{-0.02}$ & $0.66^{+0.05}_{-0.07}$ & $0.46^{+0.02}_{-0.03}$ & $1.22^{+0.09}_{-0.09}$ \\\\ \n",
      "\\hline\n",
      "569 & 134.086 & 1.78 & 0.72 & $5.15^{+0.19}_{-0.19}$ & $4.94^{+0.16}_{-0.16}$ & $1.92^{+0.03}_{-0.03}$ & $6.31^{+0.11}_{-0.15}$ & $3.0^{+0.03}_{-0.05}$ & $9.63^{+0.21}_{-0.26}$ \\\\ \n",
      "\\hline\n",
      "1385 & 134.113 & 1.705 & 0.73 & - & $6.47^{+1.49}_{-1.11}$ & - & - & $0.71^{+0.04}_{-0.04}$ & $2.62^{+0.22}_{-0.23}$ \\\\ \n",
      "\\hline\n",
      "8857 & 134.658 & 1.449 & 0.75 & - & - & - & - & - & - \\\\ \n",
      "\\hline\n",
      "3171 & 135.269 & 1.279 & 0.25 & $1.37^{+0.43}_{-0.07}$ & $1.7^{+0.24}_{-0.2}$ & $0.14^{+0.04}_{-0.03}$ & $0.28^{+0.09}_{-0.06}$ & $0.26^{+0.03}_{-0.07}$ & $0.57^{+0.04}_{-0.19}$ \\\\ \n",
      "\\hline\n",
      "8881 & 135.314 & 0.844 & 0.31 & $1.36^{+6.48}_{-0.53}$ & $3.27^{+4.56}_{-1.79}$ & $0.04^{+0.02}_{-0.04}$ & $0.09^{+0.07}_{-0.08}$ & $0.11^{+0.03}_{-0.05}$ & $0.3^{+0.11}_{-0.13}$ \\\\ \n",
      "\\hline\n",
      "1104 & 135.372 & -1.648 & 0.31 & $6.57^{+0.54}_{-0.42}$ & $5.96^{+0.32}_{-0.32}$ & $0.57^{+0.01}_{-0.02}$ & $2.14^{+0.08}_{-0.1}$ & $1.09^{+0.12}_{-0.09}$ & $3.87^{+0.31}_{-0.37}$ \\\\ \n",
      "\\hline\n",
      "4232 & 135.443 & -1.632 & 0.29 & - & $1.95^{+0.53}_{-0.3}$ & - & - & $0.1^{+0.01}_{-0.01}$ & $0.22^{+0.03}_{-0.03}$ \\\\ \n",
      "\\hline\n",
      "5655 & 135.735 & 1.774 & 0.12 & $0.89^{+0.13}_{-0.09}$ & $0.97^{+0.11}_{-0.12}$ & $0.01^{+0.0}_{-0.01}$ & $0.02^{+0.01}_{-0.01}$ & $0.0^{+0.01}_{-0.0}$ & $0.0^{+0.02}_{-0.0}$ \\\\ \n",
      "\\hline\n",
      "1712 & 135.74 & 0.805 & 0.52 & $1.29^{+0.41}_{-0.35}$ & $2.08^{+1.74}_{-0.63}$ & $0.15^{+0.11}_{-0.11}$ & $0.29^{+0.17}_{-0.21}$ & $0.61^{+0.26}_{-0.19}$ & $1.37^{+0.55}_{-0.36}$ \\\\ \n",
      "\\hline\n",
      "5774 & 136.036 & 1.432 & 0.84 & - & - & - & - & - & - \\\\ \n",
      "\\hline\n",
      "3590 & 136.078 & 2.112 & 0.81 & - & $4.99^{+8.64}_{-2.3}$ & - & - & $1.02^{+0.21}_{-0.2}$ & $3.28^{+0.75}_{-1.44}$ \\\\ \n",
      "\\hline\n",
      "12660 & 136.08 & -1.077 & 0.31 & $2.07^{+1.13}_{-0.66}$ & $2.68^{+1.51}_{-0.81}$ & $0.05^{+0.02}_{-0.01}$ & $0.12^{+0.04}_{-0.02}$ & $0.08^{+0.02}_{-0.01}$ & $0.2^{+0.06}_{-0.04}$ \\\\ \n",
      "\\hline\n",
      "3585 & 136.42 & 1.539 & 0.64 & $5.96^{+9.62}_{-2.3}$ & $4.0^{+1.46}_{-0.94}$ & $0.41^{+0.1}_{-0.11}$ & $1.44^{+0.26}_{-0.63}$ & $0.88^{+0.16}_{-0.15}$ & $2.55^{+0.41}_{-0.44}$ \\\\ \n",
      "\\hline\n",
      "5170 & 136.473 & 0.379 & 0.37 & $1.13^{+0.18}_{-0.23}$ & $1.22^{+0.14}_{-0.18}$ & $0.2^{+0.04}_{-0.03}$ & $0.38^{+0.08}_{-0.09}$ & $0.23^{+0.03}_{-0.05}$ & $0.44^{+0.08}_{-0.1}$ \\\\ \n",
      "\\hline\n",
      "9359 & 136.502 & -0.423 & 0.3 & - & $1.92^{+1.46}_{-0.51}$ & - & - & $0.1^{+0.06}_{-0.05}$ & $0.22^{+0.15}_{-0.18}$ \\\\ \n",
      "\\hline\n",
      "3259 & 136.504 & 0.015 & 0.2 & $3.73^{+5.01}_{-1.93}$ & $2.53^{+1.06}_{-0.59}$ & $0.07^{+0.02}_{-0.02}$ & $0.19^{+0.07}_{-0.07}$ & $0.12^{+0.04}_{-0.02}$ & $0.3^{+0.08}_{-0.05}$ \\\\ \n",
      "\\hline\n",
      "7086 & 136.654 & 1.148 & 0.79 & - & - & - & - & - & - \\\\ \n",
      "\\hline\n",
      "5219 & 136.977 & 0.961 & 0.74 & $3.81^{+3.83}_{-1.52}$ & $4.74^{+2.17}_{-1.44}$ & $0.88^{+0.12}_{-0.29}$ & $2.48^{+0.62}_{-0.81}$ & $0.99^{+0.18}_{-0.21}$ & $3.12^{+0.51}_{-0.84}$ \\\\ \n",
      "\\hline\n",
      "7084 & 137.025 & 1.331 & 0.66 & - & - & - & - & - & - \\\\ \n",
      "\\hline\n",
      "885 & 137.308 & -0.204 & 0.31 & $3.34^{+0.72}_{-0.63}$ & $2.99^{+0.52}_{-0.37}$ & $0.31^{+0.04}_{-0.04}$ & $0.84^{+0.12}_{-0.12}$ & $0.57^{+0.06}_{-0.04}$ & $1.45^{+0.22}_{-0.17}$ \\\\ \n",
      "\\hline\n",
      "2004 & 137.314 & -1.018 & 0.82 & $3.51^{+1.2}_{-0.67}$ & $5.57^{+4.09}_{-1.96}$ & $1.26^{+0.26}_{-0.23}$ & $3.42^{+0.61}_{-0.74}$ & $0.62^{+0.2}_{-0.37}$ & $2.11^{+0.73}_{-1.18}$ \\\\ \n",
      "\\hline\n",
      "3523 & 137.386 & -0.839 & 1.13 & $5.91^{+2.3}_{-1.09}$ & $5.61^{+2.19}_{-1.11}$ & $1.89^{+0.23}_{-0.29}$ & $6.9^{+0.78}_{-1.28}$ & $2.63^{+0.33}_{-0.4}$ & $9.38^{+1.2}_{-2.15}$ \\\\ \n",
      "\\hline\n",
      "372 & 138.723 & 4.27 & 0.14 & $2.95^{+0.72}_{-0.73}$ & $2.46^{+0.84}_{-0.67}$ & $0.14^{+0.01}_{-0.01}$ & $0.37^{+0.05}_{-0.03}$ & $0.18^{+0.01}_{-0.01}$ & $0.43^{+0.04}_{-0.05}$ \\\\ \n",
      "\\hline\n",
      "4253 & 138.801 & 4.585 & 0.36 & $1.9^{+1.39}_{-0.4}$ & $5.18^{+-5.18}_{-3.76}$ & $0.08^{+0.02}_{-0.02}$ & $0.17^{+0.06}_{-0.05}$ & $0.12^{+0.02}_{-0.12}$ & $0.4^{+0.28}_{-0.19}$ \\\\ \n",
      "\\hline\n",
      "534 & 139.042 & -0.397 & 0.32 & $6.05^{+0.49}_{-0.48}$ & $6.04^{+0.35}_{-0.35}$ & $0.66^{+0.02}_{-0.03}$ & $2.34^{+0.13}_{-0.12}$ & $1.39^{+0.02}_{-0.03}$ & $4.94^{+0.16}_{-0.17}$ \\\\ \n",
      "\\hline\n",
      "100 & 140.338 & 3.291 & 0.33 & $8.0^{+0.36}_{-0.35}$ & $7.83^{+0.31}_{-0.31}$ & $1.32^{+0.02}_{-0.02}$ & $5.42^{+0.15}_{-0.12}$ & $1.97^{+0.03}_{-0.02}$ & $7.97^{+0.22}_{-0.16}$ \\\\ \n",
      "\\hline\n",
      "857 & 140.55 & -0.459 & 0.32 & $6.54^{+0.29}_{-0.29}$ & $5.86^{+0.24}_{-0.23}$ & $0.54^{+0.01}_{-0.01}$ & $2.01^{+0.05}_{-0.05}$ & $0.95^{+0.01}_{-0.01}$ & $3.34^{+0.06}_{-0.09}$ \\\\ \n",
      "\\hline\n",
      "12565 & 142.473 & 0.467 & 0.15 & $1.06^{+0.09}_{-0.13}$ & - & $0.02^{+0.0}_{-0.0}$ & $0.03^{+0.01}_{-0.01}$ & - & - \\\\ \n",
      "\\hline\n",
      "\n"
     ]
    }
   ],
   "source": [
    "# The template for each line of the table\n",
    "line_temp = \"{i} & {r} & {d} & {z} & {t3} & {t5} & {l3} & {l3b} & {l5} & {l5b} \\\\\\ \\n\\hline\\n\"\n",
    "\n",
    "# To store the final table in\n",
    "l_tab = \"\"\n",
    "# Iterating through the sources\n",
    "for src in efeds_xcs_srcs:\n",
    "    r, d = src.ra_dec.round(3).value\n",
    "    try:\n",
    "        t_val = src.get_temperature(Quantity(300, 'kpc')).round(2).value\n",
    "        t3 = \"$\" + str(t_val[0]) + \"^{{+{e}}}\".format(e=t_val[2]) + \"_{{-{e}}}\".format(e=t_val[1]) + \"$\"\n",
    "        \n",
    "        l_val = src.get_luminosities(Quantity(300, 'kpc'), lo_en=Quantity(0.5, 'keV'), \n",
    "                                     hi_en=Quantity(2.0, 'keV')).to(\"10^44 erg/s\").round(2).value\n",
    "        l3 = \"$\" + str(l_val[0]) + \"^{{+{e}}}\".format(e=l_val[2]) + \"_{{-{e}}}\".format(e=l_val[1]) + \"$\"\n",
    "        \n",
    "        l_val = src.get_luminosities(Quantity(300, 'kpc'), lo_en=Quantity(0.01, 'keV'), \n",
    "                                     hi_en=Quantity(100.0, 'keV')).to(\"10^44 erg/s\").round(2).value\n",
    "        l3b = \"$\" + str(l_val[0]) + \"^{{+{e}}}\".format(e=l_val[2]) + \"_{{-{e}}}\".format(e=l_val[1]) + \"$\"\n",
    "        \n",
    "    except ModelNotAssociatedError:\n",
    "        t3 = \"-\"\n",
    "        l3 = \"-\"\n",
    "        l3b = \"-\"\n",
    "        \n",
    "    try:\n",
    "        t_val = src.get_temperature(Quantity(500, 'kpc')).round(2).value\n",
    "        t5 = \"$\" + str(t_val[0]) + \"^{{+{e}}}\".format(e=t_val[2]) + \"_{{-{e}}}\".format(e=t_val[1]) + \"$\"\n",
    "        \n",
    "        l_val = src.get_luminosities(Quantity(500, 'kpc'), lo_en=Quantity(0.5, 'keV'), \n",
    "                                     hi_en=Quantity(2.0, 'keV')).to(\"10^44 erg/s\").round(2).value\n",
    "        \n",
    "        l5 = \"$\" + str(l_val[0]) + \"^{{+{e}}}\".format(e=l_val[2]) + \"_{{-{e}}}\".format(e=l_val[1]) + \"$\"\n",
    "        \n",
    "        l_val = src.get_luminosities(Quantity(500, 'kpc'), lo_en=Quantity(0.01, 'keV'), \n",
    "                                     hi_en=Quantity(100.0, 'keV')).to(\"10^44 erg/s\").round(2).value\n",
    "        l5b = \"$\" + str(l_val[0]) + \"^{{+{e}}}\".format(e=l_val[2]) + \"_{{-{e}}}\".format(e=l_val[1]) + \"$\"\n",
    "        \n",
    "    except ModelNotAssociatedError:\n",
    "        t5 = \"-\"\n",
    "        l5 = \"-\"\n",
    "        l5b = \"-\"\n",
    "    \n",
    "    if src.name != split_cluster:\n",
    "        eid = deepcopy(src.name).split('-')[-1]\n",
    "    else:\n",
    "        eid = deepcopy(src.name).split('-')[-1]+\"\\dagger\"\n",
    "    \n",
    "    l = line_temp.format(r=r, d=d, t3=t3, t5=t5, l3=l3, l3b=l3b, l5=l5, l5b=l5b, z=src.redshift.round(2), \n",
    "                         i=eid)\n",
    "    l_tab += l\n",
    "\n",
    "print(l_tab)"
   ]
  }
 ],
 "metadata": {
  "kernelspec": {
   "display_name": "Python 3",
   "language": "python",
   "name": "python3"
  },
  "language_info": {
   "codemirror_mode": {
    "name": "ipython",
    "version": 3
   },
   "file_extension": ".py",
   "mimetype": "text/x-python",
   "name": "python",
   "nbconvert_exporter": "python",
   "pygments_lexer": "ipython3",
   "version": "3.8.2"
  }
 },
 "nbformat": 4,
 "nbformat_minor": 4
}
